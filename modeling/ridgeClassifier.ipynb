{
 "cells": [
  {
   "cell_type": "code",
   "execution_count": 64,
   "id": "9d748215",
   "metadata": {},
   "outputs": [],
   "source": [
    "from sklearn.model_selection import train_test_split\n",
    "from sklearn.model_selection import cross_val_score\n",
    "from sklearn.metrics import confusion_matrix\n",
    "from sklearn.metrics import classification_report\n",
    "from sklearn.linear_model import RidgeClassifier\n",
    "from sklearn.preprocessing import StandardScaler\n",
    "\n",
    "import pandas as pd\n",
    "import numpy as np"
   ]
  },
  {
   "cell_type": "code",
   "execution_count": 65,
   "id": "8afd852e",
   "metadata": {},
   "outputs": [],
   "source": [
    "df = pd.read_csv('hynix_short.csv',index_col=0,parse_dates=[0], dayfirst=False,infer_datetime_format=True, encoding='cp949')"
   ]
  },
  {
   "cell_type": "code",
   "execution_count": 3,
   "id": "6e65eb76",
   "metadata": {},
   "outputs": [
    {
     "name": "stdout",
     "output_type": "stream",
     "text": [
      "<class 'pandas.core.frame.DataFrame'>\n",
      "DatetimeIndex: 2670 entries, 2010-07-19 to 2021-05-14\n",
      "Data columns (total 45 columns):\n",
      " #   Column     Non-Null Count  Dtype  \n",
      "---  ------     --------------  -----  \n",
      " 0   S금리대비      2670 non-null   int64  \n",
      " 1   H금리대비      2670 non-null   int64  \n",
      " 2   S등락        2670 non-null   int64  \n",
      " 3   H등락        2670 non-null   int64  \n",
      " 4   H등락분류      2670 non-null   int64  \n",
      " 5   S종가        2670 non-null   float64\n",
      " 6   S등락률       2670 non-null   float64\n",
      " 7   H종가        2670 non-null   float64\n",
      " 8   H대비        2670 non-null   int64  \n",
      " 9   H등락률       2670 non-null   float64\n",
      " 10  H시가        2670 non-null   float64\n",
      " 11  H고가        2670 non-null   int64  \n",
      " 12  H저가        2670 non-null   int64  \n",
      " 13  H거래량       2670 non-null   int64  \n",
      " 14  H거래대금      2670 non-null   float64\n",
      " 15  H시가총액      2670 non-null   float64\n",
      " 16  H상장주식수     2670 non-null   int64  \n",
      " 17  원달러환율      2670 non-null   float64\n",
      " 18  유가종가       2670 non-null   float64\n",
      " 19  유가오픈       2670 non-null   float64\n",
      " 20  유가고가       2670 non-null   float64\n",
      " 21  유가저가       2670 non-null   float64\n",
      " 22  유가변동률      2670 non-null   float64\n",
      " 23  한국기준금리     2670 non-null   float64\n",
      " 24  미국기준금리     2670 non-null   float64\n",
      " 25  한미기준금리차이   2670 non-null   float64\n",
      " 26  정기예금환산     2670 non-null   float64\n",
      " 27  SOX종가      2670 non-null   float64\n",
      " 28  SOX변동률     2670 non-null   float64\n",
      " 29  BTC종가      2670 non-null   float64\n",
      " 30  BTC변동률     2670 non-null   float64\n",
      " 31  코스피종가      2670 non-null   float64\n",
      " 32  코스피고가      2670 non-null   float64\n",
      " 33  코스피저가      2670 non-null   float64\n",
      " 34  코스피거래량     2670 non-null   float64\n",
      " 35  코스피변동      2670 non-null   float64\n",
      " 36  코스닥종가      2670 non-null   float64\n",
      " 37  코스닥시가      2670 non-null   float64\n",
      " 38  코스닥고가      2670 non-null   float64\n",
      " 39  코스닥저가      2670 non-null   float64\n",
      " 40  코스닥거래량     2670 non-null   float64\n",
      " 41  코스닥변동      2670 non-null   float64\n",
      " 42  SP종가       2670 non-null   float64\n",
      " 43  SP변동률      2670 non-null   float64\n",
      " 44  반도체수출금액지수  2670 non-null   float64\n",
      "dtypes: float64(35), int64(10)\n",
      "memory usage: 959.5 KB\n"
     ]
    }
   ],
   "source": [
    "df.info()"
   ]
  },
  {
   "cell_type": "code",
   "execution_count": 3,
   "id": "437915a0",
   "metadata": {},
   "outputs": [
    {
     "name": "stdout",
     "output_type": "stream",
     "text": [
      "삼성등락         0\n",
      "등락           0\n",
      "등락지표         0\n",
      "등락분류         0\n",
      "종가           0\n",
      "대비           0\n",
      "등락률          0\n",
      "시가           0\n",
      "고가           0\n",
      "저가           0\n",
      "거래량          0\n",
      "거래대금         0\n",
      "시가총액         0\n",
      "상장주식수        0\n",
      "환율           0\n",
      "유가종가         0\n",
      "유가오픈         0\n",
      "유가고가         0\n",
      "유가저가         0\n",
      "유가변동률        0\n",
      "한국은행기준금리     0\n",
      "연준기준금리       0\n",
      "한미기준금리차이     0\n",
      "반도체수출금액지수    9\n",
      "삼성종가         0\n",
      "SOX종가        0\n",
      "SOX변동률       0\n",
      "BTC종가        0\n",
      "BTC변동률       0\n",
      "종가코스피        0\n",
      "고가코스피        0\n",
      "저가코스피        0\n",
      "거래량코스피       0\n",
      "코스피변동        0\n",
      "종가코스닥        0\n",
      "시가코스닥        0\n",
      "고가코스닥        0\n",
      "저가코스닥        0\n",
      "거래량코스닥       0\n",
      "변동코스닥        0\n",
      "S.P종가        0\n",
      "S.P변동률       0\n",
      "dtype: int64\n",
      "(2670, 42)\n",
      "['삼성등락', '등락', '등락지표', '등락분류', '종가', '대비', '등락률', '시가', '고가', '저가', '거래량', '거래대금', '시가총액', '상장주식수', '환율', '유가종가', '유가오픈', '유가고가', '유가저가', '유가변동률', '한국은행기준금리', '연준기준금리', '한미기준금리차이', '반도체수출금액지수', '삼성종가', 'SOX종가', 'SOX변동률', 'BTC종가', 'BTC변동률', '종가코스피', '고가코스피', '저가코스피', '거래량코스피', '코스피변동', '종가코스닥', '시가코스닥', '고가코스닥', '저가코스닥', '거래량코스닥', '변동코스닥', 'S.P종가', 'S.P변동률']\n"
     ]
    }
   ],
   "source": [
    "print(df.isna().sum())\n",
    "print(df.shape)\n",
    "print(list(df.columns))"
   ]
  },
  {
   "cell_type": "code",
   "execution_count": 4,
   "id": "169ff683",
   "metadata": {},
   "outputs": [],
   "source": [
    "df = df.dropna(axis=0)"
   ]
  },
  {
   "cell_type": "code",
   "execution_count": 70,
   "id": "4381c149",
   "metadata": {},
   "outputs": [],
   "source": [
    "features = df[['S종가', 'H종가','원달러환율', '유가종가', '유가오픈', '유가고가', '유가저가', '유가변동률', '한국기준금리', '미국기준금리', '한미기준금리차이', '정기예금환산', 'SOX종가', 'SOX변동률', 'BTC종가', 'BTC변동률', '코스피종가', '코스피고가', '코스피저가', '코스피거래량', '코스피변동', '코스닥종가', '코스닥시가', '코스닥고가', '코스닥저가', '코스닥거래량', '코스닥변동', 'SP종가', 'SP변동률', '반도체수출금액지수']]\n",
    "target = df['H금리대비']"
   ]
  },
  {
   "cell_type": "code",
   "execution_count": 71,
   "id": "7e61b390",
   "metadata": {},
   "outputs": [],
   "source": [
    "random_seed = np.random.seed(2021)\n",
    "x_train, x_test, y_train, y_test = train_test_split(features, target, test_size=0.1, random_state=random_seed)"
   ]
  },
  {
   "cell_type": "code",
   "execution_count": 72,
   "id": "5915d288",
   "metadata": {},
   "outputs": [
    {
     "data": {
      "text/plain": [
       "RidgeClassifier(class_weight=True, normalize=True)"
      ]
     },
     "execution_count": 72,
     "metadata": {},
     "output_type": "execute_result"
    }
   ],
   "source": [
    "rc = RidgeClassifier()\n",
    "RidgeClassifier(alpha=1.0, class_weight=True, copy_X=True, fit_intercept=True,\n",
    "                max_iter=None, normalize=True, random_state=random_seed, solver='auto',\n",
    "                tol=0.001)"
   ]
  },
  {
   "cell_type": "code",
   "execution_count": 73,
   "id": "bcf912e2",
   "metadata": {},
   "outputs": [
    {
     "name": "stderr",
     "output_type": "stream",
     "text": [
      "c:\\users\\waudy\\appdata\\local\\programs\\python\\python39\\lib\\site-packages\\sklearn\\linear_model\\_ridge.py:147: LinAlgWarning: Ill-conditioned matrix (rcond=6.9567e-22): result may not be accurate.\n",
      "  return linalg.solve(A, Xy, sym_pos=True,\n",
      "c:\\users\\waudy\\appdata\\local\\programs\\python\\python39\\lib\\site-packages\\sklearn\\linear_model\\_ridge.py:147: LinAlgWarning: Ill-conditioned matrix (rcond=6.9567e-22): result may not be accurate.\n",
      "  return linalg.solve(A, Xy, sym_pos=True,\n"
     ]
    },
    {
     "data": {
      "text/plain": [
       "0.6441947565543071"
      ]
     },
     "execution_count": 73,
     "metadata": {},
     "output_type": "execute_result"
    }
   ],
   "source": [
    "rc.fit(x_train, y_train)\n",
    "y_predict = rc.fit(x_train, y_train).predict(x_test)\n",
    "\n",
    "from sklearn import metrics\n",
    "metrics.accuracy_score(y_test, y_predict)\n",
    "\n",
    "#score = rc.score(x_train, y_train)\n",
    "#print(\"Score: \", score)"
   ]
  },
  {
   "cell_type": "code",
   "execution_count": 54,
   "id": "9c260099",
   "metadata": {
    "scrolled": true
   },
   "outputs": [
    {
     "name": "stderr",
     "output_type": "stream",
     "text": [
      "c:\\users\\waudy\\appdata\\local\\programs\\python\\python39\\lib\\site-packages\\sklearn\\linear_model\\_ridge.py:147: LinAlgWarning: Ill-conditioned matrix (rcond=7.73371e-22): result may not be accurate.\n",
      "  return linalg.solve(A, Xy, sym_pos=True,\n",
      "c:\\users\\waudy\\appdata\\local\\programs\\python\\python39\\lib\\site-packages\\sklearn\\linear_model\\_ridge.py:147: LinAlgWarning: Ill-conditioned matrix (rcond=7.99612e-22): result may not be accurate.\n",
      "  return linalg.solve(A, Xy, sym_pos=True,\n",
      "c:\\users\\waudy\\appdata\\local\\programs\\python\\python39\\lib\\site-packages\\sklearn\\linear_model\\_ridge.py:147: LinAlgWarning: Ill-conditioned matrix (rcond=8.01974e-22): result may not be accurate.\n",
      "  return linalg.solve(A, Xy, sym_pos=True,\n",
      "c:\\users\\waudy\\appdata\\local\\programs\\python\\python39\\lib\\site-packages\\sklearn\\linear_model\\_ridge.py:147: LinAlgWarning: Ill-conditioned matrix (rcond=7.73158e-22): result may not be accurate.\n",
      "  return linalg.solve(A, Xy, sym_pos=True,\n",
      "c:\\users\\waudy\\appdata\\local\\programs\\python\\python39\\lib\\site-packages\\sklearn\\linear_model\\_ridge.py:147: LinAlgWarning: Ill-conditioned matrix (rcond=7.74015e-22): result may not be accurate.\n",
      "  return linalg.solve(A, Xy, sym_pos=True,\n",
      "c:\\users\\waudy\\appdata\\local\\programs\\python\\python39\\lib\\site-packages\\sklearn\\linear_model\\_ridge.py:147: LinAlgWarning: Ill-conditioned matrix (rcond=7.54921e-22): result may not be accurate.\n",
      "  return linalg.solve(A, Xy, sym_pos=True,\n",
      "c:\\users\\waudy\\appdata\\local\\programs\\python\\python39\\lib\\site-packages\\sklearn\\linear_model\\_ridge.py:147: LinAlgWarning: Ill-conditioned matrix (rcond=7.62596e-22): result may not be accurate.\n",
      "  return linalg.solve(A, Xy, sym_pos=True,\n",
      "c:\\users\\waudy\\appdata\\local\\programs\\python\\python39\\lib\\site-packages\\sklearn\\linear_model\\_ridge.py:147: LinAlgWarning: Ill-conditioned matrix (rcond=7.45631e-22): result may not be accurate.\n",
      "  return linalg.solve(A, Xy, sym_pos=True,\n",
      "c:\\users\\waudy\\appdata\\local\\programs\\python\\python39\\lib\\site-packages\\sklearn\\linear_model\\_ridge.py:147: LinAlgWarning: Ill-conditioned matrix (rcond=7.83807e-22): result may not be accurate.\n",
      "  return linalg.solve(A, Xy, sym_pos=True,\n",
      "c:\\users\\waudy\\appdata\\local\\programs\\python\\python39\\lib\\site-packages\\sklearn\\linear_model\\_ridge.py:147: LinAlgWarning: Ill-conditioned matrix (rcond=7.64593e-22): result may not be accurate.\n",
      "  return linalg.solve(A, Xy, sym_pos=True,\n"
     ]
    },
    {
     "name": "stdout",
     "output_type": "stream",
     "text": [
      "CV average score: 0.75\n"
     ]
    }
   ],
   "source": [
    "cv_scores = cross_val_score(rc, x_train, y_train, cv=10)\n",
    "print(\"CV average score: %.2f\" % cv_scores.mean())"
   ]
  },
  {
   "cell_type": "code",
   "execution_count": 55,
   "id": "cc9bad47",
   "metadata": {},
   "outputs": [
    {
     "name": "stdout",
     "output_type": "stream",
     "text": [
      "[[108  36]\n",
      " [ 21 102]]\n"
     ]
    }
   ],
   "source": [
    "y_pred = rc.predict(x_test)\n",
    "\n",
    "cm = confusion_matrix(y_test, y_pred)\n",
    "print(cm)"
   ]
  },
  {
   "cell_type": "code",
   "execution_count": 56,
   "id": "924ddf69",
   "metadata": {},
   "outputs": [
    {
     "name": "stdout",
     "output_type": "stream",
     "text": [
      "              precision    recall  f1-score   support\n",
      "\n",
      "           0       0.84      0.75      0.79       144\n",
      "           1       0.74      0.83      0.78       123\n",
      "\n",
      "    accuracy                           0.79       267\n",
      "   macro avg       0.79      0.79      0.79       267\n",
      "weighted avg       0.79      0.79      0.79       267\n",
      "\n"
     ]
    }
   ],
   "source": [
    "cr = classification_report(y_test, y_pred)\n",
    "print(cr)"
   ]
  },
  {
   "cell_type": "code",
   "execution_count": null,
   "id": "c97cf6f0",
   "metadata": {},
   "outputs": [],
   "source": []
  }
 ],
 "metadata": {
  "kernelspec": {
   "display_name": "Python 3",
   "language": "python",
   "name": "python3"
  },
  "language_info": {
   "codemirror_mode": {
    "name": "ipython",
    "version": 3
   },
   "file_extension": ".py",
   "mimetype": "text/x-python",
   "name": "python",
   "nbconvert_exporter": "python",
   "pygments_lexer": "ipython3",
   "version": "3.9.4"
  }
 },
 "nbformat": 4,
 "nbformat_minor": 5
}
