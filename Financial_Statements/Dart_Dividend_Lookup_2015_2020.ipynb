{
 "cells": [
  {
   "cell_type": "code",
   "execution_count": null,
   "id": "1d458719",
   "metadata": {},
   "outputs": [],
   "source": [
    "\"\"\" !pip install opendartreader\n",
    "!pip3 install --upgrade opendartreader\n",
    "!pip3 install beautifulsoup4 \"\"\""
   ]
  },
  {
   "cell_type": "markdown",
   "id": "470e73fc",
   "metadata": {},
   "source": [
    "## 참고 자료 : Open_dart로 배당금 조회하기 \n",
    "## https://psystat.tistory.com/116?category=1176931"
   ]
  },
  {
   "cell_type": "code",
   "execution_count": 1,
   "id": "777f4f01",
   "metadata": {},
   "outputs": [],
   "source": [
    "import OpenDartReader\n",
    "import pandas as pd\n",
    "import numpy as np\n",
    "import csv"
   ]
  },
  {
   "cell_type": "code",
   "execution_count": 12,
   "id": "f16a3b98",
   "metadata": {},
   "outputs": [],
   "source": [
    "api_key = '4b66b1aee7205d6084aae7f8ceaa7c8231c3d38a'\n",
    "dart = OpenDartReader(api_key)\n",
    "all = pd.DataFrame({'년도':['기준'],'종목코드':['000660'], '종목명':['sk하이닉스'], 'EPS': '기준', 'DPS':'기준', '배당수익률': '기준', '배당금총액':'기준'})"
   ]
  },
  {
   "cell_type": "code",
   "execution_count": 114,
   "id": "86424edc",
   "metadata": {},
   "outputs": [],
   "source": [
    "year = 2016 #2020,2019,2018,2017,2016 가능 코드"
   ]
  },
  {
   "cell_type": "code",
   "execution_count": 115,
   "id": "5cb9bc0c",
   "metadata": {},
   "outputs": [],
   "source": [
    "#sk하이닉스,배당관련사항,년도별\n",
    "df = dart.report('000660', '배당', year)\n",
    "df = df.replace(r'-', ' ', regex=True)"
   ]
  },
  {
   "cell_type": "code",
   "execution_count": 116,
   "id": "e903a1ab",
   "metadata": {},
   "outputs": [],
   "source": [
    "df_dps = df[df['se'] == '주당 현금배당금(원)' ]\n",
    "df_eps = df[df['se'].str.contains('주당순이익')]\n",
    "df_yield = df[df['se'].str.contains('현금배당수익률')]\n",
    "df_TD = df[df['se'].str.contains('현금배당금총액')]\n",
    "\n",
    "DPS = int(df_dps[['thstrm']].iloc[0,0].replace(',','').strip()) #주당배당금\n",
    "EPS = int(df_eps[['thstrm']].iloc[0,0].replace(',','').strip()) #주당순이익\n",
    "Yield = float(df_yield[['thstrm']].iloc[0,0].replace(',','').strip())\n",
    "TD = int(df_TD[['thstrm']].iloc[0,0].replace(',','').strip()) * 1000000 #배당금총액, 백만원단위"
   ]
  },
  {
   "cell_type": "code",
   "execution_count": 117,
   "id": "a0335d47",
   "metadata": {},
   "outputs": [
    {
     "data": {
      "text/html": [
       "<div>\n",
       "<style scoped>\n",
       "    .dataframe tbody tr th:only-of-type {\n",
       "        vertical-align: middle;\n",
       "    }\n",
       "\n",
       "    .dataframe tbody tr th {\n",
       "        vertical-align: top;\n",
       "    }\n",
       "\n",
       "    .dataframe thead th {\n",
       "        text-align: right;\n",
       "    }\n",
       "</style>\n",
       "<table border=\"1\" class=\"dataframe\">\n",
       "  <thead>\n",
       "    <tr style=\"text-align: right;\">\n",
       "      <th></th>\n",
       "      <th>년도</th>\n",
       "      <th>종목코드</th>\n",
       "      <th>종목명</th>\n",
       "      <th>EPS</th>\n",
       "      <th>DPS</th>\n",
       "      <th>배당수익률</th>\n",
       "      <th>배당금총액</th>\n",
       "    </tr>\n",
       "  </thead>\n",
       "  <tbody>\n",
       "    <tr>\n",
       "      <th>0</th>\n",
       "      <td>2016</td>\n",
       "      <td>000660</td>\n",
       "      <td>sk하이닉스</td>\n",
       "      <td>4184</td>\n",
       "      <td>600</td>\n",
       "      <td>1.3</td>\n",
       "      <td>423601000000</td>\n",
       "    </tr>\n",
       "  </tbody>\n",
       "</table>\n",
       "</div>"
      ],
      "text/plain": [
       "     년도    종목코드     종목명   EPS  DPS  배당수익률         배당금총액\n",
       "0  2016  000660  sk하이닉스  4184  600    1.3  423601000000"
      ]
     },
     "execution_count": 117,
     "metadata": {},
     "output_type": "execute_result"
    }
   ],
   "source": [
    "dv = pd.DataFrame({'년도':[year],'종목코드':['000660'], '종목명':['sk하이닉스'], 'EPS':[EPS], 'DPS':[DPS], '배당수익률':[Yield], '배당금총액':[TD]})\n",
    "dv"
   ]
  },
  {
   "cell_type": "code",
   "execution_count": 118,
   "id": "3ff524a8",
   "metadata": {},
   "outputs": [],
   "source": [
    "all = pd.concat([all,dv])"
   ]
  },
  {
   "cell_type": "markdown",
   "id": "c759b166",
   "metadata": {},
   "source": [
    "#### 이 코드로는 2015부터 2019년도 자료만 조회 가능합니다.  \n",
    "#### (2014년도 자료는 보통주/우선주 열이 하나 더 있습니다. 따라서 파싱 문제 인듯 합니다.)\n",
    "#### dart.report()내부 파라미터인 year은 bsns_year로, bsns_year기준 전년도 자료를 조회합니다. 이를 유의합니다."
   ]
  },
  {
   "cell_type": "code",
   "execution_count": 141,
   "id": "4dd4d105",
   "metadata": {},
   "outputs": [],
   "source": [
    "year = 2014"
   ]
  },
  {
   "cell_type": "code",
   "execution_count": 142,
   "id": "52c2aa92",
   "metadata": {},
   "outputs": [
    {
     "ename": "AttributeError",
     "evalue": "'NoneType' object has no attribute 'replace'",
     "output_type": "error",
     "traceback": [
      "\u001b[1;31m---------------------------------------------------------------------------\u001b[0m",
      "\u001b[1;31mAttributeError\u001b[0m                            Traceback (most recent call last)",
      "\u001b[1;32m<ipython-input-142-bc864925bb05>\u001b[0m in \u001b[0;36m<module>\u001b[1;34m\u001b[0m\n\u001b[0;32m      1\u001b[0m \u001b[0mdf2\u001b[0m \u001b[1;33m=\u001b[0m \u001b[0mdart\u001b[0m\u001b[1;33m.\u001b[0m\u001b[0mreport\u001b[0m\u001b[1;33m(\u001b[0m\u001b[1;34m'000660'\u001b[0m\u001b[1;33m,\u001b[0m \u001b[1;34m'배당'\u001b[0m\u001b[1;33m,\u001b[0m \u001b[0myear\u001b[0m\u001b[1;33m)\u001b[0m\u001b[1;33m\u001b[0m\u001b[1;33m\u001b[0m\u001b[0m\n\u001b[1;32m----> 2\u001b[1;33m \u001b[0mdf2\u001b[0m \u001b[1;33m=\u001b[0m \u001b[0mdf2\u001b[0m\u001b[1;33m.\u001b[0m\u001b[0mreplace\u001b[0m\u001b[1;33m(\u001b[0m\u001b[1;34mr'-'\u001b[0m\u001b[1;33m,\u001b[0m \u001b[1;34m' '\u001b[0m\u001b[1;33m,\u001b[0m \u001b[0mregex\u001b[0m\u001b[1;33m=\u001b[0m\u001b[1;32mTrue\u001b[0m\u001b[1;33m)\u001b[0m\u001b[1;33m\u001b[0m\u001b[1;33m\u001b[0m\u001b[0m\n\u001b[0m\u001b[0;32m      3\u001b[0m \u001b[1;32mdel\u001b[0m \u001b[0mdf2\u001b[0m\u001b[1;33m[\u001b[0m\u001b[1;34m'stock_knd'\u001b[0m\u001b[1;33m]\u001b[0m\u001b[1;33m\u001b[0m\u001b[1;33m\u001b[0m\u001b[0m\n",
      "\u001b[1;31mAttributeError\u001b[0m: 'NoneType' object has no attribute 'replace'"
     ]
    }
   ],
   "source": [
    "df2 = df2.replace(r'-', ' ', regex=True)\n",
    "del df2['stock_knd']"
   ]
  },
  {
   "cell_type": "code",
   "execution_count": 145,
   "id": "842fa74b",
   "metadata": {},
   "outputs": [],
   "source": [
    "df2 = dart.report('000660', '배당', year)\n",
    "df2"
   ]
  },
  {
   "cell_type": "code",
   "execution_count": 143,
   "id": "5d81315c",
   "metadata": {},
   "outputs": [
    {
     "ename": "TypeError",
     "evalue": "'NoneType' object is not subscriptable",
     "output_type": "error",
     "traceback": [
      "\u001b[1;31m---------------------------------------------------------------------------\u001b[0m",
      "\u001b[1;31mTypeError\u001b[0m                                 Traceback (most recent call last)",
      "\u001b[1;32m<ipython-input-143-bd1c3717ff72>\u001b[0m in \u001b[0;36m<module>\u001b[1;34m\u001b[0m\n\u001b[1;32m----> 1\u001b[1;33m \u001b[0mdf_dps\u001b[0m \u001b[1;33m=\u001b[0m \u001b[0mdf2\u001b[0m\u001b[1;33m[\u001b[0m\u001b[0mdf2\u001b[0m\u001b[1;33m[\u001b[0m\u001b[1;34m'se'\u001b[0m\u001b[1;33m]\u001b[0m \u001b[1;33m==\u001b[0m \u001b[1;34m'주당 현금배당금(원)'\u001b[0m \u001b[1;33m]\u001b[0m\u001b[1;33m\u001b[0m\u001b[1;33m\u001b[0m\u001b[0m\n\u001b[0m\u001b[0;32m      2\u001b[0m \u001b[0mdf_eps\u001b[0m \u001b[1;33m=\u001b[0m \u001b[0mdf2\u001b[0m\u001b[1;33m[\u001b[0m\u001b[0mdf2\u001b[0m\u001b[1;33m[\u001b[0m\u001b[1;34m'se'\u001b[0m\u001b[1;33m]\u001b[0m\u001b[1;33m.\u001b[0m\u001b[0mstr\u001b[0m\u001b[1;33m.\u001b[0m\u001b[0mcontains\u001b[0m\u001b[1;33m(\u001b[0m\u001b[1;34m'주당순이익'\u001b[0m\u001b[1;33m)\u001b[0m\u001b[1;33m]\u001b[0m\u001b[1;33m\u001b[0m\u001b[1;33m\u001b[0m\u001b[0m\n\u001b[0;32m      3\u001b[0m \u001b[0mdf_yield\u001b[0m \u001b[1;33m=\u001b[0m \u001b[0mdf2\u001b[0m\u001b[1;33m[\u001b[0m\u001b[0mdf2\u001b[0m\u001b[1;33m[\u001b[0m\u001b[1;34m'se'\u001b[0m\u001b[1;33m]\u001b[0m\u001b[1;33m.\u001b[0m\u001b[0mstr\u001b[0m\u001b[1;33m.\u001b[0m\u001b[0mcontains\u001b[0m\u001b[1;33m(\u001b[0m\u001b[1;34m'현금배당수익률'\u001b[0m\u001b[1;33m)\u001b[0m\u001b[1;33m]\u001b[0m\u001b[1;33m\u001b[0m\u001b[1;33m\u001b[0m\u001b[0m\n\u001b[0;32m      4\u001b[0m \u001b[0mdf_TD\u001b[0m \u001b[1;33m=\u001b[0m \u001b[0mdf2\u001b[0m\u001b[1;33m[\u001b[0m\u001b[0mdf2\u001b[0m\u001b[1;33m[\u001b[0m\u001b[1;34m'se'\u001b[0m\u001b[1;33m]\u001b[0m\u001b[1;33m.\u001b[0m\u001b[0mstr\u001b[0m\u001b[1;33m.\u001b[0m\u001b[0mcontains\u001b[0m\u001b[1;33m(\u001b[0m\u001b[1;34m'현금배당금총액'\u001b[0m\u001b[1;33m)\u001b[0m\u001b[1;33m]\u001b[0m\u001b[1;33m\u001b[0m\u001b[1;33m\u001b[0m\u001b[0m\n\u001b[0;32m      5\u001b[0m \u001b[1;33m\u001b[0m\u001b[0m\n",
      "\u001b[1;31mTypeError\u001b[0m: 'NoneType' object is not subscriptable"
     ]
    }
   ],
   "source": [
    "df_dps = df2[df2['se'] == '주당 현금배당금(원)' ]\n",
    "df_eps = df2[df2['se'].str.contains('주당순이익')]\n",
    "df_yield = df2[df2['se'].str.contains('현금배당수익률')]\n",
    "df_TD = df2[df2['se'].str.contains('현금배당금총액')]\n",
    "\n",
    "DPS = int(df_dps[['thstrm']].iloc[0,0].replace(',','').strip()) #주당배당금\n",
    "EPS = int(df_eps[['thstrm']].iloc[0,0].replace(',','').strip()) #주당순이익\n",
    "Yield = float(df_yield[['thstrm']].iloc[0,0].replace(',','').strip())\n",
    "TD = int(df_TD[['thstrm']].iloc[0,0].replace(',','').strip()) * 1000000 #배당금총액, 백만원단위"
   ]
  },
  {
   "cell_type": "code",
   "execution_count": 138,
   "id": "b0fe5ea1",
   "metadata": {},
   "outputs": [
    {
     "data": {
      "text/html": [
       "<div>\n",
       "<style scoped>\n",
       "    .dataframe tbody tr th:only-of-type {\n",
       "        vertical-align: middle;\n",
       "    }\n",
       "\n",
       "    .dataframe tbody tr th {\n",
       "        vertical-align: top;\n",
       "    }\n",
       "\n",
       "    .dataframe thead th {\n",
       "        text-align: right;\n",
       "    }\n",
       "</style>\n",
       "<table border=\"1\" class=\"dataframe\">\n",
       "  <thead>\n",
       "    <tr style=\"text-align: right;\">\n",
       "      <th></th>\n",
       "      <th>년도</th>\n",
       "      <th>종목코드</th>\n",
       "      <th>종목명</th>\n",
       "      <th>EPS</th>\n",
       "      <th>DPS</th>\n",
       "      <th>배당수익률</th>\n",
       "      <th>배당금총액</th>\n",
       "    </tr>\n",
       "  </thead>\n",
       "  <tbody>\n",
       "    <tr>\n",
       "      <th>0</th>\n",
       "      <td>2015</td>\n",
       "      <td>000660</td>\n",
       "      <td>sk하이닉스</td>\n",
       "      <td>6002</td>\n",
       "      <td>500</td>\n",
       "      <td>1.6</td>\n",
       "      <td>353001000000</td>\n",
       "    </tr>\n",
       "  </tbody>\n",
       "</table>\n",
       "</div>"
      ],
      "text/plain": [
       "     년도    종목코드     종목명   EPS  DPS  배당수익률         배당금총액\n",
       "0  2015  000660  sk하이닉스  6002  500    1.6  353001000000"
      ]
     },
     "execution_count": 138,
     "metadata": {},
     "output_type": "execute_result"
    }
   ],
   "source": [
    "dv2 = pd.DataFrame({'년도':[year],'종목코드':['000660'], '종목명':['sk하이닉스'], 'EPS':[EPS], 'DPS':[DPS], '배당수익률':[Yield], '배당금총액':[TD]})\n",
    "dv2"
   ]
  },
  {
   "cell_type": "code",
   "execution_count": 139,
   "id": "cde67817",
   "metadata": {},
   "outputs": [],
   "source": [
    "all = pd.concat([all,dv2])"
   ]
  },
  {
   "cell_type": "code",
   "execution_count": 140,
   "id": "cb8f97e7",
   "metadata": {},
   "outputs": [
    {
     "data": {
      "text/html": [
       "<div>\n",
       "<style scoped>\n",
       "    .dataframe tbody tr th:only-of-type {\n",
       "        vertical-align: middle;\n",
       "    }\n",
       "\n",
       "    .dataframe tbody tr th {\n",
       "        vertical-align: top;\n",
       "    }\n",
       "\n",
       "    .dataframe thead th {\n",
       "        text-align: right;\n",
       "    }\n",
       "</style>\n",
       "<table border=\"1\" class=\"dataframe\">\n",
       "  <thead>\n",
       "    <tr style=\"text-align: right;\">\n",
       "      <th></th>\n",
       "      <th>년도</th>\n",
       "      <th>종목코드</th>\n",
       "      <th>종목명</th>\n",
       "      <th>EPS</th>\n",
       "      <th>DPS</th>\n",
       "      <th>배당수익률</th>\n",
       "      <th>배당금총액</th>\n",
       "    </tr>\n",
       "  </thead>\n",
       "  <tbody>\n",
       "    <tr>\n",
       "      <th>0</th>\n",
       "      <td>기준</td>\n",
       "      <td>000660</td>\n",
       "      <td>sk하이닉스</td>\n",
       "      <td>기준</td>\n",
       "      <td>기준</td>\n",
       "      <td>기준</td>\n",
       "      <td>기준</td>\n",
       "    </tr>\n",
       "    <tr>\n",
       "      <th>0</th>\n",
       "      <td>2020</td>\n",
       "      <td>000660</td>\n",
       "      <td>sk하이닉스</td>\n",
       "      <td>6952</td>\n",
       "      <td>1170</td>\n",
       "      <td>1.0</td>\n",
       "      <td>800282000000</td>\n",
       "    </tr>\n",
       "    <tr>\n",
       "      <th>0</th>\n",
       "      <td>2019</td>\n",
       "      <td>000660</td>\n",
       "      <td>sk하이닉스</td>\n",
       "      <td>2943</td>\n",
       "      <td>1000</td>\n",
       "      <td>1.1</td>\n",
       "      <td>684002000000</td>\n",
       "    </tr>\n",
       "    <tr>\n",
       "      <th>0</th>\n",
       "      <td>2018</td>\n",
       "      <td>000660</td>\n",
       "      <td>sk하이닉스</td>\n",
       "      <td>22255</td>\n",
       "      <td>1500</td>\n",
       "      <td>2.5</td>\n",
       "      <td>1026003000000</td>\n",
       "    </tr>\n",
       "    <tr>\n",
       "      <th>0</th>\n",
       "      <td>2017</td>\n",
       "      <td>000660</td>\n",
       "      <td>sk하이닉스</td>\n",
       "      <td>15073</td>\n",
       "      <td>1000</td>\n",
       "      <td>1.3</td>\n",
       "      <td>706002000000</td>\n",
       "    </tr>\n",
       "    <tr>\n",
       "      <th>0</th>\n",
       "      <td>2016</td>\n",
       "      <td>000660</td>\n",
       "      <td>sk하이닉스</td>\n",
       "      <td>4184</td>\n",
       "      <td>600</td>\n",
       "      <td>1.3</td>\n",
       "      <td>423601000000</td>\n",
       "    </tr>\n",
       "    <tr>\n",
       "      <th>0</th>\n",
       "      <td>2015</td>\n",
       "      <td>000660</td>\n",
       "      <td>sk하이닉스</td>\n",
       "      <td>6002</td>\n",
       "      <td>500</td>\n",
       "      <td>1.6</td>\n",
       "      <td>353001000000</td>\n",
       "    </tr>\n",
       "  </tbody>\n",
       "</table>\n",
       "</div>"
      ],
      "text/plain": [
       "     년도    종목코드     종목명    EPS   DPS 배당수익률          배당금총액\n",
       "0    기준  000660  sk하이닉스     기준    기준    기준             기준\n",
       "0  2020  000660  sk하이닉스   6952  1170   1.0   800282000000\n",
       "0  2019  000660  sk하이닉스   2943  1000   1.1   684002000000\n",
       "0  2018  000660  sk하이닉스  22255  1500   2.5  1026003000000\n",
       "0  2017  000660  sk하이닉스  15073  1000   1.3   706002000000\n",
       "0  2016  000660  sk하이닉스   4184   600   1.3   423601000000\n",
       "0  2015  000660  sk하이닉스   6002   500   1.6   353001000000"
      ]
     },
     "execution_count": 140,
     "metadata": {},
     "output_type": "execute_result"
    }
   ],
   "source": [
    "all"
   ]
  },
  {
   "cell_type": "code",
   "execution_count": null,
   "id": "e8f410c7",
   "metadata": {},
   "outputs": [],
   "source": [
    "all.to_csv('sk하이닉스_배당.csv')"
   ]
  }
 ],
 "metadata": {
  "kernelspec": {
   "display_name": "Python 3",
   "language": "python",
   "name": "python3"
  },
  "language_info": {
   "codemirror_mode": {
    "name": "ipython",
    "version": 3
   },
   "file_extension": ".py",
   "mimetype": "text/x-python",
   "name": "python",
   "nbconvert_exporter": "python",
   "pygments_lexer": "ipython3",
   "version": "3.9.4"
  }
 },
 "nbformat": 4,
 "nbformat_minor": 5
}
