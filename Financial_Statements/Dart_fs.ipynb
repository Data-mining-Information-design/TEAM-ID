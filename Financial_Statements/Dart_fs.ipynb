{
 "cells": [
  {
   "cell_type": "code",
   "execution_count": 85,
   "id": "2a0ba6ec",
   "metadata": {},
   "outputs": [
    {
     "data": {
      "text/plain": [
       "' !pip install opendartreader\\n!pip3 install --upgrade opendartreader\\n!pip3 install beautifulsoup4 '"
      ]
     },
     "execution_count": 85,
     "metadata": {},
     "output_type": "execute_result"
    }
   ],
   "source": [
    "\"\"\" !pip install opendartreader\n",
    "!pip3 install --upgrade opendartreader\n",
    "!pip3 install beautifulsoup4 \"\"\""
   ]
  },
  {
   "cell_type": "markdown",
   "id": "11d5ee6f",
   "metadata": {},
   "source": [
    "## 자본, 자산, 당기순이익 조회\n",
    "\n",
    "#### 코드 참고자료 링크 : https://psystat.tistory.com/117?category=1176931 \n",
    "\n",
    "#### 당기순이익이 아닌, 영업이익을 조회해야 하는 이유\n",
    "#### 링크 : https://m.joseilbo.com/news/view.htm?newsid=382751\n",
    "\n",
    "|변수명|변수설명|비고|\n",
    "|:------:|:------:|:----------|\n",
    "|corp|종목코드||\n",
    "|bsns_year|사업연도||\n",
    "|reprt_code|보고서 코드|11011 : 사업보고서|\n",
    "|상동|상동|11012 : 2분기보고서|\n",
    "|상동|상동|11013 : 1분기보고서|\n",
    "|상동|상동|11014 : 3분기보고서|"
   ]
  },
  {
   "cell_type": "code",
   "execution_count": 1,
   "id": "75fa9846",
   "metadata": {},
   "outputs": [],
   "source": [
    "from datetime import datetime\n",
    "import OpenDartReader\n",
    "import pandas as pd\n",
    "import numpy as np\n",
    "import csv"
   ]
  },
  {
   "cell_type": "code",
   "execution_count": 2,
   "id": "28a8f4b8",
   "metadata": {},
   "outputs": [],
   "source": [
    "api_key = '4b66b1aee7205d6084aae7f8ceaa7c8231c3d38a'\n",
    "dart = OpenDartReader(api_key)"
   ]
  },
  {
   "cell_type": "code",
   "execution_count": 3,
   "id": "08255873",
   "metadata": {},
   "outputs": [],
   "source": [
    "fs_2019 = dart.finstate_all(corp= '000660', bsns_year = '2020', fs_div='CFS', reprt_code = 11011)\n",
    "fs_2020_3Q = dart.finstate_all(corp = '000660', bsns_year = '2020', fs_div='CFS', reprt_code=11014)"
   ]
  },
  {
   "cell_type": "code",
   "execution_count": 4,
   "id": "4107ff02",
   "metadata": {
    "scrolled": true
   },
   "outputs": [
    {
     "data": {
      "text/html": [
       "<div>\n",
       "<style scoped>\n",
       "    .dataframe tbody tr th:only-of-type {\n",
       "        vertical-align: middle;\n",
       "    }\n",
       "\n",
       "    .dataframe tbody tr th {\n",
       "        vertical-align: top;\n",
       "    }\n",
       "\n",
       "    .dataframe thead th {\n",
       "        text-align: right;\n",
       "    }\n",
       "</style>\n",
       "<table border=\"1\" class=\"dataframe\">\n",
       "  <thead>\n",
       "    <tr style=\"text-align: right;\">\n",
       "      <th></th>\n",
       "      <th>rcept_no</th>\n",
       "      <th>reprt_code</th>\n",
       "      <th>bsns_year</th>\n",
       "      <th>corp_code</th>\n",
       "      <th>sj_div</th>\n",
       "      <th>sj_nm</th>\n",
       "      <th>account_id</th>\n",
       "      <th>account_nm</th>\n",
       "      <th>account_detail</th>\n",
       "      <th>thstrm_nm</th>\n",
       "      <th>thstrm_amount</th>\n",
       "      <th>frmtrm_nm</th>\n",
       "      <th>frmtrm_amount</th>\n",
       "      <th>ord</th>\n",
       "      <th>thstrm_add_amount</th>\n",
       "      <th>frmtrm_q_nm</th>\n",
       "      <th>frmtrm_q_amount</th>\n",
       "      <th>frmtrm_add_amount</th>\n",
       "    </tr>\n",
       "  </thead>\n",
       "  <tbody>\n",
       "    <tr>\n",
       "      <th>51</th>\n",
       "      <td>20201116001609</td>\n",
       "      <td>11014</td>\n",
       "      <td>2020</td>\n",
       "      <td>00164779</td>\n",
       "      <td>BS</td>\n",
       "      <td>재무상태표</td>\n",
       "      <td>ifrs-full_Equity</td>\n",
       "      <td>자본총계</td>\n",
       "      <td>-</td>\n",
       "      <td>제 73 기 3분기말</td>\n",
       "      <td>50499059000000</td>\n",
       "      <td>제 72 기말</td>\n",
       "      <td>47943195000000</td>\n",
       "      <td>54</td>\n",
       "      <td>NaN</td>\n",
       "      <td>NaN</td>\n",
       "      <td>NaN</td>\n",
       "      <td>NaN</td>\n",
       "    </tr>\n",
       "  </tbody>\n",
       "</table>\n",
       "</div>"
      ],
      "text/plain": [
       "          rcept_no reprt_code bsns_year corp_code sj_div  sj_nm  \\\n",
       "51  20201116001609      11014      2020  00164779     BS  재무상태표   \n",
       "\n",
       "          account_id account_nm account_detail    thstrm_nm   thstrm_amount  \\\n",
       "51  ifrs-full_Equity       자본총계              -  제 73 기 3분기말  50499059000000   \n",
       "\n",
       "   frmtrm_nm   frmtrm_amount ord thstrm_add_amount frmtrm_q_nm  \\\n",
       "51   제 72 기말  47943195000000  54               NaN         NaN   \n",
       "\n",
       "   frmtrm_q_amount frmtrm_add_amount  \n",
       "51             NaN               NaN  "
      ]
     },
     "execution_count": 4,
     "metadata": {},
     "output_type": "execute_result"
    }
   ],
   "source": [
    "fs_2020_3Q.loc[fs_2020_3Q['sj_div'].isin(['BS']) & fs_2020_3Q['account_id'].isin(['ifrs-full_Equity']), ]"
   ]
  },
  {
   "cell_type": "code",
   "execution_count": 15,
   "id": "13ce8d5e",
   "metadata": {
    "scrolled": true
   },
   "outputs": [
    {
     "data": {
      "text/html": [
       "<div>\n",
       "<style scoped>\n",
       "    .dataframe tbody tr th:only-of-type {\n",
       "        vertical-align: middle;\n",
       "    }\n",
       "\n",
       "    .dataframe tbody tr th {\n",
       "        vertical-align: top;\n",
       "    }\n",
       "\n",
       "    .dataframe thead th {\n",
       "        text-align: right;\n",
       "    }\n",
       "</style>\n",
       "<table border=\"1\" class=\"dataframe\">\n",
       "  <thead>\n",
       "    <tr style=\"text-align: right;\">\n",
       "      <th></th>\n",
       "      <th>rcept_no</th>\n",
       "      <th>reprt_code</th>\n",
       "      <th>bsns_year</th>\n",
       "      <th>corp_code</th>\n",
       "      <th>sj_div</th>\n",
       "      <th>sj_nm</th>\n",
       "      <th>account_id</th>\n",
       "      <th>account_nm</th>\n",
       "      <th>account_detail</th>\n",
       "      <th>thstrm_nm</th>\n",
       "      <th>thstrm_amount</th>\n",
       "      <th>frmtrm_nm</th>\n",
       "      <th>frmtrm_amount</th>\n",
       "      <th>ord</th>\n",
       "      <th>thstrm_add_amount</th>\n",
       "      <th>frmtrm_q_nm</th>\n",
       "      <th>frmtrm_q_amount</th>\n",
       "      <th>frmtrm_add_amount</th>\n",
       "    </tr>\n",
       "  </thead>\n",
       "  <tbody>\n",
       "    <tr>\n",
       "      <th>43</th>\n",
       "      <td>20201116001609</td>\n",
       "      <td>11014</td>\n",
       "      <td>2020</td>\n",
       "      <td>00164779</td>\n",
       "      <td>BS</td>\n",
       "      <td>재무상태표</td>\n",
       "      <td>ifrs-full_Liabilities</td>\n",
       "      <td>부채총계</td>\n",
       "      <td>-</td>\n",
       "      <td>제 73 기 3분기말</td>\n",
       "      <td>18768114000000</td>\n",
       "      <td>제 72 기말</td>\n",
       "      <td>16846299000000</td>\n",
       "      <td>45</td>\n",
       "      <td>NaN</td>\n",
       "      <td>NaN</td>\n",
       "      <td>NaN</td>\n",
       "      <td>NaN</td>\n",
       "    </tr>\n",
       "  </tbody>\n",
       "</table>\n",
       "</div>"
      ],
      "text/plain": [
       "          rcept_no reprt_code bsns_year corp_code sj_div  sj_nm  \\\n",
       "43  20201116001609      11014      2020  00164779     BS  재무상태표   \n",
       "\n",
       "               account_id account_nm account_detail    thstrm_nm  \\\n",
       "43  ifrs-full_Liabilities       부채총계              -  제 73 기 3분기말   \n",
       "\n",
       "     thstrm_amount frmtrm_nm   frmtrm_amount ord thstrm_add_amount  \\\n",
       "43  18768114000000   제 72 기말  16846299000000  45               NaN   \n",
       "\n",
       "   frmtrm_q_nm frmtrm_q_amount frmtrm_add_amount  \n",
       "43         NaN             NaN               NaN  "
      ]
     },
     "execution_count": 15,
     "metadata": {},
     "output_type": "execute_result"
    }
   ],
   "source": [
    "fs_2020_3Q.loc[fs_2020_3Q['sj_div'].isin(['BS']) & fs_2020_3Q['account_id'].isin(['ifrs-full_Liabilities']), ]"
   ]
  },
  {
   "cell_type": "code",
   "execution_count": 16,
   "id": "965aa6c1",
   "metadata": {},
   "outputs": [
    {
     "data": {
      "text/html": [
       "<div>\n",
       "<style scoped>\n",
       "    .dataframe tbody tr th:only-of-type {\n",
       "        vertical-align: middle;\n",
       "    }\n",
       "\n",
       "    .dataframe tbody tr th {\n",
       "        vertical-align: top;\n",
       "    }\n",
       "\n",
       "    .dataframe thead th {\n",
       "        text-align: right;\n",
       "    }\n",
       "</style>\n",
       "<table border=\"1\" class=\"dataframe\">\n",
       "  <thead>\n",
       "    <tr style=\"text-align: right;\">\n",
       "      <th></th>\n",
       "      <th>rcept_no</th>\n",
       "      <th>reprt_code</th>\n",
       "      <th>bsns_year</th>\n",
       "      <th>corp_code</th>\n",
       "      <th>sj_div</th>\n",
       "      <th>sj_nm</th>\n",
       "      <th>account_id</th>\n",
       "      <th>account_nm</th>\n",
       "      <th>account_detail</th>\n",
       "      <th>thstrm_nm</th>\n",
       "      <th>thstrm_amount</th>\n",
       "      <th>frmtrm_nm</th>\n",
       "      <th>frmtrm_amount</th>\n",
       "      <th>ord</th>\n",
       "      <th>thstrm_add_amount</th>\n",
       "      <th>frmtrm_q_nm</th>\n",
       "      <th>frmtrm_q_amount</th>\n",
       "      <th>frmtrm_add_amount</th>\n",
       "    </tr>\n",
       "  </thead>\n",
       "  <tbody>\n",
       "    <tr>\n",
       "      <th>72</th>\n",
       "      <td>20201116001609</td>\n",
       "      <td>11014</td>\n",
       "      <td>2020</td>\n",
       "      <td>00164779</td>\n",
       "      <td>CIS</td>\n",
       "      <td>포괄손익계산서</td>\n",
       "      <td>ifrs-full_ProfitLossAttributableToOwnersOfParent</td>\n",
       "      <td>지배기업의 소유주지분</td>\n",
       "      <td>-</td>\n",
       "      <td>제 73 기 3분기</td>\n",
       "      <td>1077262000000</td>\n",
       "      <td>NaN</td>\n",
       "      <td>NaN</td>\n",
       "      <td>22</td>\n",
       "      <td>2988306000000</td>\n",
       "      <td>제 72 기 3분기</td>\n",
       "      <td>493201000000</td>\n",
       "      <td>2131483000000</td>\n",
       "    </tr>\n",
       "  </tbody>\n",
       "</table>\n",
       "</div>"
      ],
      "text/plain": [
       "          rcept_no reprt_code bsns_year corp_code sj_div    sj_nm  \\\n",
       "72  20201116001609      11014      2020  00164779    CIS  포괄손익계산서   \n",
       "\n",
       "                                          account_id   account_nm  \\\n",
       "72  ifrs-full_ProfitLossAttributableToOwnersOfParent  지배기업의 소유주지분   \n",
       "\n",
       "   account_detail   thstrm_nm  thstrm_amount frmtrm_nm frmtrm_amount ord  \\\n",
       "72              -  제 73 기 3분기  1077262000000       NaN           NaN  22   \n",
       "\n",
       "   thstrm_add_amount frmtrm_q_nm frmtrm_q_amount frmtrm_add_amount  \n",
       "72     2988306000000  제 72 기 3분기    493201000000     2131483000000  "
      ]
     },
     "execution_count": 16,
     "metadata": {},
     "output_type": "execute_result"
    }
   ],
   "source": [
    "fs_2020_3Q.loc[fs_2020_3Q['sj_div'].isin(['CIS']) & fs_2020_3Q['account_id'].isin(['ifrs-full_ProfitLossAttributableToOwnersOfParent']), ]  #isin(['CIS']) 입니다. 링크상에서는 'IS' 로 인자값을 주지만, 이러면 나오질 않습니다. 조심"
   ]
  },
  {
   "cell_type": "code",
   "execution_count": 7,
   "id": "4ff13131",
   "metadata": {},
   "outputs": [
    {
     "data": {
      "text/plain": [
       "69267173000000"
      ]
     },
     "execution_count": 7,
     "metadata": {},
     "output_type": "execute_result"
    }
   ],
   "source": [
    "equity = int(fs_2020_3Q.loc[fs_2020_3Q['sj_div'].isin(['BS']) & fs_2020_3Q['account_id'].isin(['ifrs-full_Equity']), 'thstrm_amount'].replace(\",\",\"\")) # 당기자본(자본총계)\n",
    "liability = int(fs_2020_3Q.loc[fs_2020_3Q['sj_div'].isin(['BS'])& fs_2020_3Q['account_id'].isin(['ifrs-full_Liabilities']), 'thstrm_amount'].replace(\",\",\"\"))\n",
    "assets = equity + liability\n",
    "assets"
   ]
  },
  {
   "cell_type": "code",
   "execution_count": 20,
   "id": "a763644f",
   "metadata": {},
   "outputs": [
    {
     "data": {
      "text/plain": [
       "5611925000000"
      ]
     },
     "execution_count": 20,
     "metadata": {},
     "output_type": "execute_result"
    }
   ],
   "source": [
    "profit_2019_3Q = int(fs_2020_3Q.loc[fs_2020_3Q['sj_div'].isin(['CIS']) & fs_2020_3Q['account_id'].isin(['ifrs-full_ProfitLossAttributableToOwnersOfParent']), 'frmtrm_add_amount'].replace(\",\",\"\"))\n",
    "profit_2019 = int(fs_2019.loc[fs_2019['sj_div'].isin(['CIS']) & fs_2019['account_id'].isin(['ifrs-full_ProfitLossAttributableToOwnersOfParent']), 'thstrm_amount'].replace(\",\", \"\"))\n",
    "profit_2020_3Q = int(fs_2020_3Q.loc[fs_2020_3Q['sj_div'].isin(['CIS']) & fs_2020_3Q['account_id'].isin(['ifrs-full_ProfitLossAttributableToOwnersOfParent']), 'thstrm_add_amount'].replace(\",\",\"\"))\n",
    "profit = (profit_2019 - profit_2019_3Q) + profit_2020_3Q\n",
    "profit"
   ]
  },
  {
   "cell_type": "markdown",
   "id": "7874f909",
   "metadata": {},
   "source": [
    "## 주주관련 조회\n",
    "\n",
    "|변수명|변수설명|\n",
    "|:------:|:------:|\n",
    "|shrholdr_co|주주수|\n",
    "|shrholdr_tot_co|전체 주주수|\n",
    "|shrholdr_rate|주주 비율|\n",
    "|hold_stock_co|보유 주식수|\n",
    "|stock_tot_co|총발행 주식수|\n",
    "|hold_stock_rate|보유 주식 비율|\n",
    "\n",
    "#### year 값 가능 범위 (2019, 2018,2017,2016,2015) 이외에는 조회값이 나오질 않네요.. "
   ]
  },
  {
   "cell_type": "code",
   "execution_count": 24,
   "id": "406cb8ad",
   "metadata": {},
   "outputs": [],
   "source": [
    "year = 2019"
   ]
  },
  {
   "cell_type": "code",
   "execution_count": 25,
   "id": "67d0a099",
   "metadata": {},
   "outputs": [
    {
     "data": {
      "text/html": [
       "<div>\n",
       "<style scoped>\n",
       "    .dataframe tbody tr th:only-of-type {\n",
       "        vertical-align: middle;\n",
       "    }\n",
       "\n",
       "    .dataframe tbody tr th {\n",
       "        vertical-align: top;\n",
       "    }\n",
       "\n",
       "    .dataframe thead th {\n",
       "        text-align: right;\n",
       "    }\n",
       "</style>\n",
       "<table border=\"1\" class=\"dataframe\">\n",
       "  <thead>\n",
       "    <tr style=\"text-align: right;\">\n",
       "      <th></th>\n",
       "      <th>rcept_no</th>\n",
       "      <th>corp_cls</th>\n",
       "      <th>corp_code</th>\n",
       "      <th>corp_name</th>\n",
       "      <th>se</th>\n",
       "      <th>shrholdr_co</th>\n",
       "      <th>shrholdr_tot_co</th>\n",
       "      <th>shrholdr_rate</th>\n",
       "      <th>hold_stock_co</th>\n",
       "      <th>stock_tot_co</th>\n",
       "      <th>hold_stock_rate</th>\n",
       "    </tr>\n",
       "  </thead>\n",
       "  <tbody>\n",
       "    <tr>\n",
       "      <th>0</th>\n",
       "      <td>20200330004441</td>\n",
       "      <td>Y</td>\n",
       "      <td>00164779</td>\n",
       "      <td>SK하이닉스</td>\n",
       "      <td>소액주주</td>\n",
       "      <td>181,783</td>\n",
       "      <td>-</td>\n",
       "      <td>99.99%</td>\n",
       "      <td>441,033,663</td>\n",
       "      <td>-</td>\n",
       "      <td>60.58%</td>\n",
       "    </tr>\n",
       "  </tbody>\n",
       "</table>\n",
       "</div>"
      ],
      "text/plain": [
       "         rcept_no corp_cls corp_code corp_name    se shrholdr_co  \\\n",
       "0  20200330004441        Y  00164779    SK하이닉스  소액주주     181,783   \n",
       "\n",
       "  shrholdr_tot_co shrholdr_rate hold_stock_co stock_tot_co hold_stock_rate  \n",
       "0               -        99.99%   441,033,663            -          60.58%  "
      ]
     },
     "execution_count": 25,
     "metadata": {},
     "output_type": "execute_result"
    }
   ],
   "source": [
    "total_num_shares = dart.report('000660', '소액주주', year)\n",
    "total_num_shares"
   ]
  },
  {
   "cell_type": "markdown",
   "id": "6fcff7b8",
   "metadata": {},
   "source": [
    "## 지표계산(EPS, BPS, ROE)"
   ]
  },
  {
   "cell_type": "code",
   "execution_count": 26,
   "id": "e9c9632f",
   "metadata": {
    "scrolled": true
   },
   "outputs": [
    {
     "data": {
      "text/html": [
       "<div>\n",
       "<style scoped>\n",
       "    .dataframe tbody tr th:only-of-type {\n",
       "        vertical-align: middle;\n",
       "    }\n",
       "\n",
       "    .dataframe tbody tr th {\n",
       "        vertical-align: top;\n",
       "    }\n",
       "\n",
       "    .dataframe thead th {\n",
       "        text-align: right;\n",
       "    }\n",
       "</style>\n",
       "<table border=\"1\" class=\"dataframe\">\n",
       "  <thead>\n",
       "    <tr style=\"text-align: right;\">\n",
       "      <th></th>\n",
       "      <th>일자</th>\n",
       "      <th>종가</th>\n",
       "      <th>대비</th>\n",
       "      <th>등락률</th>\n",
       "      <th>시가</th>\n",
       "      <th>고가</th>\n",
       "      <th>저가</th>\n",
       "      <th>거래량</th>\n",
       "      <th>거래대금</th>\n",
       "      <th>시가총액</th>\n",
       "      <th>상장주식수</th>\n",
       "    </tr>\n",
       "  </thead>\n",
       "  <tbody>\n",
       "    <tr>\n",
       "      <th>0</th>\n",
       "      <td>2021/04/12</td>\n",
       "      <td>137500</td>\n",
       "      <td>-2500</td>\n",
       "      <td>-1.79</td>\n",
       "      <td>140500</td>\n",
       "      <td>140500</td>\n",
       "      <td>136000</td>\n",
       "      <td>3878457</td>\n",
       "      <td>534353588500</td>\n",
       "      <td>100100325187500</td>\n",
       "      <td>728002365</td>\n",
       "    </tr>\n",
       "    <tr>\n",
       "      <th>1</th>\n",
       "      <td>2021/04/09</td>\n",
       "      <td>140000</td>\n",
       "      <td>-4000</td>\n",
       "      <td>-2.78</td>\n",
       "      <td>144000</td>\n",
       "      <td>145000</td>\n",
       "      <td>139500</td>\n",
       "      <td>3276077</td>\n",
       "      <td>464472291000</td>\n",
       "      <td>101920331100000</td>\n",
       "      <td>728002365</td>\n",
       "    </tr>\n",
       "    <tr>\n",
       "      <th>2</th>\n",
       "      <td>2021/04/08</td>\n",
       "      <td>144000</td>\n",
       "      <td>500</td>\n",
       "      <td>0.35</td>\n",
       "      <td>143500</td>\n",
       "      <td>146000</td>\n",
       "      <td>142500</td>\n",
       "      <td>3774932</td>\n",
       "      <td>543862222000</td>\n",
       "      <td>104832340560000</td>\n",
       "      <td>728002365</td>\n",
       "    </tr>\n",
       "    <tr>\n",
       "      <th>3</th>\n",
       "      <td>2021/04/07</td>\n",
       "      <td>143500</td>\n",
       "      <td>500</td>\n",
       "      <td>0.35</td>\n",
       "      <td>146000</td>\n",
       "      <td>146000</td>\n",
       "      <td>142500</td>\n",
       "      <td>2424687</td>\n",
       "      <td>348944024000</td>\n",
       "      <td>104468339377500</td>\n",
       "      <td>728002365</td>\n",
       "    </tr>\n",
       "    <tr>\n",
       "      <th>4</th>\n",
       "      <td>2021/04/06</td>\n",
       "      <td>143000</td>\n",
       "      <td>0</td>\n",
       "      <td>0.00</td>\n",
       "      <td>147000</td>\n",
       "      <td>147000</td>\n",
       "      <td>141500</td>\n",
       "      <td>3753217</td>\n",
       "      <td>540574718000</td>\n",
       "      <td>104104338195000</td>\n",
       "      <td>728002365</td>\n",
       "    </tr>\n",
       "  </tbody>\n",
       "</table>\n",
       "</div>"
      ],
      "text/plain": [
       "           일자      종가    대비   등락률      시가      고가      저가      거래량  \\\n",
       "0  2021/04/12  137500 -2500 -1.79  140500  140500  136000  3878457   \n",
       "1  2021/04/09  140000 -4000 -2.78  144000  145000  139500  3276077   \n",
       "2  2021/04/08  144000   500  0.35  143500  146000  142500  3774932   \n",
       "3  2021/04/07  143500   500  0.35  146000  146000  142500  2424687   \n",
       "4  2021/04/06  143000     0  0.00  147000  147000  141500  3753217   \n",
       "\n",
       "           거래대금             시가총액      상장주식수  \n",
       "0  534353588500  100100325187500  728002365  \n",
       "1  464472291000  101920331100000  728002365  \n",
       "2  543862222000  104832340560000  728002365  \n",
       "3  348944024000  104468339377500  728002365  \n",
       "4  540574718000  104104338195000  728002365  "
      ]
     },
     "execution_count": 26,
     "metadata": {},
     "output_type": "execute_result"
    }
   ],
   "source": [
    "df = pd.read_csv('sk하이닉스_2759_20210413.csv', encoding = 'cp949')\n",
    "df.head()"
   ]
  },
  {
   "cell_type": "code",
   "execution_count": 27,
   "id": "ab74d305",
   "metadata": {},
   "outputs": [
    {
     "data": {
      "text/plain": [
       "728002365"
      ]
     },
     "execution_count": 27,
     "metadata": {},
     "output_type": "execute_result"
    }
   ],
   "source": [
    "df['상장주식수'].iat[0]"
   ]
  },
  {
   "cell_type": "code",
   "execution_count": 28,
   "id": "ac66d7bf",
   "metadata": {},
   "outputs": [],
   "source": [
    "total_stocks = int(df['시가총액'].iat[0]/df['종가'].iat[0]) #상장주식수 = 시가총액/종가"
   ]
  },
  {
   "cell_type": "code",
   "execution_count": 32,
   "id": "489598aa",
   "metadata": {},
   "outputs": [
    {
     "name": "stdout",
     "output_type": "stream",
     "text": [
      "EPS: 7709, PER: 17.84\n"
     ]
    }
   ],
   "source": [
    "EPS = profit/total_stocks\n",
    "PER = df['종가'].iat[0]/EPS\n",
    "print('EPS: {}, PER: {}'.format(int(round(EPS)), round(PER, 2)))"
   ]
  },
  {
   "cell_type": "code",
   "execution_count": 33,
   "id": "59ed6a52",
   "metadata": {},
   "outputs": [
    {
     "name": "stdout",
     "output_type": "stream",
     "text": [
      "BPS: 69367, PBR: 1.98\n"
     ]
    }
   ],
   "source": [
    "BPS = equity/total_stocks\n",
    "PBR = df['종가'].iat[0]/BPS\n",
    "print('BPS: {}, PBR: {}'.format(int(round(BPS)), round(PBR, 2)))"
   ]
  },
  {
   "cell_type": "code",
   "execution_count": 34,
   "id": "b807c96a",
   "metadata": {},
   "outputs": [
    {
     "name": "stdout",
     "output_type": "stream",
     "text": [
      "ROE: 11, ROA: 8.1\n"
     ]
    }
   ],
   "source": [
    "ROE = PBR/PER\n",
    "ROA = profit/assets\n",
    "print('ROE: {}, ROA: {}'.format(int(round(ROE*100, 2)), round(ROA*100, 2)))"
   ]
  },
  {
   "cell_type": "markdown",
   "id": "ad425e46",
   "metadata": {},
   "source": [
    "## 매출 / 영업이익 조회"
   ]
  },
  {
   "cell_type": "code",
   "execution_count": 1,
   "id": "d4dea53d",
   "metadata": {},
   "outputs": [
    {
     "ename": "NameError",
     "evalue": "name 'dart' is not defined",
     "output_type": "error",
     "traceback": [
      "\u001b[1;31m---------------------------------------------------------------------------\u001b[0m",
      "\u001b[1;31mNameError\u001b[0m                                 Traceback (most recent call last)",
      "\u001b[1;32m<ipython-input-1-f376e4fcf5f8>\u001b[0m in \u001b[0;36m<module>\u001b[1;34m\u001b[0m\n\u001b[1;32m----> 1\u001b[1;33m \u001b[0mdf_sales\u001b[0m \u001b[1;33m=\u001b[0m \u001b[0mdart\u001b[0m\u001b[1;33m.\u001b[0m\u001b[0mfinstate_all\u001b[0m\u001b[1;33m(\u001b[0m\u001b[1;34m'000660'\u001b[0m\u001b[1;33m,\u001b[0m \u001b[1;36m2019\u001b[0m\u001b[1;33m)\u001b[0m\u001b[1;33m\u001b[0m\u001b[1;33m\u001b[0m\u001b[0m\n\u001b[0m\u001b[0;32m      2\u001b[0m \u001b[0mdf_sales\u001b[0m\u001b[1;33m.\u001b[0m\u001b[0mloc\u001b[0m\u001b[1;33m[\u001b[0m\u001b[0mdf\u001b[0m\u001b[1;33m[\u001b[0m\u001b[1;34m'sj_div'\u001b[0m\u001b[1;33m]\u001b[0m\u001b[1;33m.\u001b[0m\u001b[0misin\u001b[0m\u001b[1;33m(\u001b[0m\u001b[1;33m[\u001b[0m\u001b[1;34m'CIS'\u001b[0m\u001b[1;33m]\u001b[0m\u001b[1;33m)\u001b[0m \u001b[1;33m&\u001b[0m \u001b[0mdf_sales\u001b[0m\u001b[1;33m[\u001b[0m\u001b[1;34m'account_nm'\u001b[0m\u001b[1;33m]\u001b[0m\u001b[1;33m.\u001b[0m\u001b[0misin\u001b[0m\u001b[1;33m(\u001b[0m\u001b[1;33m[\u001b[0m\u001b[1;34m'매출액'\u001b[0m\u001b[1;33m]\u001b[0m\u001b[1;33m)\u001b[0m\u001b[1;33m,\u001b[0m \u001b[1;33m]\u001b[0m\u001b[1;33m\u001b[0m\u001b[1;33m\u001b[0m\u001b[0m\n",
      "\u001b[1;31mNameError\u001b[0m: name 'dart' is not defined"
     ]
    }
   ],
   "source": [
    "df_sales = dart.finstate_all('000660', 2019)\n",
    "df_sales.loc[df['sj_div'].isin(['CIS']) & df_sales['account_nm'].isin(['매출액']), ]"
   ]
  },
  {
   "cell_type": "code",
   "execution_count": null,
   "id": "9f7070b8",
   "metadata": {},
   "outputs": [],
   "source": [
    "df_sales.loc[df['sj_div'].isin(['CIS']) & df_sales['account_nm'].isin(['영업이익']), ]"
   ]
  }
 ],
 "metadata": {
  "kernelspec": {
   "display_name": "Python 3",
   "language": "python",
   "name": "python3"
  },
  "language_info": {
   "codemirror_mode": {
    "name": "ipython",
    "version": 3
   },
   "file_extension": ".py",
   "mimetype": "text/x-python",
   "name": "python",
   "nbconvert_exporter": "python",
   "pygments_lexer": "ipython3",
   "version": "3.9.4"
  }
 },
 "nbformat": 4,
 "nbformat_minor": 5
}
