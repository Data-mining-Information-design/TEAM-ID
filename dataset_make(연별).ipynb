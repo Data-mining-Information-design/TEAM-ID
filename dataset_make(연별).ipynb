{
 "cells": [
  {
   "cell_type": "code",
   "execution_count": 19,
   "id": "c6375da9",
   "metadata": {},
   "outputs": [],
   "source": [
    "import csv\n",
    "import pandas as pd\n",
    "import numpy\n",
    "#import openpyxl"
   ]
  },
  {
   "cell_type": "code",
   "execution_count": 53,
   "id": "1706939f",
   "metadata": {},
   "outputs": [],
   "source": [
    "# #절대경로 지정, 각 파일에 맞게 수정\n",
    "# roa = pd.read_csv(\"./(연)roa.csv\",encoding='cp949')\n",
    "# roe = pd.read_csv(\"./(연)roe.csv\",encoding='cp949')\n",
    "# allo = pd.read_csv(\"./(연)sk하이닉스배당.csv\",encoding='cp949')\n",
    "# net_income = pd.read_csv(\"./(연)단기순이익.csv\",encoding='cp949')\n",
    "# sales_increase = pd.read_csv(\"./(연)매출증가액.csv\",encoding='cp949')\n",
    "# ope_profit = pd.read_csv(\"./(연)영업이익증가율.csv\",encoding='cp949')\n",
    "hinix = pd.read_csv('./dataset/hinix_shortdown2.csv', encoding='cp949')\n",
    "h = pd.read_csv('C:/Users/jongm/OneDrive - 광운대학교/ProjecTS/팀id 파일들/TEAM-ID/dataset/미국_기준_금리.csv', encoding='cp949')"
   ]
  },
  {
   "cell_type": "code",
   "execution_count": 54,
   "metadata": {},
   "outputs": [
    {
     "output_type": "execute_result",
     "data": {
      "text/plain": [
       "              날짜        종가    대비    등락률        시가      고가      저가       거래량  \\\n",
       "0     2000-01-04   25750.0  1650   6.85   24700.0   26450   24200   9275920   \n",
       "1     2000-01-05   23100.0 -2650 -10.29   24150.0   24950   22750   7414370   \n",
       "2     2000-01-06   21900.0 -1200  -5.19   23500.0   23800   21650   6529140   \n",
       "3     2000-01-07   21700.0  -200  -0.91   21200.0   22400   20800  10492270   \n",
       "4     2000-01-10   21500.0  -200  -0.92   22000.0   22300   21500   8041690   \n",
       "...          ...       ...   ...    ...       ...     ...     ...       ...   \n",
       "5270  2021-05-10  130000.0   500   0.39  131000.0  131000  128500   3067077   \n",
       "5271  2021-05-11  123000.0 -7000  -5.38  127000.0  127500  122000   9882491   \n",
       "5272  2021-05-12  119500.0 -3500  -2.85  123000.0  123500  119000   8272196   \n",
       "5273  2021-05-13  117500.0 -2000  -1.67  116000.0  118500  115500   6042025   \n",
       "5274  2021-05-14  118500.0  1000   0.85  118500.0  120000  118000   3227201   \n",
       "\n",
       "              거래대금          시가총액      상장주식수      환율   유가종가   유가오픈   유가고가  \\\n",
       "0     2.360000e+11  8.990000e+12  348934856  1134.5  25.55  25.20  25.69   \n",
       "1     1.780000e+11  8.060000e+12  348934856  1125.8  24.91  25.50  25.61   \n",
       "2     1.480000e+11  7.640000e+12  348934856  1130.1  24.78  24.80  25.34   \n",
       "3     2.280000e+11  1.070000e+13  493934856  1139.1  24.22  24.65  25.00   \n",
       "4     1.750000e+11  1.060000e+13  493934856  1145.9  24.67  24.22  24.75   \n",
       "...            ...           ...        ...     ...    ...    ...    ...   \n",
       "5270  3.980000e+11  9.460000e+13  728002365  1121.4  64.92  65.57  65.75   \n",
       "5271  1.230000e+12  8.950000e+13  728002365  1114.6  65.28  64.90  65.50   \n",
       "5272  9.980000e+11  8.700000e+13  728002365  1119.1  66.08  65.46  66.63   \n",
       "5273  7.070000e+11  8.550000e+13  728002365  1123.5  63.82  65.75  65.81   \n",
       "5274  3.840000e+11  8.630000e+13  728002365  1130.6  65.37  63.83  65.62   \n",
       "\n",
       "       유가저가  유가변동률  한국은행기준금리  \n",
       "0     24.71  -0.20      4.75  \n",
       "1     24.87  -2.50      4.75  \n",
       "2     24.51  -0.52      4.75  \n",
       "3     24.15  -2.26      4.75  \n",
       "4     24.02   1.86      4.75  \n",
       "...     ...    ...       ...  \n",
       "5270  63.95   0.03      0.50  \n",
       "5271  63.68   0.55      0.50  \n",
       "5272  64.97   1.23      0.50  \n",
       "5273  63.09  -3.42      0.50  \n",
       "5274  63.33   2.43      0.50  \n",
       "\n",
       "[5275 rows x 18 columns]"
      ],
      "text/html": "<div>\n<style scoped>\n    .dataframe tbody tr th:only-of-type {\n        vertical-align: middle;\n    }\n\n    .dataframe tbody tr th {\n        vertical-align: top;\n    }\n\n    .dataframe thead th {\n        text-align: right;\n    }\n</style>\n<table border=\"1\" class=\"dataframe\">\n  <thead>\n    <tr style=\"text-align: right;\">\n      <th></th>\n      <th>날짜</th>\n      <th>종가</th>\n      <th>대비</th>\n      <th>등락률</th>\n      <th>시가</th>\n      <th>고가</th>\n      <th>저가</th>\n      <th>거래량</th>\n      <th>거래대금</th>\n      <th>시가총액</th>\n      <th>상장주식수</th>\n      <th>환율</th>\n      <th>유가종가</th>\n      <th>유가오픈</th>\n      <th>유가고가</th>\n      <th>유가저가</th>\n      <th>유가변동률</th>\n      <th>한국은행기준금리</th>\n    </tr>\n  </thead>\n  <tbody>\n    <tr>\n      <th>0</th>\n      <td>2000-01-04</td>\n      <td>25750.0</td>\n      <td>1650</td>\n      <td>6.85</td>\n      <td>24700.0</td>\n      <td>26450</td>\n      <td>24200</td>\n      <td>9275920</td>\n      <td>2.360000e+11</td>\n      <td>8.990000e+12</td>\n      <td>348934856</td>\n      <td>1134.5</td>\n      <td>25.55</td>\n      <td>25.20</td>\n      <td>25.69</td>\n      <td>24.71</td>\n      <td>-0.20</td>\n      <td>4.75</td>\n    </tr>\n    <tr>\n      <th>1</th>\n      <td>2000-01-05</td>\n      <td>23100.0</td>\n      <td>-2650</td>\n      <td>-10.29</td>\n      <td>24150.0</td>\n      <td>24950</td>\n      <td>22750</td>\n      <td>7414370</td>\n      <td>1.780000e+11</td>\n      <td>8.060000e+12</td>\n      <td>348934856</td>\n      <td>1125.8</td>\n      <td>24.91</td>\n      <td>25.50</td>\n      <td>25.61</td>\n      <td>24.87</td>\n      <td>-2.50</td>\n      <td>4.75</td>\n    </tr>\n    <tr>\n      <th>2</th>\n      <td>2000-01-06</td>\n      <td>21900.0</td>\n      <td>-1200</td>\n      <td>-5.19</td>\n      <td>23500.0</td>\n      <td>23800</td>\n      <td>21650</td>\n      <td>6529140</td>\n      <td>1.480000e+11</td>\n      <td>7.640000e+12</td>\n      <td>348934856</td>\n      <td>1130.1</td>\n      <td>24.78</td>\n      <td>24.80</td>\n      <td>25.34</td>\n      <td>24.51</td>\n      <td>-0.52</td>\n      <td>4.75</td>\n    </tr>\n    <tr>\n      <th>3</th>\n      <td>2000-01-07</td>\n      <td>21700.0</td>\n      <td>-200</td>\n      <td>-0.91</td>\n      <td>21200.0</td>\n      <td>22400</td>\n      <td>20800</td>\n      <td>10492270</td>\n      <td>2.280000e+11</td>\n      <td>1.070000e+13</td>\n      <td>493934856</td>\n      <td>1139.1</td>\n      <td>24.22</td>\n      <td>24.65</td>\n      <td>25.00</td>\n      <td>24.15</td>\n      <td>-2.26</td>\n      <td>4.75</td>\n    </tr>\n    <tr>\n      <th>4</th>\n      <td>2000-01-10</td>\n      <td>21500.0</td>\n      <td>-200</td>\n      <td>-0.92</td>\n      <td>22000.0</td>\n      <td>22300</td>\n      <td>21500</td>\n      <td>8041690</td>\n      <td>1.750000e+11</td>\n      <td>1.060000e+13</td>\n      <td>493934856</td>\n      <td>1145.9</td>\n      <td>24.67</td>\n      <td>24.22</td>\n      <td>24.75</td>\n      <td>24.02</td>\n      <td>1.86</td>\n      <td>4.75</td>\n    </tr>\n    <tr>\n      <th>...</th>\n      <td>...</td>\n      <td>...</td>\n      <td>...</td>\n      <td>...</td>\n      <td>...</td>\n      <td>...</td>\n      <td>...</td>\n      <td>...</td>\n      <td>...</td>\n      <td>...</td>\n      <td>...</td>\n      <td>...</td>\n      <td>...</td>\n      <td>...</td>\n      <td>...</td>\n      <td>...</td>\n      <td>...</td>\n      <td>...</td>\n    </tr>\n    <tr>\n      <th>5270</th>\n      <td>2021-05-10</td>\n      <td>130000.0</td>\n      <td>500</td>\n      <td>0.39</td>\n      <td>131000.0</td>\n      <td>131000</td>\n      <td>128500</td>\n      <td>3067077</td>\n      <td>3.980000e+11</td>\n      <td>9.460000e+13</td>\n      <td>728002365</td>\n      <td>1121.4</td>\n      <td>64.92</td>\n      <td>65.57</td>\n      <td>65.75</td>\n      <td>63.95</td>\n      <td>0.03</td>\n      <td>0.50</td>\n    </tr>\n    <tr>\n      <th>5271</th>\n      <td>2021-05-11</td>\n      <td>123000.0</td>\n      <td>-7000</td>\n      <td>-5.38</td>\n      <td>127000.0</td>\n      <td>127500</td>\n      <td>122000</td>\n      <td>9882491</td>\n      <td>1.230000e+12</td>\n      <td>8.950000e+13</td>\n      <td>728002365</td>\n      <td>1114.6</td>\n      <td>65.28</td>\n      <td>64.90</td>\n      <td>65.50</td>\n      <td>63.68</td>\n      <td>0.55</td>\n      <td>0.50</td>\n    </tr>\n    <tr>\n      <th>5272</th>\n      <td>2021-05-12</td>\n      <td>119500.0</td>\n      <td>-3500</td>\n      <td>-2.85</td>\n      <td>123000.0</td>\n      <td>123500</td>\n      <td>119000</td>\n      <td>8272196</td>\n      <td>9.980000e+11</td>\n      <td>8.700000e+13</td>\n      <td>728002365</td>\n      <td>1119.1</td>\n      <td>66.08</td>\n      <td>65.46</td>\n      <td>66.63</td>\n      <td>64.97</td>\n      <td>1.23</td>\n      <td>0.50</td>\n    </tr>\n    <tr>\n      <th>5273</th>\n      <td>2021-05-13</td>\n      <td>117500.0</td>\n      <td>-2000</td>\n      <td>-1.67</td>\n      <td>116000.0</td>\n      <td>118500</td>\n      <td>115500</td>\n      <td>6042025</td>\n      <td>7.070000e+11</td>\n      <td>8.550000e+13</td>\n      <td>728002365</td>\n      <td>1123.5</td>\n      <td>63.82</td>\n      <td>65.75</td>\n      <td>65.81</td>\n      <td>63.09</td>\n      <td>-3.42</td>\n      <td>0.50</td>\n    </tr>\n    <tr>\n      <th>5274</th>\n      <td>2021-05-14</td>\n      <td>118500.0</td>\n      <td>1000</td>\n      <td>0.85</td>\n      <td>118500.0</td>\n      <td>120000</td>\n      <td>118000</td>\n      <td>3227201</td>\n      <td>3.840000e+11</td>\n      <td>8.630000e+13</td>\n      <td>728002365</td>\n      <td>1130.6</td>\n      <td>65.37</td>\n      <td>63.83</td>\n      <td>65.62</td>\n      <td>63.33</td>\n      <td>2.43</td>\n      <td>0.50</td>\n    </tr>\n  </tbody>\n</table>\n<p>5275 rows × 18 columns</p>\n</div>"
     },
     "metadata": {},
     "execution_count": 54
    }
   ],
   "source": [
    "h\n",
    "hinix"
   ]
  },
  {
   "cell_type": "code",
   "execution_count": 57,
   "id": "6d4b1431",
   "metadata": {
    "scrolled": true
   },
   "outputs": [
    {
     "output_type": "execute_result",
     "data": {
      "text/plain": [
       "              날짜        종가    대비    등락률        시가      고가      저가       거래량  \\\n",
       "0     2000-01-04   25750.0  1650   6.85   24700.0   26450   24200   9275920   \n",
       "1     2000-01-05   23100.0 -2650 -10.29   24150.0   24950   22750   7414370   \n",
       "2     2000-01-06   21900.0 -1200  -5.19   23500.0   23800   21650   6529140   \n",
       "3     2000-01-07   21700.0  -200  -0.91   21200.0   22400   20800  10492270   \n",
       "4     2000-01-10   21500.0  -200  -0.92   22000.0   22300   21500   8041690   \n",
       "...          ...       ...   ...    ...       ...     ...     ...       ...   \n",
       "5270  2021-05-10  130000.0   500   0.39  131000.0  131000  128500   3067077   \n",
       "5271  2021-05-11  123000.0 -7000  -5.38  127000.0  127500  122000   9882491   \n",
       "5272  2021-05-12  119500.0 -3500  -2.85  123000.0  123500  119000   8272196   \n",
       "5273  2021-05-13  117500.0 -2000  -1.67  116000.0  118500  115500   6042025   \n",
       "5274  2021-05-14  118500.0  1000   0.85  118500.0  120000  118000   3227201   \n",
       "\n",
       "              거래대금          시가총액      상장주식수      환율   유가종가   유가오픈   유가고가  \\\n",
       "0     2.360000e+11  8.990000e+12  348934856  1134.5  25.55  25.20  25.69   \n",
       "1     1.780000e+11  8.060000e+12  348934856  1125.8  24.91  25.50  25.61   \n",
       "2     1.480000e+11  7.640000e+12  348934856  1130.1  24.78  24.80  25.34   \n",
       "3     2.280000e+11  1.070000e+13  493934856  1139.1  24.22  24.65  25.00   \n",
       "4     1.750000e+11  1.060000e+13  493934856  1145.9  24.67  24.22  24.75   \n",
       "...            ...           ...        ...     ...    ...    ...    ...   \n",
       "5270  3.980000e+11  9.460000e+13  728002365  1121.4  64.92  65.57  65.75   \n",
       "5271  1.230000e+12  8.950000e+13  728002365  1114.6  65.28  64.90  65.50   \n",
       "5272  9.980000e+11  8.700000e+13  728002365  1119.1  66.08  65.46  66.63   \n",
       "5273  7.070000e+11  8.550000e+13  728002365  1123.5  63.82  65.75  65.81   \n",
       "5274  3.840000e+11  8.630000e+13  728002365  1130.6  65.37  63.83  65.62   \n",
       "\n",
       "       유가저가  유가변동률  한국은행기준금리  DFEDTAR  \n",
       "0     24.71  -0.20      4.75      5.5  \n",
       "1     24.87  -2.50      4.75      5.5  \n",
       "2     24.51  -0.52      4.75      5.5  \n",
       "3     24.15  -2.26      4.75      5.5  \n",
       "4     24.02   1.86      4.75      5.5  \n",
       "...     ...    ...       ...      ...  \n",
       "5270  63.95   0.03      0.50      NaN  \n",
       "5271  63.68   0.55      0.50      NaN  \n",
       "5272  64.97   1.23      0.50      NaN  \n",
       "5273  63.09  -3.42      0.50      NaN  \n",
       "5274  63.33   2.43      0.50      NaN  \n",
       "\n",
       "[5275 rows x 19 columns]"
      ],
      "text/html": "<div>\n<style scoped>\n    .dataframe tbody tr th:only-of-type {\n        vertical-align: middle;\n    }\n\n    .dataframe tbody tr th {\n        vertical-align: top;\n    }\n\n    .dataframe thead th {\n        text-align: right;\n    }\n</style>\n<table border=\"1\" class=\"dataframe\">\n  <thead>\n    <tr style=\"text-align: right;\">\n      <th></th>\n      <th>날짜</th>\n      <th>종가</th>\n      <th>대비</th>\n      <th>등락률</th>\n      <th>시가</th>\n      <th>고가</th>\n      <th>저가</th>\n      <th>거래량</th>\n      <th>거래대금</th>\n      <th>시가총액</th>\n      <th>상장주식수</th>\n      <th>환율</th>\n      <th>유가종가</th>\n      <th>유가오픈</th>\n      <th>유가고가</th>\n      <th>유가저가</th>\n      <th>유가변동률</th>\n      <th>한국은행기준금리</th>\n      <th>DFEDTAR</th>\n    </tr>\n  </thead>\n  <tbody>\n    <tr>\n      <th>0</th>\n      <td>2000-01-04</td>\n      <td>25750.0</td>\n      <td>1650</td>\n      <td>6.85</td>\n      <td>24700.0</td>\n      <td>26450</td>\n      <td>24200</td>\n      <td>9275920</td>\n      <td>2.360000e+11</td>\n      <td>8.990000e+12</td>\n      <td>348934856</td>\n      <td>1134.5</td>\n      <td>25.55</td>\n      <td>25.20</td>\n      <td>25.69</td>\n      <td>24.71</td>\n      <td>-0.20</td>\n      <td>4.75</td>\n      <td>5.5</td>\n    </tr>\n    <tr>\n      <th>1</th>\n      <td>2000-01-05</td>\n      <td>23100.0</td>\n      <td>-2650</td>\n      <td>-10.29</td>\n      <td>24150.0</td>\n      <td>24950</td>\n      <td>22750</td>\n      <td>7414370</td>\n      <td>1.780000e+11</td>\n      <td>8.060000e+12</td>\n      <td>348934856</td>\n      <td>1125.8</td>\n      <td>24.91</td>\n      <td>25.50</td>\n      <td>25.61</td>\n      <td>24.87</td>\n      <td>-2.50</td>\n      <td>4.75</td>\n      <td>5.5</td>\n    </tr>\n    <tr>\n      <th>2</th>\n      <td>2000-01-06</td>\n      <td>21900.0</td>\n      <td>-1200</td>\n      <td>-5.19</td>\n      <td>23500.0</td>\n      <td>23800</td>\n      <td>21650</td>\n      <td>6529140</td>\n      <td>1.480000e+11</td>\n      <td>7.640000e+12</td>\n      <td>348934856</td>\n      <td>1130.1</td>\n      <td>24.78</td>\n      <td>24.80</td>\n      <td>25.34</td>\n      <td>24.51</td>\n      <td>-0.52</td>\n      <td>4.75</td>\n      <td>5.5</td>\n    </tr>\n    <tr>\n      <th>3</th>\n      <td>2000-01-07</td>\n      <td>21700.0</td>\n      <td>-200</td>\n      <td>-0.91</td>\n      <td>21200.0</td>\n      <td>22400</td>\n      <td>20800</td>\n      <td>10492270</td>\n      <td>2.280000e+11</td>\n      <td>1.070000e+13</td>\n      <td>493934856</td>\n      <td>1139.1</td>\n      <td>24.22</td>\n      <td>24.65</td>\n      <td>25.00</td>\n      <td>24.15</td>\n      <td>-2.26</td>\n      <td>4.75</td>\n      <td>5.5</td>\n    </tr>\n    <tr>\n      <th>4</th>\n      <td>2000-01-10</td>\n      <td>21500.0</td>\n      <td>-200</td>\n      <td>-0.92</td>\n      <td>22000.0</td>\n      <td>22300</td>\n      <td>21500</td>\n      <td>8041690</td>\n      <td>1.750000e+11</td>\n      <td>1.060000e+13</td>\n      <td>493934856</td>\n      <td>1145.9</td>\n      <td>24.67</td>\n      <td>24.22</td>\n      <td>24.75</td>\n      <td>24.02</td>\n      <td>1.86</td>\n      <td>4.75</td>\n      <td>5.5</td>\n    </tr>\n    <tr>\n      <th>...</th>\n      <td>...</td>\n      <td>...</td>\n      <td>...</td>\n      <td>...</td>\n      <td>...</td>\n      <td>...</td>\n      <td>...</td>\n      <td>...</td>\n      <td>...</td>\n      <td>...</td>\n      <td>...</td>\n      <td>...</td>\n      <td>...</td>\n      <td>...</td>\n      <td>...</td>\n      <td>...</td>\n      <td>...</td>\n      <td>...</td>\n      <td>...</td>\n    </tr>\n    <tr>\n      <th>5270</th>\n      <td>2021-05-10</td>\n      <td>130000.0</td>\n      <td>500</td>\n      <td>0.39</td>\n      <td>131000.0</td>\n      <td>131000</td>\n      <td>128500</td>\n      <td>3067077</td>\n      <td>3.980000e+11</td>\n      <td>9.460000e+13</td>\n      <td>728002365</td>\n      <td>1121.4</td>\n      <td>64.92</td>\n      <td>65.57</td>\n      <td>65.75</td>\n      <td>63.95</td>\n      <td>0.03</td>\n      <td>0.50</td>\n      <td>NaN</td>\n    </tr>\n    <tr>\n      <th>5271</th>\n      <td>2021-05-11</td>\n      <td>123000.0</td>\n      <td>-7000</td>\n      <td>-5.38</td>\n      <td>127000.0</td>\n      <td>127500</td>\n      <td>122000</td>\n      <td>9882491</td>\n      <td>1.230000e+12</td>\n      <td>8.950000e+13</td>\n      <td>728002365</td>\n      <td>1114.6</td>\n      <td>65.28</td>\n      <td>64.90</td>\n      <td>65.50</td>\n      <td>63.68</td>\n      <td>0.55</td>\n      <td>0.50</td>\n      <td>NaN</td>\n    </tr>\n    <tr>\n      <th>5272</th>\n      <td>2021-05-12</td>\n      <td>119500.0</td>\n      <td>-3500</td>\n      <td>-2.85</td>\n      <td>123000.0</td>\n      <td>123500</td>\n      <td>119000</td>\n      <td>8272196</td>\n      <td>9.980000e+11</td>\n      <td>8.700000e+13</td>\n      <td>728002365</td>\n      <td>1119.1</td>\n      <td>66.08</td>\n      <td>65.46</td>\n      <td>66.63</td>\n      <td>64.97</td>\n      <td>1.23</td>\n      <td>0.50</td>\n      <td>NaN</td>\n    </tr>\n    <tr>\n      <th>5273</th>\n      <td>2021-05-13</td>\n      <td>117500.0</td>\n      <td>-2000</td>\n      <td>-1.67</td>\n      <td>116000.0</td>\n      <td>118500</td>\n      <td>115500</td>\n      <td>6042025</td>\n      <td>7.070000e+11</td>\n      <td>8.550000e+13</td>\n      <td>728002365</td>\n      <td>1123.5</td>\n      <td>63.82</td>\n      <td>65.75</td>\n      <td>65.81</td>\n      <td>63.09</td>\n      <td>-3.42</td>\n      <td>0.50</td>\n      <td>NaN</td>\n    </tr>\n    <tr>\n      <th>5274</th>\n      <td>2021-05-14</td>\n      <td>118500.0</td>\n      <td>1000</td>\n      <td>0.85</td>\n      <td>118500.0</td>\n      <td>120000</td>\n      <td>118000</td>\n      <td>3227201</td>\n      <td>3.840000e+11</td>\n      <td>8.630000e+13</td>\n      <td>728002365</td>\n      <td>1130.6</td>\n      <td>65.37</td>\n      <td>63.83</td>\n      <td>65.62</td>\n      <td>63.33</td>\n      <td>2.43</td>\n      <td>0.50</td>\n      <td>NaN</td>\n    </tr>\n  </tbody>\n</table>\n<p>5275 rows × 19 columns</p>\n</div>"
     },
     "metadata": {},
     "execution_count": 57
    }
   ],
   "source": [
    "csv_df = pd.merge(hinix, h, how=\"left\", on='날짜')\n",
    "csv_df"
   ]
  },
  {
   "cell_type": "code",
   "execution_count": 61,
   "id": "5728f429",
   "metadata": {},
   "outputs": [],
   "source": [
    "csv_df.to_csv(\"./dataset/hinix_shortdown2.csv\",encoding='cp949', index=False)"
   ]
  }
 ],
 "metadata": {
  "kernelspec": {
   "name": "python386jvsc74a57bd0d05600023db0a302af6ed14ce4da9274f018e6c90bf07a1d5b0536fcf65a971c",
   "display_name": "Python 3.8.6 64-bit"
  },
  "language_info": {
   "codemirror_mode": {
    "name": "ipython",
    "version": 3
   },
   "file_extension": ".py",
   "mimetype": "text/x-python",
   "name": "python",
   "nbconvert_exporter": "python",
   "pygments_lexer": "ipython3",
   "version": "3.8.6"
  },
  "metadata": {
   "interpreter": {
    "hash": "d05600023db0a302af6ed14ce4da9274f018e6c90bf07a1d5b0536fcf65a971c"
   }
  }
 },
 "nbformat": 4,
 "nbformat_minor": 5
}