{
  "nbformat": 4,
  "nbformat_minor": 0,
  "metadata": {
    "colab": {
      "name": "sk_hynix_LSTM.ipynb",
      "provenance": [],
      "collapsed_sections": [],
      "toc_visible": true
    },
    "kernelspec": {
      "name": "python3",
      "display_name": "Python 3"
    },
    "language_info": {
      "name": "python"
    }
  },
  "cells": [
    {
      "cell_type": "code",
      "metadata": {
        "colab": {
          "base_uri": "https://localhost:8080/"
        },
        "id": "alPQV-M9Scic",
        "outputId": "2e569b4c-0a33-4455-9594-dfa334dd7abc"
      },
      "source": [
        "#주피터에선 코드가 잘 작동하지 않습니다. colab에서 코드 돌려보시는걸 추천합니다.\n",
        "from google.colab import drive\n",
        "drive.mount('/content/drive')"
      ],
      "execution_count": 1,
      "outputs": [
        {
          "output_type": "stream",
          "text": [
            "Mounted at /content/drive\n"
          ],
          "name": "stdout"
        }
      ]
    },
    {
      "cell_type": "code",
      "metadata": {
        "id": "BT6jq786UGTk"
      },
      "source": [
        "from tensorflow.keras import Sequential\n",
        "from tensorflow.keras.layers import Dense, LSTM, Dropout\n",
        "import numpy as np\n",
        "import matplotlib.pyplot as plt\n",
        "import pandas as pd\n",
        "import re\n",
        "import csv\n",
        "from sklearn.model_selection import train_test_split"
      ],
      "execution_count": 36,
      "outputs": []
    },
    {
      "cell_type": "code",
      "metadata": {
        "id": "io29xNpDSrnF"
      },
      "source": [
        "sk_hynix = '/content/drive/My Drive/hinix_long.csv'\n",
        "df = pd.read_csv(sk_hynix,encoding='UTF-8', index_col='날짜')"
      ],
      "execution_count": 37,
      "outputs": []
    },
    {
      "cell_type": "code",
      "metadata": {
        "colab": {
          "base_uri": "https://localhost:8080/",
          "height": 312
        },
        "id": "KFLuH4MgTeTX",
        "outputId": "0a7abbcf-7361-4eb1-ac14-f6b8d370e4aa"
      },
      "source": [
        "df.head()"
      ],
      "execution_count": 38,
      "outputs": [
        {
          "output_type": "execute_result",
          "data": {
            "text/html": [
              "<div>\n",
              "<style scoped>\n",
              "    .dataframe tbody tr th:only-of-type {\n",
              "        vertical-align: middle;\n",
              "    }\n",
              "\n",
              "    .dataframe tbody tr th {\n",
              "        vertical-align: top;\n",
              "    }\n",
              "\n",
              "    .dataframe thead th {\n",
              "        text-align: right;\n",
              "    }\n",
              "</style>\n",
              "<table border=\"1\" class=\"dataframe\">\n",
              "  <thead>\n",
              "    <tr style=\"text-align: right;\">\n",
              "      <th></th>\n",
              "      <th>종가</th>\n",
              "      <th>대비</th>\n",
              "      <th>등락률</th>\n",
              "      <th>시가</th>\n",
              "      <th>고가</th>\n",
              "      <th>저가</th>\n",
              "      <th>거래량</th>\n",
              "      <th>거래대금</th>\n",
              "      <th>시가총액</th>\n",
              "      <th>상장주식수</th>\n",
              "      <th>자본금순이익률</th>\n",
              "      <th>자기자본순이익율</th>\n",
              "      <th>주당배당금</th>\n",
              "      <th>배당수익률</th>\n",
              "      <th>배당금총액</th>\n",
              "      <th>당기순이익</th>\n",
              "      <th>매출액증가율</th>\n",
              "      <th>영업이익(조단위)</th>\n",
              "      <th>반도체 수출금액지수</th>\n",
              "      <th>금리</th>\n",
              "      <th>WIT 현물유가등락률</th>\n",
              "      <th>원달러환율(원)</th>\n",
              "    </tr>\n",
              "    <tr>\n",
              "      <th>날짜</th>\n",
              "      <th></th>\n",
              "      <th></th>\n",
              "      <th></th>\n",
              "      <th></th>\n",
              "      <th></th>\n",
              "      <th></th>\n",
              "      <th></th>\n",
              "      <th></th>\n",
              "      <th></th>\n",
              "      <th></th>\n",
              "      <th></th>\n",
              "      <th></th>\n",
              "      <th></th>\n",
              "      <th></th>\n",
              "      <th></th>\n",
              "      <th></th>\n",
              "      <th></th>\n",
              "      <th></th>\n",
              "      <th></th>\n",
              "      <th></th>\n",
              "      <th></th>\n",
              "      <th></th>\n",
              "    </tr>\n",
              "  </thead>\n",
              "  <tbody>\n",
              "    <tr>\n",
              "      <th>2000</th>\n",
              "      <td>17703</td>\n",
              "      <td>-83</td>\n",
              "      <td>-0.551618</td>\n",
              "      <td>17780</td>\n",
              "      <td>18341</td>\n",
              "      <td>17207</td>\n",
              "      <td>10801089</td>\n",
              "      <td>1.770000e+11</td>\n",
              "      <td>8.670000e+12</td>\n",
              "      <td>490276394</td>\n",
              "      <td>-1.04</td>\n",
              "      <td>-0.36</td>\n",
              "      <td>0</td>\n",
              "      <td>0.0</td>\n",
              "      <td>0.0</td>\n",
              "      <td>-2.570000e+12</td>\n",
              "      <td>0.12</td>\n",
              "      <td>0.0160</td>\n",
              "      <td>40.603333</td>\n",
              "      <td>5.25</td>\n",
              "      <td>58.775000</td>\n",
              "      <td>1259.7</td>\n",
              "    </tr>\n",
              "    <tr>\n",
              "      <th>2001</th>\n",
              "      <td>2785</td>\n",
              "      <td>-7</td>\n",
              "      <td>0.048293</td>\n",
              "      <td>2804</td>\n",
              "      <td>2916</td>\n",
              "      <td>2693</td>\n",
              "      <td>143710787</td>\n",
              "      <td>2.780000e+11</td>\n",
              "      <td>1.790000e+12</td>\n",
              "      <td>759312395</td>\n",
              "      <td>-1.33</td>\n",
              "      <td>-0.94</td>\n",
              "      <td>0</td>\n",
              "      <td>0.0</td>\n",
              "      <td>0.0</td>\n",
              "      <td>-5.050000e+12</td>\n",
              "      <td>-0.50</td>\n",
              "      <td>-1.9100</td>\n",
              "      <td>22.136667</td>\n",
              "      <td>4.00</td>\n",
              "      <td>-14.066667</td>\n",
              "      <td>1326.1</td>\n",
              "    </tr>\n",
              "    <tr>\n",
              "      <th>2002</th>\n",
              "      <td>955</td>\n",
              "      <td>-9</td>\n",
              "      <td>-0.572295</td>\n",
              "      <td>966</td>\n",
              "      <td>1012</td>\n",
              "      <td>919</td>\n",
              "      <td>407824329</td>\n",
              "      <td>3.010000e+11</td>\n",
              "      <td>2.060000e+12</td>\n",
              "      <td>3420237905</td>\n",
              "      <td>-0.12</td>\n",
              "      <td>-0.40</td>\n",
              "      <td>0</td>\n",
              "      <td>0.0</td>\n",
              "      <td>0.0</td>\n",
              "      <td>-2.030000e+12</td>\n",
              "      <td>-0.11</td>\n",
              "      <td>-0.6712</td>\n",
              "      <td>26.222500</td>\n",
              "      <td>4.25</td>\n",
              "      <td>8.150000</td>\n",
              "      <td>1200.4</td>\n",
              "    </tr>\n",
              "    <tr>\n",
              "      <th>2003</th>\n",
              "      <td>4688</td>\n",
              "      <td>11</td>\n",
              "      <td>0.160526</td>\n",
              "      <td>4700</td>\n",
              "      <td>4867</td>\n",
              "      <td>4556</td>\n",
              "      <td>57406618</td>\n",
              "      <td>1.040000e+11</td>\n",
              "      <td>2.360000e+12</td>\n",
              "      <td>1818367110</td>\n",
              "      <td>-0.14</td>\n",
              "      <td>-0.54</td>\n",
              "      <td>0</td>\n",
              "      <td>0.0</td>\n",
              "      <td>0.0</td>\n",
              "      <td>-2.100000e+12</td>\n",
              "      <td>0.02</td>\n",
              "      <td>0.0432</td>\n",
              "      <td>31.284167</td>\n",
              "      <td>3.75</td>\n",
              "      <td>18.675000</td>\n",
              "      <td>1197.8</td>\n",
              "    </tr>\n",
              "    <tr>\n",
              "      <th>2004</th>\n",
              "      <td>10761</td>\n",
              "      <td>24</td>\n",
              "      <td>0.382972</td>\n",
              "      <td>10781</td>\n",
              "      <td>11088</td>\n",
              "      <td>10489</td>\n",
              "      <td>11116629</td>\n",
              "      <td>1.200000e+11</td>\n",
              "      <td>4.780000e+12</td>\n",
              "      <td>444434620</td>\n",
              "      <td>0.76</td>\n",
              "      <td>0.46</td>\n",
              "      <td>0</td>\n",
              "      <td>0.0</td>\n",
              "      <td>0.0</td>\n",
              "      <td>1.720000e+12</td>\n",
              "      <td>0.39</td>\n",
              "      <td>2.0300</td>\n",
              "      <td>41.820000</td>\n",
              "      <td>3.25</td>\n",
              "      <td>36.241667</td>\n",
              "      <td>1043.8</td>\n",
              "    </tr>\n",
              "  </tbody>\n",
              "</table>\n",
              "</div>"
            ],
            "text/plain": [
              "         종가  대비       등락률     시가  ...  반도체 수출금액지수    금리  WIT 현물유가등락률  원달러환율(원)\n",
              "날짜                                ...                                         \n",
              "2000  17703 -83 -0.551618  17780  ...   40.603333  5.25    58.775000    1259.7\n",
              "2001   2785  -7  0.048293   2804  ...   22.136667  4.00   -14.066667    1326.1\n",
              "2002    955  -9 -0.572295    966  ...   26.222500  4.25     8.150000    1200.4\n",
              "2003   4688  11  0.160526   4700  ...   31.284167  3.75    18.675000    1197.8\n",
              "2004  10761  24  0.382972  10781  ...   41.820000  3.25    36.241667    1043.8\n",
              "\n",
              "[5 rows x 22 columns]"
            ]
          },
          "metadata": {
            "tags": []
          },
          "execution_count": 38
        }
      ]
    },
    {
      "cell_type": "code",
      "metadata": {
        "id": "p_-YytW7Uq9L"
      },
      "source": [
        "def MinMaxScaler(data):\n",
        "  numerator = data - np.min(data, 0)\n",
        "  denominator = np.max(data, 0) - np.min(data, 0)\n",
        "  return numerator / (denominator + 1e-7)"
      ],
      "execution_count": 39,
      "outputs": []
    },
    {
      "cell_type": "code",
      "metadata": {
        "id": "sD7O9iYzVEmc",
        "colab": {
          "base_uri": "https://localhost:8080/"
        },
        "outputId": "4603c1ce-dac2-4960-f4e3-6655a450e2c6"
      },
      "source": [
        "dfx = df[['시가','고가','저가','거래량','종가','자본금순이익률','자기자본순이익율','주당배당금','배당수익률','배당금총액','매출액증가율','영업이익(조단위)','반도체 수출금액지수','금리','WIT 현물유가등락률', '원달러환율(원)']]\n",
        "dfx = MinMaxScaler(dfx)\n",
        "dfy = dfx[['종가']]\n",
        "x = dfx.values.tolist()\n",
        "y = dfy.values.tolist()\n",
        "print(len(y))"
      ],
      "execution_count": 42,
      "outputs": [
        {
          "output_type": "stream",
          "text": [
            "21\n"
          ],
          "name": "stdout"
        }
      ]
    },
    {
      "cell_type": "code",
      "metadata": {
        "colab": {
          "base_uri": "https://localhost:8080/"
        },
        "id": "Rlw-Pq1fVayD",
        "outputId": "ebbcc867-3ee3-469d-8f8d-40fd4bccce7b"
      },
      "source": [
        "data_x = []\n",
        "data_y = []\n",
        "#window_size는 예측하고자 하는 기간입니다. 현재 5년 예측입니다.\n",
        "window_size = 5\n",
        "for i in range(len(y) - window_size):\n",
        "  _x = x[i : i + window_size]\n",
        "  _y = y[i + window_size]\n",
        "  data_x.append(_x)\n",
        "  data_y.append(_y)\n",
        "print(_x, \"->\", _y)"
      ],
      "execution_count": 90,
      "outputs": [
        {
          "output_type": "stream",
          "text": [
            "[[0.4483915352333401, 0.4469723290030518, 0.4490241115427821, 0.0007104300988210874, 0.44760528441819325, 0.5127388453385533, 0.8214285127551062, 0.3333333333111111, 0.6399999744000011, 0.34271844660194173, 0.47199996224000296, 0.31898066643681605, 0.4291297714819145, 0.2105263113573408, 0.0, 0.6113493062770873], [0.37513787653042935, 0.3740123505212839, 0.3761931693574762, 4.396262560012782e-06, 0.37530296651110556, 0.4522292921619539, 0.7642856596938814, 0.3999999999733333, 0.5199999792000009, 0.4116504854368932, 0.3359999731200021, 0.22847100075364232, 0.4238802952189124, 0.1578947335180056, 0.36047817682365785, 0.7034047917519787], [0.7204034523138009, 0.7190648570491902, 0.7216034349418603, 0.0022153604776277563, 0.720701858193784, 0.786624191295793, 0.9285713622449026, 0.6666666666222222, 0.5199999792000009, 0.6854368932038835, 0.9999999200000064, 0.6871704714974936, 0.7420545979516655, 0.2105263113573408, 0.6172175860996874, 0.35762925589971545], [0.8824325399974046, 0.8803389108668, 0.8829510959257575, 0.001610554355389056, 0.8818060786735679, 0.9999999840764333, 0.9428570755102088, 0.9999999999333333, 0.9999999600000017, 1.0, 0.6719999462400044, 0.9999999956063269, 0.9999999994488739, 0.263157889196676, 0.6864569954659767, 0.475409835945672], [0.8512866580993492, 0.8498324498180485, 0.8532416117443031, 0.0, 0.8518906248212333, 0.4108280189358596, 0.6999999500000036, 0.6666666666222222, 0.43999998240000077, 0.6640776699029126, 0.13599998912000086, 0.20386643144171168, 0.7388718445266088, 0.1578947335180056, 0.34114249006818304, 0.5755359393252116]] -> [0.9999999999988621]\n"
          ],
          "name": "stdout"
        }
      ]
    },
    {
      "cell_type": "code",
      "metadata": {
        "id": "46KSwabEVzgJ"
      },
      "source": [
        "train_size = int(len(data_y) * 0.7)\n",
        "train_x = np.array(data_x[0 : train_size])\n",
        "train_y = np.array(data_y[0: train_size])"
      ],
      "execution_count": 91,
      "outputs": []
    },
    {
      "cell_type": "code",
      "metadata": {
        "id": "5xnfMdR9V_hO"
      },
      "source": [
        "test_size = len(data_y) - train_size\n",
        "test_x = np.array(data_x[train_size : len(data_x)])\n",
        "test_y = np.array(data_y[train_size : len(data_y)])"
      ],
      "execution_count": 92,
      "outputs": []
    },
    {
      "cell_type": "code",
      "metadata": {
        "id": "7N1fcFM1WJzV"
      },
      "source": [
        "model = Sequential()\n",
        "#units 값과 input_shape(window_size, ???)에서 ???값이 일치해야 layer에 적합하는 과정 중 오류가 발생하지 않습니다.\n",
        "model.add(LSTM(units=16, activation='relu', return_sequences=True, input_shape=(window_size,16)))\n",
        "model.add(Dropout(0.1))\n",
        "model.add(LSTM(units=16, activation='relu'))"
      ],
      "execution_count": 93,
      "outputs": []
    },
    {
      "cell_type": "code",
      "metadata": {
        "colab": {
          "base_uri": "https://localhost:8080/"
        },
        "id": "wy8kw2c8WbEI",
        "outputId": "8f45f2ef-9532-4447-f7aa-81eeb3acaf6d"
      },
      "source": [
        "model.add(Dropout(0.1))\n",
        "model.add(Dense(units=1))\n",
        "model.summary()"
      ],
      "execution_count": 94,
      "outputs": [
        {
          "output_type": "stream",
          "text": [
            "Model: \"sequential_12\"\n",
            "_________________________________________________________________\n",
            "Layer (type)                 Output Shape              Param #   \n",
            "=================================================================\n",
            "lstm_22 (LSTM)               (None, 5, 16)             2112      \n",
            "_________________________________________________________________\n",
            "dropout_20 (Dropout)         (None, 5, 16)             0         \n",
            "_________________________________________________________________\n",
            "lstm_23 (LSTM)               (None, 16)                2112      \n",
            "_________________________________________________________________\n",
            "dropout_21 (Dropout)         (None, 16)                0         \n",
            "_________________________________________________________________\n",
            "dense_10 (Dense)             (None, 1)                 17        \n",
            "=================================================================\n",
            "Total params: 4,241\n",
            "Trainable params: 4,241\n",
            "Non-trainable params: 0\n",
            "_________________________________________________________________\n"
          ],
          "name": "stdout"
        }
      ]
    },
    {
      "cell_type": "code",
      "metadata": {
        "colab": {
          "base_uri": "https://localhost:8080/"
        },
        "id": "ZDX_xY2bWiV6",
        "outputId": "d38b05c0-080e-47b7-bcfd-27d035f8f776"
      },
      "source": [
        "model.compile(optimizer='adam', loss='mean_squared_error')\n",
        "model.fit(train_x, train_y, epochs=50, batch_size=30)"
      ],
      "execution_count": 95,
      "outputs": [
        {
          "output_type": "stream",
          "text": [
            "Epoch 1/50\n",
            "1/1 [==============================] - 2s 2s/step - loss: 0.0834\n",
            "Epoch 2/50\n",
            "1/1 [==============================] - 0s 9ms/step - loss: 0.0799\n",
            "Epoch 3/50\n",
            "1/1 [==============================] - 0s 10ms/step - loss: 0.0763\n",
            "Epoch 4/50\n",
            "1/1 [==============================] - 0s 8ms/step - loss: 0.0777\n",
            "Epoch 5/50\n",
            "1/1 [==============================] - 0s 10ms/step - loss: 0.0727\n",
            "Epoch 6/50\n",
            "1/1 [==============================] - 0s 12ms/step - loss: 0.0683\n",
            "Epoch 7/50\n",
            "1/1 [==============================] - 0s 14ms/step - loss: 0.0694\n",
            "Epoch 8/50\n",
            "1/1 [==============================] - 0s 11ms/step - loss: 0.0708\n",
            "Epoch 9/50\n",
            "1/1 [==============================] - 0s 8ms/step - loss: 0.0612\n",
            "Epoch 10/50\n",
            "1/1 [==============================] - 0s 9ms/step - loss: 0.0577\n",
            "Epoch 11/50\n",
            "1/1 [==============================] - 0s 9ms/step - loss: 0.0600\n",
            "Epoch 12/50\n",
            "1/1 [==============================] - 0s 12ms/step - loss: 0.0520\n",
            "Epoch 13/50\n",
            "1/1 [==============================] - 0s 9ms/step - loss: 0.0507\n",
            "Epoch 14/50\n",
            "1/1 [==============================] - 0s 8ms/step - loss: 0.0513\n",
            "Epoch 15/50\n",
            "1/1 [==============================] - 0s 13ms/step - loss: 0.0417\n",
            "Epoch 16/50\n",
            "1/1 [==============================] - 0s 7ms/step - loss: 0.0478\n",
            "Epoch 17/50\n",
            "1/1 [==============================] - 0s 8ms/step - loss: 0.0491\n",
            "Epoch 18/50\n",
            "1/1 [==============================] - 0s 7ms/step - loss: 0.0481\n",
            "Epoch 19/50\n",
            "1/1 [==============================] - 0s 12ms/step - loss: 0.0298\n",
            "Epoch 20/50\n",
            "1/1 [==============================] - 0s 9ms/step - loss: 0.0300\n",
            "Epoch 21/50\n",
            "1/1 [==============================] - 0s 8ms/step - loss: 0.0383\n",
            "Epoch 22/50\n",
            "1/1 [==============================] - 0s 6ms/step - loss: 0.0300\n",
            "Epoch 23/50\n",
            "1/1 [==============================] - 0s 8ms/step - loss: 0.0208\n",
            "Epoch 24/50\n",
            "1/1 [==============================] - 0s 6ms/step - loss: 0.0185\n",
            "Epoch 25/50\n",
            "1/1 [==============================] - 0s 8ms/step - loss: 0.0224\n",
            "Epoch 26/50\n",
            "1/1 [==============================] - 0s 8ms/step - loss: 0.0133\n",
            "Epoch 27/50\n",
            "1/1 [==============================] - 0s 7ms/step - loss: 0.0131\n",
            "Epoch 28/50\n",
            "1/1 [==============================] - 0s 7ms/step - loss: 0.0173\n",
            "Epoch 29/50\n",
            "1/1 [==============================] - 0s 8ms/step - loss: 0.0146\n",
            "Epoch 30/50\n",
            "1/1 [==============================] - 0s 10ms/step - loss: 0.0101\n",
            "Epoch 31/50\n",
            "1/1 [==============================] - 0s 11ms/step - loss: 0.0127\n",
            "Epoch 32/50\n",
            "1/1 [==============================] - 0s 13ms/step - loss: 0.0175\n",
            "Epoch 33/50\n",
            "1/1 [==============================] - 0s 17ms/step - loss: 0.0174\n",
            "Epoch 34/50\n",
            "1/1 [==============================] - 0s 11ms/step - loss: 0.0209\n",
            "Epoch 35/50\n",
            "1/1 [==============================] - 0s 13ms/step - loss: 0.0311\n",
            "Epoch 36/50\n",
            "1/1 [==============================] - 0s 12ms/step - loss: 0.0092\n",
            "Epoch 37/50\n",
            "1/1 [==============================] - 0s 10ms/step - loss: 0.0248\n",
            "Epoch 38/50\n",
            "1/1 [==============================] - 0s 11ms/step - loss: 0.0166\n",
            "Epoch 39/50\n",
            "1/1 [==============================] - 0s 13ms/step - loss: 0.0152\n",
            "Epoch 40/50\n",
            "1/1 [==============================] - 0s 10ms/step - loss: 0.0233\n",
            "Epoch 41/50\n",
            "1/1 [==============================] - 0s 11ms/step - loss: 0.0204\n",
            "Epoch 42/50\n",
            "1/1 [==============================] - 0s 13ms/step - loss: 0.0093\n",
            "Epoch 43/50\n",
            "1/1 [==============================] - 0s 14ms/step - loss: 0.0142\n",
            "Epoch 44/50\n",
            "1/1 [==============================] - 0s 11ms/step - loss: 0.0128\n",
            "Epoch 45/50\n",
            "1/1 [==============================] - 0s 9ms/step - loss: 0.0172\n",
            "Epoch 46/50\n",
            "1/1 [==============================] - 0s 7ms/step - loss: 0.0176\n",
            "Epoch 47/50\n",
            "1/1 [==============================] - 0s 6ms/step - loss: 0.0134\n",
            "Epoch 48/50\n",
            "1/1 [==============================] - 0s 9ms/step - loss: 0.0143\n",
            "Epoch 49/50\n",
            "1/1 [==============================] - 0s 7ms/step - loss: 0.0101\n",
            "Epoch 50/50\n",
            "1/1 [==============================] - 0s 6ms/step - loss: 0.0117\n"
          ],
          "name": "stdout"
        },
        {
          "output_type": "execute_result",
          "data": {
            "text/plain": [
              "<tensorflow.python.keras.callbacks.History at 0x7efd9a898250>"
            ]
          },
          "metadata": {
            "tags": []
          },
          "execution_count": 95
        }
      ]
    },
    {
      "cell_type": "code",
      "metadata": {
        "id": "O0nweYVVWvQc"
      },
      "source": [
        "pred_y = model.predict(test_x)"
      ],
      "execution_count": 96,
      "outputs": []
    },
    {
      "cell_type": "code",
      "metadata": {
        "colab": {
          "base_uri": "https://localhost:8080/",
          "height": 295
        },
        "id": "9swn-S_xW3DY",
        "outputId": "70ad5fe9-c97c-4f85-8772-32d73af00dba"
      },
      "source": [
        "plt.figure()\n",
        "plt.plot(test_y, color='red', label='real stock price')\n",
        "plt.plot(pred_y, color='blue', label='predicted stock price')\n",
        "plt.title('stock price prediction')\n",
        "plt.xlabel('time')\n",
        "plt.ylabel('stock price')\n",
        "plt.legend()\n",
        "plt.show()"
      ],
      "execution_count": 99,
      "outputs": [
        {
          "output_type": "display_data",
          "data": {
            "image/png": "[encoded data removed]",
            "text/plain": [
              "<Figure size 432x288 with 1 Axes>"
            ]
          },
          "metadata": {
            "tags": [],
            "needs_background": "light"
          }
        }
      ]
    },
    {
      "cell_type": "code",
      "metadata": {
        "id": "1EUIop0fW5X9"
      },
      "source": [
        ""
      ],
      "execution_count": null,
      "outputs": []
    }
  ]
}