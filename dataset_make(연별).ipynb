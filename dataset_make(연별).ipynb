{
 "cells": [
  {
   "cell_type": "code",
   "execution_count": 1,
   "id": "c6375da9",
   "metadata": {},
   "outputs": [],
   "source": [
    "import csv\n",
    "import pandas as pd\n",
    "import numpy\n",
    "#import openpyxl\n",
    "from matplotlib import pyplot as plt"
   ]
  },
  {
   "cell_type": "code",
   "execution_count": 9,
   "id": "1706939f",
   "metadata": {},
   "outputs": [],
   "source": [
    "# #절대경로 지정, 각 파일에 맞게 수정\n",
    "# roa = pd.read_csv(\"./(연)roa.csv\",encoding='cp949')\n",
    "# roe = pd.read_csv(\"./(연)roe.csv\",encoding='cp949')\n",
    "# allo = pd.read_csv(\"./(연)sk하이닉스배당.csv\",encoding='cp949')\n",
    "# net_income = pd.read_csv(\"./(연)단기순이익.csv\",encoding='cp949')\n",
    "# sales_increase = pd.read_csv(\"./(연)매출증가액.csv\",encoding='cp949')\n",
    "# ope_profit = pd.read_csv(\"./(연)영업이익증가율.csv\",encoding='cp949')\n",
    "hinix = pd.read_csv('./dataset/hinix_short.csv', encoding='cp949')\n",
    "h = pd.read_csv('./dataset/Bitcoin.csv')"
   ]
  },
  {
   "cell_type": "code",
   "execution_count": 10,
   "metadata": {},
   "outputs": [
    {
     "output_type": "execute_result",
     "data": {
      "text/plain": [
       "            date    BTC종가  BTC변동률\n",
       "0     2021-05-14  49839.8    0.27\n",
       "1     2021-05-13  49704.6    0.65\n",
       "2     2021-05-12  49384.2  -12.90\n",
       "3     2021-05-11  56695.7    1.52\n",
       "4     2021-05-10  55848.9   -4.10\n",
       "...          ...      ...     ...\n",
       "3949  2010-07-22      0.1    0.00\n",
       "3950  2010-07-21      0.1    0.00\n",
       "3951  2010-07-20      0.1    0.00\n",
       "3952  2010-07-19      0.1    0.00\n",
       "3953  2010-07-18      0.1    0.00\n",
       "\n",
       "[3954 rows x 3 columns]"
      ],
      "text/html": "<div>\n<style scoped>\n    .dataframe tbody tr th:only-of-type {\n        vertical-align: middle;\n    }\n\n    .dataframe tbody tr th {\n        vertical-align: top;\n    }\n\n    .dataframe thead th {\n        text-align: right;\n    }\n</style>\n<table border=\"1\" class=\"dataframe\">\n  <thead>\n    <tr style=\"text-align: right;\">\n      <th></th>\n      <th>date</th>\n      <th>BTC종가</th>\n      <th>BTC변동률</th>\n    </tr>\n  </thead>\n  <tbody>\n    <tr>\n      <th>0</th>\n      <td>2021-05-14</td>\n      <td>49839.8</td>\n      <td>0.27</td>\n    </tr>\n    <tr>\n      <th>1</th>\n      <td>2021-05-13</td>\n      <td>49704.6</td>\n      <td>0.65</td>\n    </tr>\n    <tr>\n      <th>2</th>\n      <td>2021-05-12</td>\n      <td>49384.2</td>\n      <td>-12.90</td>\n    </tr>\n    <tr>\n      <th>3</th>\n      <td>2021-05-11</td>\n      <td>56695.7</td>\n      <td>1.52</td>\n    </tr>\n    <tr>\n      <th>4</th>\n      <td>2021-05-10</td>\n      <td>55848.9</td>\n      <td>-4.10</td>\n    </tr>\n    <tr>\n      <th>...</th>\n      <td>...</td>\n      <td>...</td>\n      <td>...</td>\n    </tr>\n    <tr>\n      <th>3949</th>\n      <td>2010-07-22</td>\n      <td>0.1</td>\n      <td>0.00</td>\n    </tr>\n    <tr>\n      <th>3950</th>\n      <td>2010-07-21</td>\n      <td>0.1</td>\n      <td>0.00</td>\n    </tr>\n    <tr>\n      <th>3951</th>\n      <td>2010-07-20</td>\n      <td>0.1</td>\n      <td>0.00</td>\n    </tr>\n    <tr>\n      <th>3952</th>\n      <td>2010-07-19</td>\n      <td>0.1</td>\n      <td>0.00</td>\n    </tr>\n    <tr>\n      <th>3953</th>\n      <td>2010-07-18</td>\n      <td>0.1</td>\n      <td>0.00</td>\n    </tr>\n  </tbody>\n</table>\n<p>3954 rows × 3 columns</p>\n</div>"
     },
     "metadata": {},
     "execution_count": 10
    }
   ],
   "source": [
    "h"
   ]
  },
  {
   "cell_type": "code",
   "execution_count": 11,
   "id": "6d4b1431",
   "metadata": {
    "scrolled": true
   },
   "outputs": [
    {
     "output_type": "execute_result",
     "data": {
      "text/plain": [
       "            date  등락지표  등락.분류        종가    대비    등락률        시가      고가  \\\n",
       "0     2000-01-04     1      2   25750.0  1650   6.85   24700.0   26450   \n",
       "1     2000-01-05    -1     -2   23100.0 -2650 -10.29   24150.0   24950   \n",
       "2     2000-01-06    -1     -2   21900.0 -1200  -5.19   23500.0   23800   \n",
       "3     2000-01-07    -1     -1   21700.0  -200  -0.91   21200.0   22400   \n",
       "4     2000-01-10    -1     -1   21500.0  -200  -0.92   22000.0   22300   \n",
       "...          ...   ...    ...       ...   ...    ...       ...     ...   \n",
       "5270  2021-05-10     1      1  130000.0   500   0.39  131000.0  131000   \n",
       "5271  2021-05-11    -1     -2  123000.0 -7000  -5.38  127000.0  127500   \n",
       "5272  2021-05-12    -1     -1  119500.0 -3500  -2.85  123000.0  123500   \n",
       "5273  2021-05-13    -1     -1  117500.0 -2000  -1.67  116000.0  118500   \n",
       "5274  2021-05-14     1      1  118500.0  1000   0.85  118500.0  120000   \n",
       "\n",
       "          저가       거래량  ...  유가변동률  한국은행기준금리  연준기준금리  한미기준금리차이  반도체수출금액지수  \\\n",
       "0      24200   9275920  ...  -0.20      4.75    5.50      0.75      34.27   \n",
       "1      22750   7414370  ...  -2.50      4.75    5.50      0.75      34.27   \n",
       "2      21650   6529140  ...  -0.52      4.75    5.50      0.75      34.27   \n",
       "3      20800  10492270  ...  -2.26      4.75    5.50      0.75      34.27   \n",
       "4      21500   8041690  ...   1.86      4.75    5.50      0.75      34.27   \n",
       "...      ...       ...  ...    ...       ...     ...       ...        ...   \n",
       "5270  128500   3067077  ...   0.03      0.50    0.25     -0.25        NaN   \n",
       "5271  122000   9882491  ...   0.55      0.50    0.25     -0.25        NaN   \n",
       "5272  119000   8272196  ...   1.23      0.50    0.25     -0.25        NaN   \n",
       "5273  115500   6042025  ...  -3.42      0.50    0.25     -0.25        NaN   \n",
       "5274  118000   3227201  ...   2.43      0.50    0.25     -0.25        NaN   \n",
       "\n",
       "           삼성종가    SOX종가  SOX변동률    BTC종가  BTC변동률  \n",
       "0      305500.0   687.32   -3.63      NaN     NaN  \n",
       "1      279000.0   678.54   -1.28      NaN     NaN  \n",
       "2      281000.0   669.33   -1.36      NaN     NaN  \n",
       "3      277000.0   690.75    3.20      NaN     NaN  \n",
       "4      288500.0   741.69    7.37      NaN     NaN  \n",
       "...         ...      ...     ...      ...     ...  \n",
       "5270  4160000.0  2967.11   -4.66  55848.9   -4.10  \n",
       "5271  4060000.0  2976.01    0.30  56695.7    1.52  \n",
       "5272  4000000.0  2851.15   -4.20  49384.2  -12.90  \n",
       "5273  3925000.0  2893.94    1.50  49704.6    0.65  \n",
       "5274  4005000.0  2981.42    0.03  49839.8    0.27  \n",
       "\n",
       "[5275 rows x 28 columns]"
      ],
      "text/html": "<div>\n<style scoped>\n    .dataframe tbody tr th:only-of-type {\n        vertical-align: middle;\n    }\n\n    .dataframe tbody tr th {\n        vertical-align: top;\n    }\n\n    .dataframe thead th {\n        text-align: right;\n    }\n</style>\n<table border=\"1\" class=\"dataframe\">\n  <thead>\n    <tr style=\"text-align: right;\">\n      <th></th>\n      <th>date</th>\n      <th>등락지표</th>\n      <th>등락.분류</th>\n      <th>종가</th>\n      <th>대비</th>\n      <th>등락률</th>\n      <th>시가</th>\n      <th>고가</th>\n      <th>저가</th>\n      <th>거래량</th>\n      <th>...</th>\n      <th>유가변동률</th>\n      <th>한국은행기준금리</th>\n      <th>연준기준금리</th>\n      <th>한미기준금리차이</th>\n      <th>반도체수출금액지수</th>\n      <th>삼성종가</th>\n      <th>SOX종가</th>\n      <th>SOX변동률</th>\n      <th>BTC종가</th>\n      <th>BTC변동률</th>\n    </tr>\n  </thead>\n  <tbody>\n    <tr>\n      <th>0</th>\n      <td>2000-01-04</td>\n      <td>1</td>\n      <td>2</td>\n      <td>25750.0</td>\n      <td>1650</td>\n      <td>6.85</td>\n      <td>24700.0</td>\n      <td>26450</td>\n      <td>24200</td>\n      <td>9275920</td>\n      <td>...</td>\n      <td>-0.20</td>\n      <td>4.75</td>\n      <td>5.50</td>\n      <td>0.75</td>\n      <td>34.27</td>\n      <td>305500.0</td>\n      <td>687.32</td>\n      <td>-3.63</td>\n      <td>NaN</td>\n      <td>NaN</td>\n    </tr>\n    <tr>\n      <th>1</th>\n      <td>2000-01-05</td>\n      <td>-1</td>\n      <td>-2</td>\n      <td>23100.0</td>\n      <td>-2650</td>\n      <td>-10.29</td>\n      <td>24150.0</td>\n      <td>24950</td>\n      <td>22750</td>\n      <td>7414370</td>\n      <td>...</td>\n      <td>-2.50</td>\n      <td>4.75</td>\n      <td>5.50</td>\n      <td>0.75</td>\n      <td>34.27</td>\n      <td>279000.0</td>\n      <td>678.54</td>\n      <td>-1.28</td>\n      <td>NaN</td>\n      <td>NaN</td>\n    </tr>\n    <tr>\n      <th>2</th>\n      <td>2000-01-06</td>\n      <td>-1</td>\n      <td>-2</td>\n      <td>21900.0</td>\n      <td>-1200</td>\n      <td>-5.19</td>\n      <td>23500.0</td>\n      <td>23800</td>\n      <td>21650</td>\n      <td>6529140</td>\n      <td>...</td>\n      <td>-0.52</td>\n      <td>4.75</td>\n      <td>5.50</td>\n      <td>0.75</td>\n      <td>34.27</td>\n      <td>281000.0</td>\n      <td>669.33</td>\n      <td>-1.36</td>\n      <td>NaN</td>\n      <td>NaN</td>\n    </tr>\n    <tr>\n      <th>3</th>\n      <td>2000-01-07</td>\n      <td>-1</td>\n      <td>-1</td>\n      <td>21700.0</td>\n      <td>-200</td>\n      <td>-0.91</td>\n      <td>21200.0</td>\n      <td>22400</td>\n      <td>20800</td>\n      <td>10492270</td>\n      <td>...</td>\n      <td>-2.26</td>\n      <td>4.75</td>\n      <td>5.50</td>\n      <td>0.75</td>\n      <td>34.27</td>\n      <td>277000.0</td>\n      <td>690.75</td>\n      <td>3.20</td>\n      <td>NaN</td>\n      <td>NaN</td>\n    </tr>\n    <tr>\n      <th>4</th>\n      <td>2000-01-10</td>\n      <td>-1</td>\n      <td>-1</td>\n      <td>21500.0</td>\n      <td>-200</td>\n      <td>-0.92</td>\n      <td>22000.0</td>\n      <td>22300</td>\n      <td>21500</td>\n      <td>8041690</td>\n      <td>...</td>\n      <td>1.86</td>\n      <td>4.75</td>\n      <td>5.50</td>\n      <td>0.75</td>\n      <td>34.27</td>\n      <td>288500.0</td>\n      <td>741.69</td>\n      <td>7.37</td>\n      <td>NaN</td>\n      <td>NaN</td>\n    </tr>\n    <tr>\n      <th>...</th>\n      <td>...</td>\n      <td>...</td>\n      <td>...</td>\n      <td>...</td>\n      <td>...</td>\n      <td>...</td>\n      <td>...</td>\n      <td>...</td>\n      <td>...</td>\n      <td>...</td>\n      <td>...</td>\n      <td>...</td>\n      <td>...</td>\n      <td>...</td>\n      <td>...</td>\n      <td>...</td>\n      <td>...</td>\n      <td>...</td>\n      <td>...</td>\n      <td>...</td>\n      <td>...</td>\n    </tr>\n    <tr>\n      <th>5270</th>\n      <td>2021-05-10</td>\n      <td>1</td>\n      <td>1</td>\n      <td>130000.0</td>\n      <td>500</td>\n      <td>0.39</td>\n      <td>131000.0</td>\n      <td>131000</td>\n      <td>128500</td>\n      <td>3067077</td>\n      <td>...</td>\n      <td>0.03</td>\n      <td>0.50</td>\n      <td>0.25</td>\n      <td>-0.25</td>\n      <td>NaN</td>\n      <td>4160000.0</td>\n      <td>2967.11</td>\n      <td>-4.66</td>\n      <td>55848.9</td>\n      <td>-4.10</td>\n    </tr>\n    <tr>\n      <th>5271</th>\n      <td>2021-05-11</td>\n      <td>-1</td>\n      <td>-2</td>\n      <td>123000.0</td>\n      <td>-7000</td>\n      <td>-5.38</td>\n      <td>127000.0</td>\n      <td>127500</td>\n      <td>122000</td>\n      <td>9882491</td>\n      <td>...</td>\n      <td>0.55</td>\n      <td>0.50</td>\n      <td>0.25</td>\n      <td>-0.25</td>\n      <td>NaN</td>\n      <td>4060000.0</td>\n      <td>2976.01</td>\n      <td>0.30</td>\n      <td>56695.7</td>\n      <td>1.52</td>\n    </tr>\n    <tr>\n      <th>5272</th>\n      <td>2021-05-12</td>\n      <td>-1</td>\n      <td>-1</td>\n      <td>119500.0</td>\n      <td>-3500</td>\n      <td>-2.85</td>\n      <td>123000.0</td>\n      <td>123500</td>\n      <td>119000</td>\n      <td>8272196</td>\n      <td>...</td>\n      <td>1.23</td>\n      <td>0.50</td>\n      <td>0.25</td>\n      <td>-0.25</td>\n      <td>NaN</td>\n      <td>4000000.0</td>\n      <td>2851.15</td>\n      <td>-4.20</td>\n      <td>49384.2</td>\n      <td>-12.90</td>\n    </tr>\n    <tr>\n      <th>5273</th>\n      <td>2021-05-13</td>\n      <td>-1</td>\n      <td>-1</td>\n      <td>117500.0</td>\n      <td>-2000</td>\n      <td>-1.67</td>\n      <td>116000.0</td>\n      <td>118500</td>\n      <td>115500</td>\n      <td>6042025</td>\n      <td>...</td>\n      <td>-3.42</td>\n      <td>0.50</td>\n      <td>0.25</td>\n      <td>-0.25</td>\n      <td>NaN</td>\n      <td>3925000.0</td>\n      <td>2893.94</td>\n      <td>1.50</td>\n      <td>49704.6</td>\n      <td>0.65</td>\n    </tr>\n    <tr>\n      <th>5274</th>\n      <td>2021-05-14</td>\n      <td>1</td>\n      <td>1</td>\n      <td>118500.0</td>\n      <td>1000</td>\n      <td>0.85</td>\n      <td>118500.0</td>\n      <td>120000</td>\n      <td>118000</td>\n      <td>3227201</td>\n      <td>...</td>\n      <td>2.43</td>\n      <td>0.50</td>\n      <td>0.25</td>\n      <td>-0.25</td>\n      <td>NaN</td>\n      <td>4005000.0</td>\n      <td>2981.42</td>\n      <td>0.03</td>\n      <td>49839.8</td>\n      <td>0.27</td>\n    </tr>\n  </tbody>\n</table>\n<p>5275 rows × 28 columns</p>\n</div>"
     },
     "metadata": {},
     "execution_count": 11
    }
   ],
   "source": [
    "csv_df = pd.merge(hinix, h, how=\"left\")\n",
    "csv_df"
   ]
  },
  {
   "cell_type": "code",
   "execution_count": 13,
   "id": "5728f429",
   "metadata": {},
   "outputs": [],
   "source": [
    "csv_df.to_csv(\"./dataset/hinix_short2.csv\",encoding='cp949', index=False)"
   ]
  }
 ],
 "metadata": {
  "kernelspec": {
   "name": "python386jvsc74a57bd0d05600023db0a302af6ed14ce4da9274f018e6c90bf07a1d5b0536fcf65a971c",
   "display_name": "Python 3.8.6 64-bit"
  },
  "language_info": {
   "codemirror_mode": {
    "name": "ipython",
    "version": 3
   },
   "file_extension": ".py",
   "mimetype": "text/x-python",
   "name": "python",
   "nbconvert_exporter": "python",
   "pygments_lexer": "ipython3",
   "version": "3.8.6"
  },
  "metadata": {
   "interpreter": {
    "hash": "d05600023db0a302af6ed14ce4da9274f018e6c90bf07a1d5b0536fcf65a971c"
   }
  }
 },
 "nbformat": 4,
 "nbformat_minor": 5
}