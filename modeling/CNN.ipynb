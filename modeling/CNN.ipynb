{
  "nbformat": 4,
  "nbformat_minor": 0,
  "metadata": {
    "colab": {
      "name": "CNN.ipynb",
      "provenance": [],
      "collapsed_sections": []
    },
    "kernelspec": {
      "name": "python3",
      "display_name": "Python 3"
    },
    "language_info": {
      "name": "python"
    }
  },
  "cells": [
    {
      "cell_type": "code",
      "metadata": {
        "colab": {
          "base_uri": "https://localhost:8080/"
        },
        "id": "pJ_nlZUde9Ey",
        "outputId": "65a213ae-7758-4c0d-c448-e4de8e0273da"
      },
      "source": [
        "from google.colab import drive\n",
        "drive.mount('/content/drive')"
      ],
      "execution_count": 1,
      "outputs": [
        {
          "output_type": "stream",
          "text": [
            "Mounted at /content/drive\n"
          ],
          "name": "stdout"
        }
      ]
    },
    {
      "cell_type": "code",
      "metadata": {
        "id": "KevrqD-LfbLl"
      },
      "source": [
        "import pandas as pd\n",
        "import numpy as np\n",
        "import tensorflow as tf\n",
        "from sklearn.model_selection import train_test_split"
      ],
      "execution_count": 5,
      "outputs": []
    },
    {
      "cell_type": "code",
      "metadata": {
        "id": "bOSF4mYWe_pb"
      },
      "source": [
        "data = pd.read_csv('/content/drive/My Drive/hynix_short.csv', index_col=0, parse_dates=[0], dayfirst=False,infer_datetime_format=True, encoding='cp949')"
      ],
      "execution_count": 4,
      "outputs": []
    },
    {
      "cell_type": "code",
      "metadata": {
        "colab": {
          "base_uri": "https://localhost:8080/"
        },
        "id": "wAzZF7K9hiTh",
        "outputId": "f88b5080-0024-432f-da0d-6e5b3b1191c7"
      },
      "source": [
        "print(data.isna().sum())\n",
        "print(data.shape)\n",
        "print(list(data.columns))"
      ],
      "execution_count": 19,
      "outputs": [
        {
          "output_type": "stream",
          "text": [
            "삼성등락         0\n",
            "등락           0\n",
            "등락지표         0\n",
            "등락분류         0\n",
            "종가           0\n",
            "대비           0\n",
            "등락률          0\n",
            "시가           0\n",
            "고가           0\n",
            "저가           0\n",
            "거래량          0\n",
            "거래대금         0\n",
            "시가총액         0\n",
            "상장주식수        0\n",
            "환율           0\n",
            "유가종가         0\n",
            "유가오픈         0\n",
            "유가고가         0\n",
            "유가저가         0\n",
            "유가변동률        0\n",
            "한국은행기준금리     0\n",
            "연준기준금리       0\n",
            "한미기준금리차이     0\n",
            "반도체수출금액지수    9\n",
            "삼성종가         0\n",
            "SOX종가        0\n",
            "SOX변동률       0\n",
            "BTC종가        0\n",
            "BTC변동률       0\n",
            "종가코스피        0\n",
            "고가코스피        0\n",
            "저가코스피        0\n",
            "거래량코스피       0\n",
            "코스피변동        0\n",
            "종가코스닥        0\n",
            "시가코스닥        0\n",
            "고가코스닥        0\n",
            "저가코스닥        0\n",
            "거래량코스닥       0\n",
            "변동코스닥        0\n",
            "S.P종가        0\n",
            "S.P변동률       0\n",
            "dtype: int64\n",
            "(2670, 42)\n",
            "['삼성등락', '등락', '등락지표', '등락분류', '종가', '대비', '등락률', '시가', '고가', '저가', '거래량', '거래대금', '시가총액', '상장주식수', '환율', '유가종가', '유가오픈', '유가고가', '유가저가', '유가변동률', '한국은행기준금리', '연준기준금리', '한미기준금리차이', '반도체수출금액지수', '삼성종가', 'SOX종가', 'SOX변동률', 'BTC종가', 'BTC변동률', '종가코스피', '고가코스피', '저가코스피', '거래량코스피', '코스피변동', '종가코스닥', '시가코스닥', '고가코스닥', '저가코스닥', '거래량코스닥', '변동코스닥', 'S.P종가', 'S.P변동률']\n"
          ],
          "name": "stdout"
        }
      ]
    },
    {
      "cell_type": "code",
      "metadata": {
        "id": "nRZCd88aht6p"
      },
      "source": [
        "data = data.dropna(axis=0)"
      ],
      "execution_count": 20,
      "outputs": []
    },
    {
      "cell_type": "code",
      "metadata": {
        "id": "1DQ4QXhXfrUN"
      },
      "source": [
        "features = data[['종가','시가', '고가', '저가', '거래량', '거래대금', '시가총액', '상장주식수', '환율', '유가종가', '유가오픈', '유가고가', '유가저가', '유가변동률', '한국은행기준금리', '연준기준금리', '한미기준금리차이', '반도체수출금액지수', '삼성종가', 'SOX종가', 'SOX변동률', 'BTC종가', 'BTC변동률', '종가코스피', '고가코스피', '저가코스피', '거래량코스피', '코스피변동', '종가코스닥', '시가코스닥', '고가코스닥', '저가코스닥', '거래량코스닥', '변동코스닥', 'S.P종가', 'S.P변동률']]\n",
        "target = data['삼성등락']"
      ],
      "execution_count": 21,
      "outputs": []
    },
    {
      "cell_type": "code",
      "metadata": {
        "id": "bxevugH7fYRp"
      },
      "source": [
        "random_seed = np.random.seed(2021)\n",
        "x_train, x_test, y_train, y_test = train_test_split(features, target, test_size=0.1, random_state=random_seed)"
      ],
      "execution_count": 22,
      "outputs": []
    },
    {
      "cell_type": "code",
      "metadata": {
        "colab": {
          "base_uri": "https://localhost:8080/"
        },
        "id": "80eVN7IafyXg",
        "outputId": "a40ab1a4-1ef3-4b82-f552-66dc2d05befb"
      },
      "source": [
        "from keras.models import Sequential\n",
        "from keras.layers import Dense\n",
        "from keras.optimizers import Adam\n",
        "\n",
        "model = Sequential()\n",
        "\n",
        "model.add(Dense(64,input_shape=(36,),activation='relu'))\n",
        "model.add(Dense(64,activation='relu'))\n",
        "model.add(Dense(1,activation='sigmoid'))\n",
        "\n",
        "model.compile(loss='binary_crossentropy', \n",
        "              optimizer='Adam', \n",
        "              metrics=['accuracy'])\n",
        "\n",
        "model.summary()"
      ],
      "execution_count": 33,
      "outputs": [
        {
          "output_type": "stream",
          "text": [
            "Model: \"sequential_7\"\n",
            "_________________________________________________________________\n",
            "Layer (type)                 Output Shape              Param #   \n",
            "=================================================================\n",
            "dense_18 (Dense)             (None, 64)                2368      \n",
            "_________________________________________________________________\n",
            "dense_19 (Dense)             (None, 64)                4160      \n",
            "_________________________________________________________________\n",
            "dense_20 (Dense)             (None, 64)                4160      \n",
            "_________________________________________________________________\n",
            "dense_21 (Dense)             (None, 64)                4160      \n",
            "_________________________________________________________________\n",
            "dense_22 (Dense)             (None, 64)                4160      \n",
            "_________________________________________________________________\n",
            "dense_23 (Dense)             (None, 1)                 65        \n",
            "=================================================================\n",
            "Total params: 19,073\n",
            "Trainable params: 19,073\n",
            "Non-trainable params: 0\n",
            "_________________________________________________________________\n"
          ],
          "name": "stdout"
        }
      ]
    },
    {
      "cell_type": "code",
      "metadata": {
        "colab": {
          "base_uri": "https://localhost:8080/"
        },
        "id": "DvEZWfl6f2aQ",
        "outputId": "d097f1d7-1f34-4f9b-b339-d3591e6f956b"
      },
      "source": [
        "hist = model.fit(x_train, y_train, validation_data=(x_test, y_test), epochs=100)"
      ],
      "execution_count": 34,
      "outputs": [
        {
          "output_type": "stream",
          "text": [
            "Epoch 1/100\n",
            "75/75 [==============================] - 2s 8ms/step - loss: 63211008053.8947 - accuracy: 0.4982 - val_loss: 5925423616.0000 - val_accuracy: 0.4757\n",
            "Epoch 2/100\n",
            "75/75 [==============================] - 0s 3ms/step - loss: 13308634671.1579 - accuracy: 0.4898 - val_loss: 11879727104.0000 - val_accuracy: 0.5243\n",
            "Epoch 3/100\n",
            "75/75 [==============================] - 0s 3ms/step - loss: 16952549349.0526 - accuracy: 0.4998 - val_loss: 12960631808.0000 - val_accuracy: 0.5243\n",
            "Epoch 4/100\n",
            "75/75 [==============================] - 0s 3ms/step - loss: 11933010432.0000 - accuracy: 0.4922 - val_loss: 3569576704.0000 - val_accuracy: 0.4757\n",
            "Epoch 5/100\n",
            "75/75 [==============================] - 0s 2ms/step - loss: 8558239427.3684 - accuracy: 0.4965 - val_loss: 4321836544.0000 - val_accuracy: 0.5243\n",
            "Epoch 6/100\n",
            "75/75 [==============================] - 0s 3ms/step - loss: 6347111417.2632 - accuracy: 0.4777 - val_loss: 2697359104.0000 - val_accuracy: 0.5243\n",
            "Epoch 7/100\n",
            "75/75 [==============================] - 0s 3ms/step - loss: 6393063499.7895 - accuracy: 0.4931 - val_loss: 3908656128.0000 - val_accuracy: 0.5243\n",
            "Epoch 8/100\n",
            "75/75 [==============================] - 0s 3ms/step - loss: 7174799316.2105 - accuracy: 0.4951 - val_loss: 3757700864.0000 - val_accuracy: 0.5243\n",
            "Epoch 9/100\n",
            "75/75 [==============================] - 0s 2ms/step - loss: 8783183053.4737 - accuracy: 0.5082 - val_loss: 12775008256.0000 - val_accuracy: 0.5243\n",
            "Epoch 10/100\n",
            "75/75 [==============================] - 0s 2ms/step - loss: 7148997510.7368 - accuracy: 0.5017 - val_loss: 6436967424.0000 - val_accuracy: 0.4757\n",
            "Epoch 11/100\n",
            "75/75 [==============================] - 0s 2ms/step - loss: 3247311474.5263 - accuracy: 0.4875 - val_loss: 578025536.0000 - val_accuracy: 0.5243\n",
            "Epoch 12/100\n",
            "75/75 [==============================] - 0s 2ms/step - loss: 1833329011.3684 - accuracy: 0.5135 - val_loss: 3748728320.0000 - val_accuracy: 0.5243\n",
            "Epoch 13/100\n",
            "75/75 [==============================] - 0s 2ms/step - loss: 2880592623.1579 - accuracy: 0.4974 - val_loss: 106749320.0000 - val_accuracy: 0.5243\n",
            "Epoch 14/100\n",
            "75/75 [==============================] - 0s 3ms/step - loss: 1519654694.7368 - accuracy: 0.5208 - val_loss: 1292193536.0000 - val_accuracy: 0.4757\n",
            "Epoch 15/100\n",
            "75/75 [==============================] - 0s 3ms/step - loss: 966332005.8947 - accuracy: 0.4955 - val_loss: 285071008.0000 - val_accuracy: 0.5206\n",
            "Epoch 16/100\n",
            "75/75 [==============================] - 0s 2ms/step - loss: 953354974.3158 - accuracy: 0.5210 - val_loss: 63869612.0000 - val_accuracy: 0.4757\n",
            "Epoch 17/100\n",
            "75/75 [==============================] - 0s 3ms/step - loss: 778176509.0526 - accuracy: 0.5124 - val_loss: 375410912.0000 - val_accuracy: 0.5243\n",
            "Epoch 18/100\n",
            "75/75 [==============================] - 0s 3ms/step - loss: 516353380.6316 - accuracy: 0.5009 - val_loss: 93095200.0000 - val_accuracy: 0.5243\n",
            "Epoch 19/100\n",
            "75/75 [==============================] - 0s 3ms/step - loss: 474458289.8947 - accuracy: 0.5062 - val_loss: 531921472.0000 - val_accuracy: 0.5243\n",
            "Epoch 20/100\n",
            "75/75 [==============================] - 0s 2ms/step - loss: 843004725.8947 - accuracy: 0.4906 - val_loss: 759804800.0000 - val_accuracy: 0.5243\n",
            "Epoch 21/100\n",
            "75/75 [==============================] - 0s 2ms/step - loss: 364050842.5263 - accuracy: 0.5112 - val_loss: 170646720.0000 - val_accuracy: 0.4757\n",
            "Epoch 22/100\n",
            "75/75 [==============================] - 0s 2ms/step - loss: 293757962.5263 - accuracy: 0.5146 - val_loss: 920704448.0000 - val_accuracy: 0.5243\n",
            "Epoch 23/100\n",
            "75/75 [==============================] - 0s 2ms/step - loss: 617163312.8421 - accuracy: 0.5059 - val_loss: 879735552.0000 - val_accuracy: 0.4757\n",
            "Epoch 24/100\n",
            "75/75 [==============================] - 0s 2ms/step - loss: 1701560475.3684 - accuracy: 0.5017 - val_loss: 8806466560.0000 - val_accuracy: 0.5243\n",
            "Epoch 25/100\n",
            "75/75 [==============================] - 0s 3ms/step - loss: 3887589288.4211 - accuracy: 0.5001 - val_loss: 3287066624.0000 - val_accuracy: 0.4757\n",
            "Epoch 26/100\n",
            "75/75 [==============================] - 0s 3ms/step - loss: 1878411885.4737 - accuracy: 0.5055 - val_loss: 923866048.0000 - val_accuracy: 0.5243\n",
            "Epoch 27/100\n",
            "75/75 [==============================] - 0s 3ms/step - loss: 1282606080.8421 - accuracy: 0.4949 - val_loss: 554750208.0000 - val_accuracy: 0.5243\n",
            "Epoch 28/100\n",
            "75/75 [==============================] - 0s 2ms/step - loss: 779461686.3158 - accuracy: 0.5054 - val_loss: 69262848.0000 - val_accuracy: 0.4757\n",
            "Epoch 29/100\n",
            "75/75 [==============================] - 0s 3ms/step - loss: 559299971.5789 - accuracy: 0.5133 - val_loss: 753082112.0000 - val_accuracy: 0.5243\n",
            "Epoch 30/100\n",
            "75/75 [==============================] - 0s 3ms/step - loss: 1070017357.4737 - accuracy: 0.4841 - val_loss: 315407936.0000 - val_accuracy: 0.4757\n",
            "Epoch 31/100\n",
            "75/75 [==============================] - 0s 2ms/step - loss: 791370789.0526 - accuracy: 0.5160 - val_loss: 4517783040.0000 - val_accuracy: 0.5243\n",
            "Epoch 32/100\n",
            "75/75 [==============================] - 0s 2ms/step - loss: 1448446442.1053 - accuracy: 0.5233 - val_loss: 318817408.0000 - val_accuracy: 0.4757\n",
            "Epoch 33/100\n",
            "75/75 [==============================] - 0s 3ms/step - loss: 1308559373.4737 - accuracy: 0.4960 - val_loss: 915647232.0000 - val_accuracy: 0.5243\n",
            "Epoch 34/100\n",
            "75/75 [==============================] - 0s 3ms/step - loss: 823277856.8421 - accuracy: 0.5041 - val_loss: 587257920.0000 - val_accuracy: 0.5243\n",
            "Epoch 35/100\n",
            "75/75 [==============================] - 0s 2ms/step - loss: 419588313.6842 - accuracy: 0.5149 - val_loss: 324737664.0000 - val_accuracy: 0.4757\n",
            "Epoch 36/100\n",
            "75/75 [==============================] - 0s 2ms/step - loss: 315564887.5789 - accuracy: 0.5029 - val_loss: 264478384.0000 - val_accuracy: 0.4757\n",
            "Epoch 37/100\n",
            "75/75 [==============================] - 0s 3ms/step - loss: 173380253.6842 - accuracy: 0.5051 - val_loss: 661097152.0000 - val_accuracy: 0.5243\n",
            "Epoch 38/100\n",
            "75/75 [==============================] - 0s 3ms/step - loss: 430934781.8947 - accuracy: 0.5275 - val_loss: 1131480576.0000 - val_accuracy: 0.4757\n",
            "Epoch 39/100\n",
            "75/75 [==============================] - 0s 2ms/step - loss: 586901213.8947 - accuracy: 0.4844 - val_loss: 607180032.0000 - val_accuracy: 0.5243\n",
            "Epoch 40/100\n",
            "75/75 [==============================] - 0s 2ms/step - loss: 654698111.1579 - accuracy: 0.4935 - val_loss: 301111872.0000 - val_accuracy: 0.5243\n",
            "Epoch 41/100\n",
            "75/75 [==============================] - 0s 2ms/step - loss: 272163361.2632 - accuracy: 0.4879 - val_loss: 29290268.0000 - val_accuracy: 0.4794\n",
            "Epoch 42/100\n",
            "75/75 [==============================] - 0s 3ms/step - loss: 386120304.8947 - accuracy: 0.4911 - val_loss: 1352559744.0000 - val_accuracy: 0.5243\n",
            "Epoch 43/100\n",
            "75/75 [==============================] - 0s 3ms/step - loss: 1882398198.7368 - accuracy: 0.4908 - val_loss: 4128413184.0000 - val_accuracy: 0.4757\n",
            "Epoch 44/100\n",
            "75/75 [==============================] - 0s 3ms/step - loss: 3774356985.2632 - accuracy: 0.4836 - val_loss: 1606719872.0000 - val_accuracy: 0.4757\n",
            "Epoch 45/100\n",
            "75/75 [==============================] - 0s 2ms/step - loss: 1036443589.4737 - accuracy: 0.4849 - val_loss: 17584340.0000 - val_accuracy: 0.5581\n",
            "Epoch 46/100\n",
            "75/75 [==============================] - 0s 2ms/step - loss: 237986489.8947 - accuracy: 0.4835 - val_loss: 121309424.0000 - val_accuracy: 0.5243\n",
            "Epoch 47/100\n",
            "75/75 [==============================] - 0s 2ms/step - loss: 233636167.3684 - accuracy: 0.5013 - val_loss: 618079744.0000 - val_accuracy: 0.5243\n",
            "Epoch 48/100\n",
            "75/75 [==============================] - 0s 2ms/step - loss: 236631207.7895 - accuracy: 0.5295 - val_loss: 18497946.0000 - val_accuracy: 0.5243\n",
            "Epoch 49/100\n",
            "75/75 [==============================] - 0s 2ms/step - loss: 60654144.3421 - accuracy: 0.4973 - val_loss: 112607488.0000 - val_accuracy: 0.5243\n",
            "Epoch 50/100\n",
            "75/75 [==============================] - 0s 2ms/step - loss: 91478546.0000 - accuracy: 0.4859 - val_loss: 52456160.0000 - val_accuracy: 0.4757\n",
            "Epoch 51/100\n",
            "75/75 [==============================] - 0s 3ms/step - loss: 61819979.9474 - accuracy: 0.4914 - val_loss: 1061854.5000 - val_accuracy: 0.4757\n",
            "Epoch 52/100\n",
            "75/75 [==============================] - 0s 2ms/step - loss: 40682204.0987 - accuracy: 0.5288 - val_loss: 51549176.0000 - val_accuracy: 0.5243\n",
            "Epoch 53/100\n",
            "75/75 [==============================] - 0s 2ms/step - loss: 145138181.1053 - accuracy: 0.5035 - val_loss: 60440908.0000 - val_accuracy: 0.4757\n",
            "Epoch 54/100\n",
            "75/75 [==============================] - 0s 3ms/step - loss: 72721766.2105 - accuracy: 0.4896 - val_loss: 37902756.0000 - val_accuracy: 0.5243\n",
            "Epoch 55/100\n",
            "75/75 [==============================] - 0s 2ms/step - loss: 53723835.6842 - accuracy: 0.4864 - val_loss: 17375734.0000 - val_accuracy: 0.4757\n",
            "Epoch 56/100\n",
            "75/75 [==============================] - 0s 3ms/step - loss: 22100734.4737 - accuracy: 0.5248 - val_loss: 4515826.5000 - val_accuracy: 0.5206\n",
            "Epoch 57/100\n",
            "75/75 [==============================] - 0s 2ms/step - loss: 61978863.4474 - accuracy: 0.4855 - val_loss: 38520776.0000 - val_accuracy: 0.5243\n",
            "Epoch 58/100\n",
            "75/75 [==============================] - 0s 2ms/step - loss: 31236450.2632 - accuracy: 0.4988 - val_loss: 20671352.0000 - val_accuracy: 0.4757\n",
            "Epoch 59/100\n",
            "75/75 [==============================] - 0s 3ms/step - loss: 23395362.9474 - accuracy: 0.5091 - val_loss: 23600998.0000 - val_accuracy: 0.5243\n",
            "Epoch 60/100\n",
            "75/75 [==============================] - 0s 3ms/step - loss: 16394612.9342 - accuracy: 0.4854 - val_loss: 42400724.0000 - val_accuracy: 0.4757\n",
            "Epoch 61/100\n",
            "75/75 [==============================] - 0s 3ms/step - loss: 19595232.0921 - accuracy: 0.5140 - val_loss: 23962368.0000 - val_accuracy: 0.5243\n",
            "Epoch 62/100\n",
            "75/75 [==============================] - 0s 3ms/step - loss: 65775563.9211 - accuracy: 0.5086 - val_loss: 18749088.0000 - val_accuracy: 0.4757\n",
            "Epoch 63/100\n",
            "75/75 [==============================] - 0s 3ms/step - loss: 675371436.5526 - accuracy: 0.4953 - val_loss: 7734363136.0000 - val_accuracy: 0.4757\n",
            "Epoch 64/100\n",
            "75/75 [==============================] - 0s 3ms/step - loss: 4714616734.3158 - accuracy: 0.5074 - val_loss: 25209948.0000 - val_accuracy: 0.4757\n",
            "Epoch 65/100\n",
            "75/75 [==============================] - 0s 3ms/step - loss: 5561722.6875 - accuracy: 0.5174 - val_loss: 1280.9260 - val_accuracy: 0.5655\n",
            "Epoch 66/100\n",
            "75/75 [==============================] - 0s 2ms/step - loss: 6674.3070 - accuracy: 0.4839 - val_loss: 700.2187 - val_accuracy: 0.5243\n",
            "Epoch 67/100\n",
            "75/75 [==============================] - 0s 3ms/step - loss: 17198.0023 - accuracy: 0.4913 - val_loss: 6505.7227 - val_accuracy: 0.5206\n",
            "Epoch 68/100\n",
            "75/75 [==============================] - 0s 2ms/step - loss: 4520.3198 - accuracy: 0.4892 - val_loss: 3423.1321 - val_accuracy: 0.5543\n",
            "Epoch 69/100\n",
            "75/75 [==============================] - 0s 3ms/step - loss: 3995.7840 - accuracy: 0.5020 - val_loss: 473.6938 - val_accuracy: 0.5730\n",
            "Epoch 70/100\n",
            "75/75 [==============================] - 0s 2ms/step - loss: 614.3485 - accuracy: 0.5080 - val_loss: 397.2838 - val_accuracy: 0.4307\n",
            "Epoch 71/100\n",
            "75/75 [==============================] - 0s 2ms/step - loss: 597.7035 - accuracy: 0.5027 - val_loss: 255.2510 - val_accuracy: 0.4419\n",
            "Epoch 72/100\n",
            "75/75 [==============================] - 0s 2ms/step - loss: 356.5590 - accuracy: 0.4989 - val_loss: 909.6351 - val_accuracy: 0.4757\n",
            "Epoch 73/100\n",
            "75/75 [==============================] - 0s 3ms/step - loss: 845.0164 - accuracy: 0.4863 - val_loss: 134.0042 - val_accuracy: 0.4757\n",
            "Epoch 74/100\n",
            "75/75 [==============================] - 0s 2ms/step - loss: 570.3637 - accuracy: 0.4990 - val_loss: 123.7906 - val_accuracy: 0.4757\n",
            "Epoch 75/100\n",
            "75/75 [==============================] - 0s 3ms/step - loss: 218.4227 - accuracy: 0.4966 - val_loss: 959.3785 - val_accuracy: 0.4419\n",
            "Epoch 76/100\n",
            "75/75 [==============================] - 0s 3ms/step - loss: 337.3918 - accuracy: 0.5243 - val_loss: 3.8658 - val_accuracy: 0.4757\n",
            "Epoch 77/100\n",
            "75/75 [==============================] - 0s 2ms/step - loss: 41.8853 - accuracy: 0.4940 - val_loss: 64.4868 - val_accuracy: 0.4382\n",
            "Epoch 78/100\n",
            "75/75 [==============================] - 0s 2ms/step - loss: 87.1302 - accuracy: 0.5097 - val_loss: 129.5138 - val_accuracy: 0.4382\n",
            "Epoch 79/100\n",
            "75/75 [==============================] - 0s 2ms/step - loss: 54.6299 - accuracy: 0.5191 - val_loss: 127.0664 - val_accuracy: 0.4494\n",
            "Epoch 80/100\n",
            "75/75 [==============================] - 0s 3ms/step - loss: 75.3818 - accuracy: 0.5108 - val_loss: 54.9961 - val_accuracy: 0.4757\n",
            "Epoch 81/100\n",
            "75/75 [==============================] - 0s 3ms/step - loss: 85.3456 - accuracy: 0.4956 - val_loss: 4.7450 - val_accuracy: 0.4757\n",
            "Epoch 82/100\n",
            "75/75 [==============================] - 0s 2ms/step - loss: 23.4020 - accuracy: 0.5087 - val_loss: 73.0399 - val_accuracy: 0.4457\n",
            "Epoch 83/100\n",
            "75/75 [==============================] - 0s 2ms/step - loss: 20.5438 - accuracy: 0.4995 - val_loss: 8.1040 - val_accuracy: 0.4757\n",
            "Epoch 84/100\n",
            "75/75 [==============================] - 0s 3ms/step - loss: 33.4779 - accuracy: 0.5102 - val_loss: 53.8314 - val_accuracy: 0.4569\n",
            "Epoch 85/100\n",
            "75/75 [==============================] - 0s 3ms/step - loss: 29.4320 - accuracy: 0.4978 - val_loss: 94.4504 - val_accuracy: 0.4532\n",
            "Epoch 86/100\n",
            "75/75 [==============================] - 0s 2ms/step - loss: 41.4387 - accuracy: 0.4983 - val_loss: 37.7238 - val_accuracy: 0.4569\n",
            "Epoch 87/100\n",
            "75/75 [==============================] - 0s 3ms/step - loss: 24.0299 - accuracy: 0.5028 - val_loss: 2.4768 - val_accuracy: 0.4757\n",
            "Epoch 88/100\n",
            "75/75 [==============================] - 0s 3ms/step - loss: 5.8040 - accuracy: 0.5119 - val_loss: 18.3607 - val_accuracy: 0.4644\n",
            "Epoch 89/100\n",
            "75/75 [==============================] - 0s 2ms/step - loss: 14.5011 - accuracy: 0.5108 - val_loss: 2.1149 - val_accuracy: 0.4757\n",
            "Epoch 90/100\n",
            "75/75 [==============================] - 0s 3ms/step - loss: 10.5943 - accuracy: 0.4988 - val_loss: 9.9097 - val_accuracy: 0.4682\n",
            "Epoch 91/100\n",
            "75/75 [==============================] - 0s 3ms/step - loss: 9.8666 - accuracy: 0.4966 - val_loss: 1.8619 - val_accuracy: 0.4757\n",
            "Epoch 92/100\n",
            "75/75 [==============================] - 0s 2ms/step - loss: 8.2965 - accuracy: 0.4973 - val_loss: 2.5018 - val_accuracy: 0.4757\n",
            "Epoch 93/100\n",
            "75/75 [==============================] - 0s 3ms/step - loss: 15.4386 - accuracy: 0.5073 - val_loss: 10.5948 - val_accuracy: 0.4607\n",
            "Epoch 94/100\n",
            "75/75 [==============================] - 0s 3ms/step - loss: 3.7936 - accuracy: 0.5010 - val_loss: 1.5609 - val_accuracy: 0.4757\n",
            "Epoch 95/100\n",
            "75/75 [==============================] - 0s 3ms/step - loss: 7.9000 - accuracy: 0.4970 - val_loss: 2.6076 - val_accuracy: 0.4682\n",
            "Epoch 96/100\n",
            "75/75 [==============================] - 0s 3ms/step - loss: 4.3680 - accuracy: 0.5001 - val_loss: 8.1408 - val_accuracy: 0.4682\n",
            "Epoch 97/100\n",
            "75/75 [==============================] - 0s 3ms/step - loss: 8.7614 - accuracy: 0.4975 - val_loss: 0.6961 - val_accuracy: 0.4719\n",
            "Epoch 98/100\n",
            "75/75 [==============================] - 0s 3ms/step - loss: 9.5233 - accuracy: 0.5091 - val_loss: 0.7806 - val_accuracy: 0.4757\n",
            "Epoch 99/100\n",
            "75/75 [==============================] - 0s 2ms/step - loss: 3.9880 - accuracy: 0.5095 - val_loss: 1.1197 - val_accuracy: 0.4757\n",
            "Epoch 100/100\n",
            "75/75 [==============================] - 0s 3ms/step - loss: 3.0968 - accuracy: 0.4974 - val_loss: 2.7647 - val_accuracy: 0.4757\n"
          ],
          "name": "stdout"
        }
      ]
    },
    {
      "cell_type": "code",
      "metadata": {
        "colab": {
          "base_uri": "https://localhost:8080/"
        },
        "id": "sYQTlwuog_DJ",
        "outputId": "b45af905-5a51-416a-a2d4-d729583d4b7b"
      },
      "source": [
        "loss, accuracy = model.evaluate(x_test, y_test)\n",
        "print(\"Accuracy = {:.2f}\".format(accuracy))"
      ],
      "execution_count": 35,
      "outputs": [
        {
          "output_type": "stream",
          "text": [
            "9/9 [==============================] - 0s 2ms/step - loss: 2.7647 - accuracy: 0.4757\n",
            "Accuracy = 0.48\n"
          ],
          "name": "stdout"
        }
      ]
    },
    {
      "cell_type": "code",
      "metadata": {
        "id": "Jk3W4-1glkjF"
      },
      "source": [
        ""
      ],
      "execution_count": null,
      "outputs": []
    }
  ]
}