{
  "nbformat": 4,
  "nbformat_minor": 0,
  "metadata": {
    "colab": {
      "name": "sk_hynix_LSTM.ipynb",
      "provenance": [],
      "collapsed_sections": []
    },
    "kernelspec": {
      "name": "python3",
      "display_name": "Python 3"
    },
    "language_info": {
      "name": "python"
    }
  },
  "cells": [
    {
      "cell_type": "code",
      "metadata": {
        "colab": {
          "base_uri": "https://localhost:8080/"
        },
        "id": "alPQV-M9Scic",
        "outputId": "cfcf3347-d9c8-4ce3-ce3c-be81d6b9d545"
      },
      "source": [
        "from google.colab import drive\n",
        "drive.mount('/content/drive')"
      ],
      "execution_count": 1,
      "outputs": [
        {
          "output_type": "stream",
          "text": [
            "Drive already mounted at /content/drive; to attempt to forcibly remount, call drive.mount(\"/content/drive\", force_remount=True).\n"
          ],
          "name": "stdout"
        }
      ]
    },
    {
      "cell_type": "code",
      "metadata": {
        "id": "BT6jq786UGTk"
      },
      "source": [
        "from tensorflow.keras import Sequential\n",
        "from tensorflow.keras.layers import Dense, LSTM, Dropout\n",
        "import numpy as np\n",
        "import matplotlib.pyplot as plt\n",
        "import pandas as pd\n",
        "import re\n",
        "import csv\n",
        "from sklearn.model_selection import train_test_split"
      ],
      "execution_count": 2,
      "outputs": []
    },
    {
      "cell_type": "code",
      "metadata": {
        "id": "io29xNpDSrnF"
      },
      "source": [
        "sk_hynix = '/content/drive/My Drive/lstm.csv'\n",
        "df = pd.read_csv(sk_hynix,encoding='CP949')"
      ],
      "execution_count": 3,
      "outputs": []
    },
    {
      "cell_type": "code",
      "metadata": {
        "colab": {
          "base_uri": "https://localhost:8080/",
          "height": 195
        },
        "id": "KFLuH4MgTeTX",
        "outputId": "bb83fb84-e2a5-4536-fa2c-d1eefd300a4c"
      },
      "source": [
        "df.head()"
      ],
      "execution_count": 4,
      "outputs": [
        {
          "output_type": "execute_result",
          "data": {
            "text/html": [
              "<div>\n",
              "<style scoped>\n",
              "    .dataframe tbody tr th:only-of-type {\n",
              "        vertical-align: middle;\n",
              "    }\n",
              "\n",
              "    .dataframe tbody tr th {\n",
              "        vertical-align: top;\n",
              "    }\n",
              "\n",
              "    .dataframe thead th {\n",
              "        text-align: right;\n",
              "    }\n",
              "</style>\n",
              "<table border=\"1\" class=\"dataframe\">\n",
              "  <thead>\n",
              "    <tr style=\"text-align: right;\">\n",
              "      <th></th>\n",
              "      <th>일자</th>\n",
              "      <th>종가</th>\n",
              "      <th>대비</th>\n",
              "      <th>등락률</th>\n",
              "      <th>시가</th>\n",
              "      <th>고가</th>\n",
              "      <th>저가</th>\n",
              "      <th>거래량</th>\n",
              "      <th>거래대금</th>\n",
              "      <th>시가총액</th>\n",
              "      <th>상장주식수</th>\n",
              "    </tr>\n",
              "  </thead>\n",
              "  <tbody>\n",
              "    <tr>\n",
              "      <th>0</th>\n",
              "      <td>2021/04/12</td>\n",
              "      <td>137500</td>\n",
              "      <td>-2500</td>\n",
              "      <td>-1.79</td>\n",
              "      <td>140500</td>\n",
              "      <td>140500</td>\n",
              "      <td>136000</td>\n",
              "      <td>3878457</td>\n",
              "      <td>534353588500</td>\n",
              "      <td>100100325187500</td>\n",
              "      <td>728002365</td>\n",
              "    </tr>\n",
              "    <tr>\n",
              "      <th>1</th>\n",
              "      <td>2021/04/09</td>\n",
              "      <td>140000</td>\n",
              "      <td>-4000</td>\n",
              "      <td>-2.78</td>\n",
              "      <td>144000</td>\n",
              "      <td>145000</td>\n",
              "      <td>139500</td>\n",
              "      <td>3276077</td>\n",
              "      <td>464472291000</td>\n",
              "      <td>101920331100000</td>\n",
              "      <td>728002365</td>\n",
              "    </tr>\n",
              "    <tr>\n",
              "      <th>2</th>\n",
              "      <td>2021/04/08</td>\n",
              "      <td>144000</td>\n",
              "      <td>500</td>\n",
              "      <td>0.35</td>\n",
              "      <td>143500</td>\n",
              "      <td>146000</td>\n",
              "      <td>142500</td>\n",
              "      <td>3774932</td>\n",
              "      <td>543862222000</td>\n",
              "      <td>104832340560000</td>\n",
              "      <td>728002365</td>\n",
              "    </tr>\n",
              "    <tr>\n",
              "      <th>3</th>\n",
              "      <td>2021/04/07</td>\n",
              "      <td>143500</td>\n",
              "      <td>500</td>\n",
              "      <td>0.35</td>\n",
              "      <td>146000</td>\n",
              "      <td>146000</td>\n",
              "      <td>142500</td>\n",
              "      <td>2424687</td>\n",
              "      <td>348944024000</td>\n",
              "      <td>104468339377500</td>\n",
              "      <td>728002365</td>\n",
              "    </tr>\n",
              "    <tr>\n",
              "      <th>4</th>\n",
              "      <td>2021/04/06</td>\n",
              "      <td>143000</td>\n",
              "      <td>0</td>\n",
              "      <td>0.00</td>\n",
              "      <td>147000</td>\n",
              "      <td>147000</td>\n",
              "      <td>141500</td>\n",
              "      <td>3753217</td>\n",
              "      <td>540574718000</td>\n",
              "      <td>104104338195000</td>\n",
              "      <td>728002365</td>\n",
              "    </tr>\n",
              "  </tbody>\n",
              "</table>\n",
              "</div>"
            ],
            "text/plain": [
              "           일자      종가    대비  ...          거래대금             시가총액      상장주식수\n",
              "0  2021/04/12  137500 -2500  ...  534353588500  100100325187500  728002365\n",
              "1  2021/04/09  140000 -4000  ...  464472291000  101920331100000  728002365\n",
              "2  2021/04/08  144000   500  ...  543862222000  104832340560000  728002365\n",
              "3  2021/04/07  143500   500  ...  348944024000  104468339377500  728002365\n",
              "4  2021/04/06  143000     0  ...  540574718000  104104338195000  728002365\n",
              "\n",
              "[5 rows x 11 columns]"
            ]
          },
          "metadata": {
            "tags": []
          },
          "execution_count": 4
        }
      ]
    },
    {
      "cell_type": "code",
      "metadata": {
        "id": "p_-YytW7Uq9L"
      },
      "source": [
        "def MinMaxScaler(data):\n",
        "  numerator = data - np.min(data, 0)\n",
        "  denominator = np.max(data, 0) - np.min(data, 0)\n",
        "  return numerator / (denominator + 1e-7)"
      ],
      "execution_count": 5,
      "outputs": []
    },
    {
      "cell_type": "code",
      "metadata": {
        "id": "sD7O9iYzVEmc"
      },
      "source": [
        "dfx = df[['시가','고가','저가','거래량','종가']]\n",
        "dfx = MinMaxScaler(dfx)\n",
        "dfy = dfx[['종가']]\n",
        "x = dfx.values.tolist()\n",
        "y = dfy.values.tolist()"
      ],
      "execution_count": 6,
      "outputs": []
    },
    {
      "cell_type": "code",
      "metadata": {
        "colab": {
          "base_uri": "https://localhost:8080/"
        },
        "id": "Rlw-Pq1fVayD",
        "outputId": "30d106f1-f2ef-4801-ddc3-0942a8e57364"
      },
      "source": [
        "data_x = []\n",
        "data_y = []\n",
        "window_size = 10\n",
        "for i in range(len(y) - window_size):\n",
        "  _x = x[i : i + window_size]\n",
        "  _y = y[i + window_size]\n",
        "  data_x.append(_x)\n",
        "  data_y.append(_y)\n",
        "print(_x, \"->\", _y)"
      ],
      "execution_count": 7,
      "outputs": [
        {
          "output_type": "stream",
          "text": [
            "[[0.134228187919373, 0.13355481727565877, 0.14035087719288397, 5.150605376239212e-05, 0.13389276446592263], [0.13489932885896985, 0.13355481727565877, 0.14035087719288397, 3.798025850000122e-05, 0.13389276446592263], [0.134228187919373, 0.13355481727565877, 0.14035087719288397, 0.0011700276674697977, 0.13389276446592263], [0.134228187919373, 0.13355481727565877, 0.14035087719288397, 0.00011111448992278766, 0.13389276446592263], [0.134228187919373, 0.13289036544841668, 0.14035087719288397, 0.00011257128190949938, 0.13389276446592263], [0.134228187919373, 0.13289036544841668, 0.14035087719288397, 0.00015467093348053938, 0.13389276446592263], [0.134228187919373, 0.13289036544841668, 0.14035087719288397, 0.00023799179651078198, 0.13389276446592263], [0.134228187919373, 0.13289036544841668, 0.14035087719288397, 0.0001515118227677825, 0.13389276446592263], [0.134228187919373, 0.13355481727565877, 0.14035087719288397, 7.9485189746878e-05, 0.13389276446592263], [0.0, 0.0, 0.0, 0.0, 0.15411316685191648]] -> [0.15411316685191648]\n"
          ],
          "name": "stdout"
        }
      ]
    },
    {
      "cell_type": "code",
      "metadata": {
        "id": "46KSwabEVzgJ"
      },
      "source": [
        "train_size = int(len(data_y) * 0.7)\n",
        "train_x = np.array(data_x[0 : train_size])\n",
        "train_y = np.array(data_y[0: train_size])"
      ],
      "execution_count": 8,
      "outputs": []
    },
    {
      "cell_type": "code",
      "metadata": {
        "id": "5xnfMdR9V_hO"
      },
      "source": [
        "test_size = len(data_y) - train_size\n",
        "test_x = np.array(data_x[train_size : len(data_x)])\n",
        "test_y = np.array(data_y[train_size : len(data_y)])"
      ],
      "execution_count": 9,
      "outputs": []
    },
    {
      "cell_type": "code",
      "metadata": {
        "id": "7N1fcFM1WJzV"
      },
      "source": [
        "model = Sequential()\n",
        "model.add(LSTM(units=10, activation='relu', return_sequences=True, input_shape=(window_size, 5)))\n",
        "model.add(Dropout(0.1))\n",
        "model.add(LSTM(units=10, activation='relu'))"
      ],
      "execution_count": 10,
      "outputs": []
    },
    {
      "cell_type": "code",
      "metadata": {
        "colab": {
          "base_uri": "https://localhost:8080/"
        },
        "id": "wy8kw2c8WbEI",
        "outputId": "e21a7544-d753-4b2c-864f-2bfe55b4ef4f"
      },
      "source": [
        "model.add(Dropout(0.1))\n",
        "model.add(Dense(units=1))\n",
        "model.summary()"
      ],
      "execution_count": 11,
      "outputs": [
        {
          "output_type": "stream",
          "text": [
            "Model: \"sequential\"\n",
            "_________________________________________________________________\n",
            "Layer (type)                 Output Shape              Param #   \n",
            "=================================================================\n",
            "lstm (LSTM)                  (None, 10, 10)            640       \n",
            "_________________________________________________________________\n",
            "dropout (Dropout)            (None, 10, 10)            0         \n",
            "_________________________________________________________________\n",
            "lstm_1 (LSTM)                (None, 10)                840       \n",
            "_________________________________________________________________\n",
            "dropout_1 (Dropout)          (None, 10)                0         \n",
            "_________________________________________________________________\n",
            "dense (Dense)                (None, 1)                 11        \n",
            "=================================================================\n",
            "Total params: 1,491\n",
            "Trainable params: 1,491\n",
            "Non-trainable params: 0\n",
            "_________________________________________________________________\n"
          ],
          "name": "stdout"
        }
      ]
    },
    {
      "cell_type": "code",
      "metadata": {
        "colab": {
          "base_uri": "https://localhost:8080/"
        },
        "id": "ZDX_xY2bWiV6",
        "outputId": "62c4fca9-dc0b-4895-f859-c814f8635919"
      },
      "source": [
        "model.compile(optimizer='adam', loss='mean_squared_error')\n",
        "model.fit(train_x, train_y, epochs=50, batch_size=30)"
      ],
      "execution_count": 12,
      "outputs": [
        {
          "output_type": "stream",
          "text": [
            "Epoch 1/50\n",
            "142/142 [==============================] - 4s 8ms/step - loss: 0.0408\n",
            "Epoch 2/50\n",
            "142/142 [==============================] - 1s 8ms/step - loss: 0.0055\n",
            "Epoch 3/50\n",
            "142/142 [==============================] - 1s 8ms/step - loss: 0.0038\n",
            "Epoch 4/50\n",
            "142/142 [==============================] - 1s 8ms/step - loss: 0.0033\n",
            "Epoch 5/50\n",
            "142/142 [==============================] - 1s 8ms/step - loss: 0.0026\n",
            "Epoch 6/50\n",
            "142/142 [==============================] - 1s 8ms/step - loss: 0.0022\n",
            "Epoch 7/50\n",
            "142/142 [==============================] - 1s 8ms/step - loss: 0.0020\n",
            "Epoch 8/50\n",
            "142/142 [==============================] - 1s 8ms/step - loss: 0.0024\n",
            "Epoch 9/50\n",
            "142/142 [==============================] - 1s 8ms/step - loss: 0.0016\n",
            "Epoch 10/50\n",
            "142/142 [==============================] - 1s 8ms/step - loss: 0.0013\n",
            "Epoch 11/50\n",
            "142/142 [==============================] - 1s 8ms/step - loss: 0.0013\n",
            "Epoch 12/50\n",
            "142/142 [==============================] - 1s 8ms/step - loss: 0.0014\n",
            "Epoch 13/50\n",
            "142/142 [==============================] - 1s 8ms/step - loss: 0.0012\n",
            "Epoch 14/50\n",
            "142/142 [==============================] - 1s 8ms/step - loss: 0.0015\n",
            "Epoch 15/50\n",
            "142/142 [==============================] - 1s 8ms/step - loss: 0.0013\n",
            "Epoch 16/50\n",
            "142/142 [==============================] - 1s 8ms/step - loss: 0.0014\n",
            "Epoch 17/50\n",
            "142/142 [==============================] - 1s 8ms/step - loss: 0.0014\n",
            "Epoch 18/50\n",
            "142/142 [==============================] - 1s 8ms/step - loss: 0.0012\n",
            "Epoch 19/50\n",
            "142/142 [==============================] - 1s 8ms/step - loss: 0.0012\n",
            "Epoch 20/50\n",
            "142/142 [==============================] - 1s 8ms/step - loss: 0.0011\n",
            "Epoch 21/50\n",
            "142/142 [==============================] - 1s 8ms/step - loss: 0.0012\n",
            "Epoch 22/50\n",
            "142/142 [==============================] - 1s 8ms/step - loss: 0.0013\n",
            "Epoch 23/50\n",
            "142/142 [==============================] - 1s 8ms/step - loss: 0.0012\n",
            "Epoch 24/50\n",
            "142/142 [==============================] - 1s 8ms/step - loss: 0.0012\n",
            "Epoch 25/50\n",
            "142/142 [==============================] - 1s 8ms/step - loss: 0.0013\n",
            "Epoch 26/50\n",
            "142/142 [==============================] - 1s 9ms/step - loss: 0.0013\n",
            "Epoch 27/50\n",
            "142/142 [==============================] - 1s 8ms/step - loss: 0.0012\n",
            "Epoch 28/50\n",
            "142/142 [==============================] - 1s 8ms/step - loss: 0.0011\n",
            "Epoch 29/50\n",
            "142/142 [==============================] - 1s 8ms/step - loss: 0.0010\n",
            "Epoch 30/50\n",
            "142/142 [==============================] - 1s 8ms/step - loss: 0.0010\n",
            "Epoch 31/50\n",
            "142/142 [==============================] - 1s 8ms/step - loss: 0.0012\n",
            "Epoch 32/50\n",
            "142/142 [==============================] - 1s 8ms/step - loss: 0.0012\n",
            "Epoch 33/50\n",
            "142/142 [==============================] - 1s 8ms/step - loss: 0.0011\n",
            "Epoch 34/50\n",
            "142/142 [==============================] - 1s 8ms/step - loss: 0.0012\n",
            "Epoch 35/50\n",
            "142/142 [==============================] - 1s 8ms/step - loss: 0.0012\n",
            "Epoch 36/50\n",
            "142/142 [==============================] - 1s 8ms/step - loss: 0.0010\n",
            "Epoch 37/50\n",
            "142/142 [==============================] - 1s 8ms/step - loss: 0.0012\n",
            "Epoch 38/50\n",
            "142/142 [==============================] - 1s 8ms/step - loss: 0.0012\n",
            "Epoch 39/50\n",
            "142/142 [==============================] - 1s 8ms/step - loss: 0.0011\n",
            "Epoch 40/50\n",
            "142/142 [==============================] - 1s 8ms/step - loss: 0.0012\n",
            "Epoch 41/50\n",
            "142/142 [==============================] - 1s 8ms/step - loss: 9.2499e-04\n",
            "Epoch 42/50\n",
            "142/142 [==============================] - 1s 8ms/step - loss: 0.0011\n",
            "Epoch 43/50\n",
            "142/142 [==============================] - 1s 8ms/step - loss: 9.2997e-04\n",
            "Epoch 44/50\n",
            "142/142 [==============================] - 1s 8ms/step - loss: 0.0011\n",
            "Epoch 45/50\n",
            "142/142 [==============================] - 1s 8ms/step - loss: 0.0011\n",
            "Epoch 46/50\n",
            "142/142 [==============================] - 1s 8ms/step - loss: 0.0014\n",
            "Epoch 47/50\n",
            "142/142 [==============================] - 1s 8ms/step - loss: 0.0012\n",
            "Epoch 48/50\n",
            "142/142 [==============================] - 1s 8ms/step - loss: 0.0011\n",
            "Epoch 49/50\n",
            "142/142 [==============================] - 1s 8ms/step - loss: 0.0011\n",
            "Epoch 50/50\n",
            "142/142 [==============================] - 1s 8ms/step - loss: 0.0011\n"
          ],
          "name": "stdout"
        },
        {
          "output_type": "execute_result",
          "data": {
            "text/plain": [
              "<tensorflow.python.keras.callbacks.History at 0x7f2f59819b10>"
            ]
          },
          "metadata": {
            "tags": []
          },
          "execution_count": 12
        }
      ]
    },
    {
      "cell_type": "code",
      "metadata": {
        "id": "O0nweYVVWvQc"
      },
      "source": [
        "pred_y = model.predict(test_x)"
      ],
      "execution_count": 13,
      "outputs": []
    },
    {
      "cell_type": "code",
      "metadata": {
        "colab": {
          "base_uri": "https://localhost:8080/",
          "height": 295
        },
        "id": "9swn-S_xW3DY",
        "outputId": "95658d90-b8c0-4121-e03e-7bc8ff371827"
      },
      "source": [
        "plt.figure()\n",
        "plt.plot(test_y, color='red', label='real stock price')\n",
        "plt.plot(pred_y, color='blue', label='predicted stock price')\n",
        "plt.title('stock price prediction')\n",
        "plt.xlabel('time')\n",
        "plt.ylabel('stock price')\n",
        "plt.legend()\n",
        "plt.show()"
      ],
      "execution_count": 14,
      "outputs": [
        {
          "output_type": "display_data",
          "data": {
            "image/png": "[encoded data removed]",
            "text/plain": [
              "<Figure size 432x288 with 1 Axes>"
            ]
          },
          "metadata": {
            "tags": [],
            "needs_background": "light"
          }
        }
      ]
    },
    {
      "cell_type": "code",
      "metadata": {
        "id": "1EUIop0fW5X9"
      },
      "source": [
        ""
      ],
      "execution_count": 14,
      "outputs": []
    }
  ]
}