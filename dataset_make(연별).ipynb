{
 "cells": [
  {
   "cell_type": "code",
   "execution_count": 6,
   "id": "c6375da9",
   "metadata": {},
   "outputs": [],
   "source": [
    "import csv\n",
    "import pandas as pd\n",
    "import numpy\n",
    "#import openpyxl"
   ]
  },
  {
   "cell_type": "code",
   "execution_count": 9,
   "id": "1706939f",
   "metadata": {},
   "outputs": [],
   "source": [
    "# #절대경로 지정, 각 파일에 맞게 수정\n",
    "# roa = pd.read_csv(\"./(연)roa.csv\",encoding='cp949')\n",
    "# roe = pd.read_csv(\"./(연)roe.csv\",encoding='cp949')\n",
    "# allo = pd.read_csv(\"./(연)sk하이닉스배당.csv\",encoding='cp949')\n",
    "# net_income = pd.read_csv(\"./(연)단기순이익.csv\",encoding='cp949')\n",
    "# sales_increase = pd.read_csv(\"./(연)매출증가액.csv\",encoding='cp949')\n",
    "# ope_profit = pd.read_csv(\"./(연)영업이익증가율.csv\",encoding='cp949')\n",
    "hnix = pd.read_csv('hinix.csv', encoding='cp949')\n",
    " = pd.read_csv('./dataset/환율.csv', encoding='cp949')/"
   ]
  },
  {
   "cell_type": "code",
   "execution_count": null,
   "metadata": {},
   "outputs": [],
   "source": []
  },
  {
   "cell_type": "code",
   "execution_count": 10,
   "id": "6d4b1431",
   "metadata": {
    "scrolled": true
   },
   "outputs": [
    {
     "output_type": "execute_result",
     "data": {
      "text/plain": [
       "              날짜      종가    대비   등락률      시가      고가      저가      거래량  \\\n",
       "0     1997-01-03   20000     0  0.00   20000   20100   20000   145680   \n",
       "1     1997-01-04   20000     0  0.00   20000   20000   20000   277690   \n",
       "2     1997-01-06   20000     0  0.00   20000   20000   20000   436190   \n",
       "3     1997-01-07   20000     0  0.00   20000   20000   20000   283480   \n",
       "4     1997-01-08   20000     0  0.00   20000   20000   20000   206320   \n",
       "...          ...     ...   ...   ...     ...     ...     ...      ...   \n",
       "6103  2021-05-10  130000   500  0.39  131000  131000  128500  3067077   \n",
       "6104  2021-05-11  123000 -7000 -5.38  127000  127500  122000  9882491   \n",
       "6105  2021-05-12  119500 -3500 -2.85  123000  123500  119000  8272196   \n",
       "6106  2021-05-13  117500 -2000 -1.67  116000  118500  115500  6042025   \n",
       "6107  2021-05-14  118500  1000  0.85  118500  120000  118000  3227201   \n",
       "\n",
       "              거래대금          시가총액      상장주식수        환율  \n",
       "0     2.913730e+09  1.120000e+12   56000000    844.60  \n",
       "1     5.553800e+09  1.120000e+12   56000000    842.70  \n",
       "2     8.723800e+09  1.120000e+12   56000000    842.70  \n",
       "3     5.669600e+09  1.120000e+12   56000000    844.70  \n",
       "4     4.126400e+09  1.120000e+12   56000000    844.60  \n",
       "...            ...           ...        ...       ...  \n",
       "6103  3.980000e+11  9.460000e+13  728002365  1,121.40  \n",
       "6104  1.230000e+12  8.950000e+13  728002365  1,114.60  \n",
       "6105  9.980000e+11  8.700000e+13  728002365  1,119.10  \n",
       "6106  7.070000e+11  8.550000e+13  728002365  1,123.50  \n",
       "6107  3.840000e+11  8.630000e+13  728002365  1,130.60  \n",
       "\n",
       "[6108 rows x 12 columns]"
      ],
      "text/html": "<div>\n<style scoped>\n    .dataframe tbody tr th:only-of-type {\n        vertical-align: middle;\n    }\n\n    .dataframe tbody tr th {\n        vertical-align: top;\n    }\n\n    .dataframe thead th {\n        text-align: right;\n    }\n</style>\n<table border=\"1\" class=\"dataframe\">\n  <thead>\n    <tr style=\"text-align: right;\">\n      <th></th>\n      <th>날짜</th>\n      <th>종가</th>\n      <th>대비</th>\n      <th>등락률</th>\n      <th>시가</th>\n      <th>고가</th>\n      <th>저가</th>\n      <th>거래량</th>\n      <th>거래대금</th>\n      <th>시가총액</th>\n      <th>상장주식수</th>\n      <th>환율</th>\n    </tr>\n  </thead>\n  <tbody>\n    <tr>\n      <th>0</th>\n      <td>1997-01-03</td>\n      <td>20000</td>\n      <td>0</td>\n      <td>0.00</td>\n      <td>20000</td>\n      <td>20100</td>\n      <td>20000</td>\n      <td>145680</td>\n      <td>2.913730e+09</td>\n      <td>1.120000e+12</td>\n      <td>56000000</td>\n      <td>844.60</td>\n    </tr>\n    <tr>\n      <th>1</th>\n      <td>1997-01-04</td>\n      <td>20000</td>\n      <td>0</td>\n      <td>0.00</td>\n      <td>20000</td>\n      <td>20000</td>\n      <td>20000</td>\n      <td>277690</td>\n      <td>5.553800e+09</td>\n      <td>1.120000e+12</td>\n      <td>56000000</td>\n      <td>842.70</td>\n    </tr>\n    <tr>\n      <th>2</th>\n      <td>1997-01-06</td>\n      <td>20000</td>\n      <td>0</td>\n      <td>0.00</td>\n      <td>20000</td>\n      <td>20000</td>\n      <td>20000</td>\n      <td>436190</td>\n      <td>8.723800e+09</td>\n      <td>1.120000e+12</td>\n      <td>56000000</td>\n      <td>842.70</td>\n    </tr>\n    <tr>\n      <th>3</th>\n      <td>1997-01-07</td>\n      <td>20000</td>\n      <td>0</td>\n      <td>0.00</td>\n      <td>20000</td>\n      <td>20000</td>\n      <td>20000</td>\n      <td>283480</td>\n      <td>5.669600e+09</td>\n      <td>1.120000e+12</td>\n      <td>56000000</td>\n      <td>844.70</td>\n    </tr>\n    <tr>\n      <th>4</th>\n      <td>1997-01-08</td>\n      <td>20000</td>\n      <td>0</td>\n      <td>0.00</td>\n      <td>20000</td>\n      <td>20000</td>\n      <td>20000</td>\n      <td>206320</td>\n      <td>4.126400e+09</td>\n      <td>1.120000e+12</td>\n      <td>56000000</td>\n      <td>844.60</td>\n    </tr>\n    <tr>\n      <th>...</th>\n      <td>...</td>\n      <td>...</td>\n      <td>...</td>\n      <td>...</td>\n      <td>...</td>\n      <td>...</td>\n      <td>...</td>\n      <td>...</td>\n      <td>...</td>\n      <td>...</td>\n      <td>...</td>\n      <td>...</td>\n    </tr>\n    <tr>\n      <th>6103</th>\n      <td>2021-05-10</td>\n      <td>130000</td>\n      <td>500</td>\n      <td>0.39</td>\n      <td>131000</td>\n      <td>131000</td>\n      <td>128500</td>\n      <td>3067077</td>\n      <td>3.980000e+11</td>\n      <td>9.460000e+13</td>\n      <td>728002365</td>\n      <td>1,121.40</td>\n    </tr>\n    <tr>\n      <th>6104</th>\n      <td>2021-05-11</td>\n      <td>123000</td>\n      <td>-7000</td>\n      <td>-5.38</td>\n      <td>127000</td>\n      <td>127500</td>\n      <td>122000</td>\n      <td>9882491</td>\n      <td>1.230000e+12</td>\n      <td>8.950000e+13</td>\n      <td>728002365</td>\n      <td>1,114.60</td>\n    </tr>\n    <tr>\n      <th>6105</th>\n      <td>2021-05-12</td>\n      <td>119500</td>\n      <td>-3500</td>\n      <td>-2.85</td>\n      <td>123000</td>\n      <td>123500</td>\n      <td>119000</td>\n      <td>8272196</td>\n      <td>9.980000e+11</td>\n      <td>8.700000e+13</td>\n      <td>728002365</td>\n      <td>1,119.10</td>\n    </tr>\n    <tr>\n      <th>6106</th>\n      <td>2021-05-13</td>\n      <td>117500</td>\n      <td>-2000</td>\n      <td>-1.67</td>\n      <td>116000</td>\n      <td>118500</td>\n      <td>115500</td>\n      <td>6042025</td>\n      <td>7.070000e+11</td>\n      <td>8.550000e+13</td>\n      <td>728002365</td>\n      <td>1,123.50</td>\n    </tr>\n    <tr>\n      <th>6107</th>\n      <td>2021-05-14</td>\n      <td>118500</td>\n      <td>1000</td>\n      <td>0.85</td>\n      <td>118500</td>\n      <td>120000</td>\n      <td>118000</td>\n      <td>3227201</td>\n      <td>3.840000e+11</td>\n      <td>8.630000e+13</td>\n      <td>728002365</td>\n      <td>1,130.60</td>\n    </tr>\n  </tbody>\n</table>\n<p>6108 rows × 12 columns</p>\n</div>"
     },
     "metadata": {},
     "execution_count": 10
    }
   ],
   "source": [
    "csv_df = pd.merge(hinix, d,how=\"left\")\n",
    "csv_df"
   ]
  },
  {
   "cell_type": "code",
   "execution_count": 11,
   "id": "5728f429",
   "metadata": {},
   "outputs": [],
   "source": [
    "csv_df.to_csv(\"./da 일별.csv\",encoding='cp949')"
   ]
  },
  {
   "cell_type": "code",
   "execution_count": null,
   "id": "9233e7f3",
   "metadata": {},
   "outputs": [],
   "source": []
  }
 ],
 "metadata": {
  "kernelspec": {
   "name": "python386jvsc74a57bd0d05600023db0a302af6ed14ce4da9274f018e6c90bf07a1d5b0536fcf65a971c",
   "display_name": "Python 3.8.6 64-bit"
  },
  "language_info": {
   "codemirror_mode": {
    "name": "ipython",
    "version": 3
   },
   "file_extension": ".py",
   "mimetype": "text/x-python",
   "name": "python",
   "nbconvert_exporter": "python",
   "pygments_lexer": "ipython3",
   "version": "3.8.6"
  },
  "metadata": {
   "interpreter": {
    "hash": "d05600023db0a302af6ed14ce4da9274f018e6c90bf07a1d5b0536fcf65a971c"
   }
  }
 },
 "nbformat": 4,
 "nbformat_minor": 5
}