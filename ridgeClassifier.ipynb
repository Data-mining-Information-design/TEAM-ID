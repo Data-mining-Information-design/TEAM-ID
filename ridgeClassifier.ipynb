{
 "cells": [
  {
   "cell_type": "code",
   "execution_count": 1,
   "id": "9d748215",
   "metadata": {},
   "outputs": [],
   "source": [
    "from sklearn.model_selection import train_test_split\n",
    "from sklearn.model_selection import cross_val_score\n",
    "from sklearn.metrics import confusion_matrix\n",
    "from sklearn.metrics import classification_report\n",
    "from sklearn.linear_model import RidgeClassifier\n",
    "\n",
    "import pandas as pd\n",
    "import numpy as np"
   ]
  },
  {
   "cell_type": "code",
   "execution_count": 2,
   "id": "8afd852e",
   "metadata": {},
   "outputs": [],
   "source": [
    "df = pd.read_csv('hynix_short.csv',index_col=0,parse_dates=[0], dayfirst=False,infer_datetime_format=True, encoding='cp949')"
   ]
  },
  {
   "cell_type": "code",
   "execution_count": 3,
   "id": "437915a0",
   "metadata": {},
   "outputs": [
    {
     "name": "stdout",
     "output_type": "stream",
     "text": [
      "삼성등락         0\n",
      "등락           0\n",
      "등락지표         0\n",
      "등락분류         0\n",
      "종가           0\n",
      "대비           0\n",
      "등락률          0\n",
      "시가           0\n",
      "고가           0\n",
      "저가           0\n",
      "거래량          0\n",
      "거래대금         0\n",
      "시가총액         0\n",
      "상장주식수        0\n",
      "환율           0\n",
      "유가종가         0\n",
      "유가오픈         0\n",
      "유가고가         0\n",
      "유가저가         0\n",
      "유가변동률        0\n",
      "한국은행기준금리     0\n",
      "연준기준금리       0\n",
      "한미기준금리차이     0\n",
      "반도체수출금액지수    9\n",
      "삼성종가         0\n",
      "SOX종가        0\n",
      "SOX변동률       0\n",
      "BTC종가        0\n",
      "BTC변동률       0\n",
      "종가코스피        0\n",
      "고가코스피        0\n",
      "저가코스피        0\n",
      "거래량코스피       0\n",
      "코스피변동        0\n",
      "종가코스닥        0\n",
      "시가코스닥        0\n",
      "고가코스닥        0\n",
      "저가코스닥        0\n",
      "거래량코스닥       0\n",
      "변동코스닥        0\n",
      "S.P종가        0\n",
      "S.P변동률       0\n",
      "dtype: int64\n",
      "(2670, 42)\n",
      "['삼성등락', '등락', '등락지표', '등락분류', '종가', '대비', '등락률', '시가', '고가', '저가', '거래량', '거래대금', '시가총액', '상장주식수', '환율', '유가종가', '유가오픈', '유가고가', '유가저가', '유가변동률', '한국은행기준금리', '연준기준금리', '한미기준금리차이', '반도체수출금액지수', '삼성종가', 'SOX종가', 'SOX변동률', 'BTC종가', 'BTC변동률', '종가코스피', '고가코스피', '저가코스피', '거래량코스피', '코스피변동', '종가코스닥', '시가코스닥', '고가코스닥', '저가코스닥', '거래량코스닥', '변동코스닥', 'S.P종가', 'S.P변동률']\n"
     ]
    }
   ],
   "source": [
    "print(df.isna().sum())\n",
    "print(df.shape)\n",
    "print(list(df.columns))"
   ]
  },
  {
   "cell_type": "code",
   "execution_count": 4,
   "id": "169ff683",
   "metadata": {},
   "outputs": [],
   "source": [
    "df = df.dropna(axis=0)"
   ]
  },
  {
   "cell_type": "code",
   "execution_count": 6,
   "id": "4381c149",
   "metadata": {},
   "outputs": [],
   "source": [
    "features = df[['종가','대비','환율', '유가종가', '유가오픈', '유가고가', '유가저가', '유가변동률', '한국은행기준금리', '연준기준금리', '한미기준금리차이', '반도체수출금액지수', '삼성종가', 'SOX종가', 'SOX변동률', 'BTC종가', 'BTC변동률', '종가코스피', '고가코스피', '저가코스피', '거래량코스피', '코스피변동', '종가코스닥', '시가코스닥', '고가코스닥', '저가코스닥', '거래량코스닥', '변동코스닥', 'S.P종가', 'S.P변동률']]\n",
    "target = df['삼성등락']"
   ]
  },
  {
   "cell_type": "code",
   "execution_count": 7,
   "id": "7e61b390",
   "metadata": {},
   "outputs": [],
   "source": [
    "random_seed = np.random.seed(2021)\n",
    "x_train, x_test, y_train, y_test = train_test_split(features, target, test_size=0.1, random_state=random_seed)"
   ]
  },
  {
   "cell_type": "code",
   "execution_count": 9,
   "id": "5915d288",
   "metadata": {},
   "outputs": [
    {
     "data": {
      "text/plain": [
       "RidgeClassifier(normalize=True)"
      ]
     },
     "execution_count": 9,
     "metadata": {},
     "output_type": "execute_result"
    }
   ],
   "source": [
    "rc = RidgeClassifier()\n",
    "RidgeClassifier(alpha=1.0, class_weight=None, copy_X=True, fit_intercept=True,\n",
    "                max_iter=None, normalize=True, random_state=random_seed, solver='auto',\n",
    "                tol=0.001)"
   ]
  },
  {
   "cell_type": "code",
   "execution_count": 10,
   "id": "bcf912e2",
   "metadata": {},
   "outputs": [
    {
     "name": "stdout",
     "output_type": "stream",
     "text": [
      "Score:  0.768170426065163\n"
     ]
    },
    {
     "name": "stderr",
     "output_type": "stream",
     "text": [
      "c:\\users\\waudy\\appdata\\local\\programs\\python\\python39\\lib\\site-packages\\sklearn\\linear_model\\_ridge.py:147: LinAlgWarning: Ill-conditioned matrix (rcond=7.04273e-22): result may not be accurate.\n",
      "  return linalg.solve(A, Xy, sym_pos=True,\n"
     ]
    }
   ],
   "source": [
    "rc.fit(x_train, y_train)\n",
    "score = rc.score(x_train, y_train)\n",
    "print(\"Score: \", score)"
   ]
  },
  {
   "cell_type": "code",
   "execution_count": 11,
   "id": "9c260099",
   "metadata": {
    "scrolled": true
   },
   "outputs": [
    {
     "name": "stderr",
     "output_type": "stream",
     "text": [
      "c:\\users\\waudy\\appdata\\local\\programs\\python\\python39\\lib\\site-packages\\sklearn\\linear_model\\_ridge.py:147: LinAlgWarning: Ill-conditioned matrix (rcond=7.79018e-22): result may not be accurate.\n",
      "  return linalg.solve(A, Xy, sym_pos=True,\n",
      "c:\\users\\waudy\\appdata\\local\\programs\\python\\python39\\lib\\site-packages\\sklearn\\linear_model\\_ridge.py:147: LinAlgWarning: Ill-conditioned matrix (rcond=8.17589e-22): result may not be accurate.\n",
      "  return linalg.solve(A, Xy, sym_pos=True,\n",
      "c:\\users\\waudy\\appdata\\local\\programs\\python\\python39\\lib\\site-packages\\sklearn\\linear_model\\_ridge.py:147: LinAlgWarning: Ill-conditioned matrix (rcond=8.01201e-22): result may not be accurate.\n",
      "  return linalg.solve(A, Xy, sym_pos=True,\n",
      "c:\\users\\waudy\\appdata\\local\\programs\\python\\python39\\lib\\site-packages\\sklearn\\linear_model\\_ridge.py:147: LinAlgWarning: Ill-conditioned matrix (rcond=7.86807e-22): result may not be accurate.\n",
      "  return linalg.solve(A, Xy, sym_pos=True,\n",
      "c:\\users\\waudy\\appdata\\local\\programs\\python\\python39\\lib\\site-packages\\sklearn\\linear_model\\_ridge.py:147: LinAlgWarning: Ill-conditioned matrix (rcond=7.81264e-22): result may not be accurate.\n",
      "  return linalg.solve(A, Xy, sym_pos=True,\n",
      "c:\\users\\waudy\\appdata\\local\\programs\\python\\python39\\lib\\site-packages\\sklearn\\linear_model\\_ridge.py:147: LinAlgWarning: Ill-conditioned matrix (rcond=7.61946e-22): result may not be accurate.\n",
      "  return linalg.solve(A, Xy, sym_pos=True,\n",
      "c:\\users\\waudy\\appdata\\local\\programs\\python\\python39\\lib\\site-packages\\sklearn\\linear_model\\_ridge.py:147: LinAlgWarning: Ill-conditioned matrix (rcond=7.67485e-22): result may not be accurate.\n",
      "  return linalg.solve(A, Xy, sym_pos=True,\n",
      "c:\\users\\waudy\\appdata\\local\\programs\\python\\python39\\lib\\site-packages\\sklearn\\linear_model\\_ridge.py:147: LinAlgWarning: Ill-conditioned matrix (rcond=7.76991e-22): result may not be accurate.\n",
      "  return linalg.solve(A, Xy, sym_pos=True,\n",
      "c:\\users\\waudy\\appdata\\local\\programs\\python\\python39\\lib\\site-packages\\sklearn\\linear_model\\_ridge.py:147: LinAlgWarning: Ill-conditioned matrix (rcond=7.80845e-22): result may not be accurate.\n",
      "  return linalg.solve(A, Xy, sym_pos=True,\n",
      "c:\\users\\waudy\\appdata\\local\\programs\\python\\python39\\lib\\site-packages\\sklearn\\linear_model\\_ridge.py:147: LinAlgWarning: Ill-conditioned matrix (rcond=7.74383e-22): result may not be accurate.\n",
      "  return linalg.solve(A, Xy, sym_pos=True,\n"
     ]
    },
    {
     "name": "stdout",
     "output_type": "stream",
     "text": [
      "CV average score: 0.76\n"
     ]
    }
   ],
   "source": [
    "cv_scores = cross_val_score(rc, x_train, y_train, cv=10)\n",
    "print(\"CV average score: %.2f\" % cv_scores.mean())"
   ]
  },
  {
   "cell_type": "code",
   "execution_count": 14,
   "id": "cc9bad47",
   "metadata": {},
   "outputs": [
    {
     "name": "stdout",
     "output_type": "stream",
     "text": [
      "[[108  32]\n",
      " [ 17 110]]\n"
     ]
    }
   ],
   "source": [
    "y_pred = rc.predict(x_test)\n",
    "\n",
    "cm = confusion_matrix(y_test, y_pred)\n",
    "print(cm)"
   ]
  },
  {
   "cell_type": "code",
   "execution_count": 15,
   "id": "924ddf69",
   "metadata": {},
   "outputs": [
    {
     "name": "stdout",
     "output_type": "stream",
     "text": [
      "              precision    recall  f1-score   support\n",
      "\n",
      "           0       0.86      0.77      0.82       140\n",
      "           1       0.77      0.87      0.82       127\n",
      "\n",
      "    accuracy                           0.82       267\n",
      "   macro avg       0.82      0.82      0.82       267\n",
      "weighted avg       0.82      0.82      0.82       267\n",
      "\n"
     ]
    }
   ],
   "source": [
    "cr = classification_report(y_test, y_pred)\n",
    "print(cr)"
   ]
  }
 ],
 "metadata": {
  "kernelspec": {
   "display_name": "Python 3",
   "language": "python",
   "name": "python3"
  },
  "language_info": {
   "codemirror_mode": {
    "name": "ipython",
    "version": 3
   },
   "file_extension": ".py",
   "mimetype": "text/x-python",
   "name": "python",
   "nbconvert_exporter": "python",
   "pygments_lexer": "ipython3",
   "version": "3.9.4"
  }
 },
 "nbformat": 4,
 "nbformat_minor": 5
}
