{
  "nbformat": 4,
  "nbformat_minor": 0,
  "metadata": {
    "colab": {
      "name": "CNN.ipynb",
      "provenance": [],
      "collapsed_sections": []
    },
    "kernelspec": {
      "name": "python3",
      "display_name": "Python 3"
    },
    "language_info": {
      "name": "python"
    }
  },
  "cells": [
    {
      "cell_type": "code",
      "metadata": {
        "colab": {
          "base_uri": "https://localhost:8080/"
        },
        "id": "pJ_nlZUde9Ey",
        "outputId": "9dc346be-7c0b-40fb-a78f-140beee92f24"
      },
      "source": [
        "from google.colab import drive\n",
        "drive.mount('/content/drive')"
      ],
      "execution_count": null,
      "outputs": [
        {
          "output_type": "stream",
          "text": [
            "Mounted at /content/drive\n"
          ],
          "name": "stdout"
        }
      ]
    },
    {
      "cell_type": "code",
      "metadata": {
        "id": "KevrqD-LfbLl"
      },
      "source": [
        "import pandas as pd\n",
        "import numpy as np\n",
        "import tensorflow as tf\n",
        "from sklearn.model_selection import train_test_split"
      ],
      "execution_count": null,
      "outputs": []
    },
    {
      "cell_type": "code",
      "metadata": {
        "id": "bOSF4mYWe_pb"
      },
      "source": [
        "data = pd.read_csv('/content/drive/My Drive/hynix_short.csv', index_col=0, parse_dates=[0], dayfirst=False,infer_datetime_format=True, encoding='cp949')"
      ],
      "execution_count": null,
      "outputs": []
    },
    {
      "cell_type": "code",
      "metadata": {
        "colab": {
          "base_uri": "https://localhost:8080/"
        },
        "id": "wAzZF7K9hiTh",
        "outputId": "f88b5080-0024-432f-da0d-6e5b3b1191c7"
      },
      "source": [
        "print(data.isna().sum())\n",
        "print(data.shape)\n",
        "print(list(data.columns))"
      ],
      "execution_count": null,
      "outputs": [
        {
          "output_type": "stream",
          "text": [
            "삼성등락         0\n",
            "등락           0\n",
            "등락지표         0\n",
            "등락분류         0\n",
            "종가           0\n",
            "대비           0\n",
            "등락률          0\n",
            "시가           0\n",
            "고가           0\n",
            "저가           0\n",
            "거래량          0\n",
            "거래대금         0\n",
            "시가총액         0\n",
            "상장주식수        0\n",
            "환율           0\n",
            "유가종가         0\n",
            "유가오픈         0\n",
            "유가고가         0\n",
            "유가저가         0\n",
            "유가변동률        0\n",
            "한국은행기준금리     0\n",
            "연준기준금리       0\n",
            "한미기준금리차이     0\n",
            "반도체수출금액지수    9\n",
            "삼성종가         0\n",
            "SOX종가        0\n",
            "SOX변동률       0\n",
            "BTC종가        0\n",
            "BTC변동률       0\n",
            "종가코스피        0\n",
            "고가코스피        0\n",
            "저가코스피        0\n",
            "거래량코스피       0\n",
            "코스피변동        0\n",
            "종가코스닥        0\n",
            "시가코스닥        0\n",
            "고가코스닥        0\n",
            "저가코스닥        0\n",
            "거래량코스닥       0\n",
            "변동코스닥        0\n",
            "S.P종가        0\n",
            "S.P변동률       0\n",
            "dtype: int64\n",
            "(2670, 42)\n",
            "['삼성등락', '등락', '등락지표', '등락분류', '종가', '대비', '등락률', '시가', '고가', '저가', '거래량', '거래대금', '시가총액', '상장주식수', '환율', '유가종가', '유가오픈', '유가고가', '유가저가', '유가변동률', '한국은행기준금리', '연준기준금리', '한미기준금리차이', '반도체수출금액지수', '삼성종가', 'SOX종가', 'SOX변동률', 'BTC종가', 'BTC변동률', '종가코스피', '고가코스피', '저가코스피', '거래량코스피', '코스피변동', '종가코스닥', '시가코스닥', '고가코스닥', '저가코스닥', '거래량코스닥', '변동코스닥', 'S.P종가', 'S.P변동률']\n"
          ],
          "name": "stdout"
        }
      ]
    },
    {
      "cell_type": "code",
      "metadata": {
        "id": "nRZCd88aht6p"
      },
      "source": [
        "data = data.dropna(axis=0)"
      ],
      "execution_count": null,
      "outputs": []
    },
    {
      "cell_type": "code",
      "metadata": {
        "id": "1DQ4QXhXfrUN"
      },
      "source": [
        "features = data[['S종가', 'H종가', '원달러환율', '유가종가', '유가오픈', '유가고가', '유가저가', '유가변동률', '한국기준금리', '미국기준금리', '한미기준금리차이', '반도체수출금액지수', 'SOX종가', 'SOX변동률', 'BTC종가', 'BTC변동률', '코스피종가', '코스피고가', '코스피저가', '코스피거래량', '코스피변동', '코스닥종가', '코스닥시가', '코스닥고가', '코스닥저가', '코스닥거래량', '코스닥변동', 'SP종가', 'SP변동률']]\n",
        "target = data['H금리대비']"
      ],
      "execution_count": null,
      "outputs": []
    },
    {
      "cell_type": "code",
      "metadata": {
        "id": "bxevugH7fYRp"
      },
      "source": [
        "random_seed = np.random.seed(2021)\n",
        "x_train, x_test, y_train, y_test = train_test_split(features, target, test_size=0.1, random_state=random_seed)"
      ],
      "execution_count": null,
      "outputs": []
    },
    {
      "cell_type": "code",
      "metadata": {
        "id": "GQTZPmNZG4Q1"
      },
      "source": [
        "from sklearn.preprocessing import StandardScaler\n",
        "scaler = StandardScaler()\n",
        "\n",
        "x_train = scaler.fit_transform(x_train)\n",
        "x_test = scaler.transform(x_test)"
      ],
      "execution_count": null,
      "outputs": []
    },
    {
      "cell_type": "code",
      "metadata": {
        "colab": {
          "base_uri": "https://localhost:8080/"
        },
        "id": "80eVN7IafyXg",
        "outputId": "ba590608-f400-4da6-b123-a8886d332f36"
      },
      "source": [
        "from keras.models import Sequential\n",
        "from keras.layers import Dense\n",
        "from keras.optimizers import Adam\n",
        "\n",
        "model = Sequential()\n",
        "\n",
        "model.add(Dense(64,input_shape=(29,),activation='relu'))\n",
        "model.add(Dense(64,activation='relu'))\n",
        "model.add(Dense(1,activation='sigmoid'))\n",
        "\n",
        "model.compile(loss='binary_crossentropy', \n",
        "              optimizer='Adam', \n",
        "              metrics=['accuracy'])\n",
        "\n",
        "model.summary()"
      ],
      "execution_count": null,
      "outputs": [
        {
          "output_type": "stream",
          "text": [
            "Model: \"sequential_7\"\n",
            "_________________________________________________________________\n",
            "Layer (type)                 Output Shape              Param #   \n",
            "=================================================================\n",
            "dense_24 (Dense)             (None, 64)                1920      \n",
            "_________________________________________________________________\n",
            "dense_25 (Dense)             (None, 64)                4160      \n",
            "_________________________________________________________________\n",
            "dense_26 (Dense)             (None, 1)                 65        \n",
            "=================================================================\n",
            "Total params: 6,145\n",
            "Trainable params: 6,145\n",
            "Non-trainable params: 0\n",
            "_________________________________________________________________\n"
          ],
          "name": "stdout"
        }
      ]
    },
    {
      "cell_type": "code",
      "metadata": {
        "colab": {
          "base_uri": "https://localhost:8080/"
        },
        "id": "DvEZWfl6f2aQ",
        "outputId": "71f52f02-0364-4a2f-eba0-f83385a69973"
      },
      "source": [
        "hist = model.fit(x_train, y_train, validation_data=(x_test, y_test), epochs=100)"
      ],
      "execution_count": null,
      "outputs": [
        {
          "output_type": "stream",
          "text": [
            "Epoch 1/100\n",
            "76/76 [==============================] - 1s 5ms/step - loss: 0.6646 - accuracy: 0.5854 - val_loss: 0.6569 - val_accuracy: 0.6217\n",
            "Epoch 2/100\n",
            "76/76 [==============================] - 0s 2ms/step - loss: 0.6129 - accuracy: 0.6621 - val_loss: 0.6428 - val_accuracy: 0.6105\n",
            "Epoch 3/100\n",
            "76/76 [==============================] - 0s 2ms/step - loss: 0.5842 - accuracy: 0.6845 - val_loss: 0.6293 - val_accuracy: 0.6217\n",
            "Epoch 4/100\n",
            "76/76 [==============================] - 0s 2ms/step - loss: 0.5976 - accuracy: 0.6714 - val_loss: 0.6299 - val_accuracy: 0.6292\n",
            "Epoch 5/100\n",
            "76/76 [==============================] - 0s 2ms/step - loss: 0.5904 - accuracy: 0.6698 - val_loss: 0.6500 - val_accuracy: 0.6067\n",
            "Epoch 6/100\n",
            "76/76 [==============================] - 0s 2ms/step - loss: 0.5995 - accuracy: 0.6564 - val_loss: 0.6581 - val_accuracy: 0.6067\n",
            "Epoch 7/100\n",
            "76/76 [==============================] - 0s 2ms/step - loss: 0.5868 - accuracy: 0.6708 - val_loss: 0.6283 - val_accuracy: 0.6330\n",
            "Epoch 8/100\n",
            "76/76 [==============================] - 0s 2ms/step - loss: 0.5737 - accuracy: 0.6812 - val_loss: 0.6397 - val_accuracy: 0.6330\n",
            "Epoch 9/100\n",
            "76/76 [==============================] - 0s 2ms/step - loss: 0.5848 - accuracy: 0.6785 - val_loss: 0.6347 - val_accuracy: 0.6142\n",
            "Epoch 10/100\n",
            "76/76 [==============================] - 0s 2ms/step - loss: 0.5646 - accuracy: 0.7162 - val_loss: 0.6386 - val_accuracy: 0.6255\n",
            "Epoch 11/100\n",
            "76/76 [==============================] - 0s 2ms/step - loss: 0.5666 - accuracy: 0.6919 - val_loss: 0.6296 - val_accuracy: 0.6292\n",
            "Epoch 12/100\n",
            "76/76 [==============================] - 0s 2ms/step - loss: 0.5701 - accuracy: 0.6927 - val_loss: 0.6447 - val_accuracy: 0.6105\n",
            "Epoch 13/100\n",
            "76/76 [==============================] - 0s 2ms/step - loss: 0.5672 - accuracy: 0.6922 - val_loss: 0.6541 - val_accuracy: 0.6067\n",
            "Epoch 14/100\n",
            "76/76 [==============================] - 0s 2ms/step - loss: 0.5582 - accuracy: 0.7069 - val_loss: 0.6343 - val_accuracy: 0.6105\n",
            "Epoch 15/100\n",
            "76/76 [==============================] - 0s 2ms/step - loss: 0.5517 - accuracy: 0.7006 - val_loss: 0.6335 - val_accuracy: 0.6404\n",
            "Epoch 16/100\n",
            "76/76 [==============================] - 0s 2ms/step - loss: 0.5530 - accuracy: 0.7067 - val_loss: 0.6531 - val_accuracy: 0.5993\n",
            "Epoch 17/100\n",
            "76/76 [==============================] - 0s 2ms/step - loss: 0.5458 - accuracy: 0.7112 - val_loss: 0.6477 - val_accuracy: 0.5955\n",
            "Epoch 18/100\n",
            "76/76 [==============================] - 0s 2ms/step - loss: 0.5593 - accuracy: 0.6990 - val_loss: 0.6374 - val_accuracy: 0.6330\n",
            "Epoch 19/100\n",
            "76/76 [==============================] - 0s 2ms/step - loss: 0.5487 - accuracy: 0.7108 - val_loss: 0.6446 - val_accuracy: 0.6067\n",
            "Epoch 20/100\n",
            "76/76 [==============================] - 0s 2ms/step - loss: 0.5413 - accuracy: 0.7119 - val_loss: 0.6384 - val_accuracy: 0.6255\n",
            "Epoch 21/100\n",
            "76/76 [==============================] - 0s 2ms/step - loss: 0.5314 - accuracy: 0.7185 - val_loss: 0.6590 - val_accuracy: 0.6217\n",
            "Epoch 22/100\n",
            "76/76 [==============================] - 0s 2ms/step - loss: 0.5491 - accuracy: 0.6934 - val_loss: 0.6980 - val_accuracy: 0.6255\n",
            "Epoch 23/100\n",
            "76/76 [==============================] - 0s 2ms/step - loss: 0.5325 - accuracy: 0.7196 - val_loss: 0.6558 - val_accuracy: 0.6180\n",
            "Epoch 24/100\n",
            "76/76 [==============================] - 0s 2ms/step - loss: 0.5321 - accuracy: 0.7252 - val_loss: 0.6588 - val_accuracy: 0.6292\n",
            "Epoch 25/100\n",
            "76/76 [==============================] - 0s 2ms/step - loss: 0.5354 - accuracy: 0.7176 - val_loss: 0.6596 - val_accuracy: 0.6105\n",
            "Epoch 26/100\n",
            "76/76 [==============================] - 0s 2ms/step - loss: 0.5149 - accuracy: 0.7363 - val_loss: 0.6654 - val_accuracy: 0.6067\n",
            "Epoch 27/100\n",
            "76/76 [==============================] - 0s 2ms/step - loss: 0.5446 - accuracy: 0.7113 - val_loss: 0.6891 - val_accuracy: 0.5918\n",
            "Epoch 28/100\n",
            "76/76 [==============================] - 0s 2ms/step - loss: 0.5407 - accuracy: 0.7151 - val_loss: 0.6868 - val_accuracy: 0.5955\n",
            "Epoch 29/100\n",
            "76/76 [==============================] - 0s 2ms/step - loss: 0.5167 - accuracy: 0.7360 - val_loss: 0.6582 - val_accuracy: 0.6255\n",
            "Epoch 30/100\n",
            "76/76 [==============================] - 0s 2ms/step - loss: 0.5154 - accuracy: 0.7379 - val_loss: 0.6697 - val_accuracy: 0.6217\n",
            "Epoch 31/100\n",
            "76/76 [==============================] - 0s 2ms/step - loss: 0.5209 - accuracy: 0.7314 - val_loss: 0.6781 - val_accuracy: 0.6142\n",
            "Epoch 32/100\n",
            "76/76 [==============================] - 0s 2ms/step - loss: 0.5089 - accuracy: 0.7386 - val_loss: 0.6771 - val_accuracy: 0.6255\n",
            "Epoch 33/100\n",
            "76/76 [==============================] - 0s 2ms/step - loss: 0.5000 - accuracy: 0.7388 - val_loss: 0.6818 - val_accuracy: 0.5993\n",
            "Epoch 34/100\n",
            "76/76 [==============================] - 0s 2ms/step - loss: 0.5027 - accuracy: 0.7464 - val_loss: 0.6727 - val_accuracy: 0.6217\n",
            "Epoch 35/100\n",
            "76/76 [==============================] - 0s 2ms/step - loss: 0.5091 - accuracy: 0.7294 - val_loss: 0.6938 - val_accuracy: 0.6105\n",
            "Epoch 36/100\n",
            "76/76 [==============================] - 0s 2ms/step - loss: 0.4983 - accuracy: 0.7407 - val_loss: 0.6788 - val_accuracy: 0.6217\n",
            "Epoch 37/100\n",
            "76/76 [==============================] - 0s 2ms/step - loss: 0.4944 - accuracy: 0.7416 - val_loss: 0.6900 - val_accuracy: 0.6255\n",
            "Epoch 38/100\n",
            "76/76 [==============================] - 0s 2ms/step - loss: 0.4956 - accuracy: 0.7498 - val_loss: 0.7016 - val_accuracy: 0.6067\n",
            "Epoch 39/100\n",
            "76/76 [==============================] - 0s 2ms/step - loss: 0.4838 - accuracy: 0.7602 - val_loss: 0.6994 - val_accuracy: 0.6030\n",
            "Epoch 40/100\n",
            "76/76 [==============================] - 0s 2ms/step - loss: 0.4896 - accuracy: 0.7582 - val_loss: 0.7237 - val_accuracy: 0.6292\n",
            "Epoch 41/100\n",
            "76/76 [==============================] - 0s 2ms/step - loss: 0.4938 - accuracy: 0.7364 - val_loss: 0.7142 - val_accuracy: 0.5993\n",
            "Epoch 42/100\n",
            "76/76 [==============================] - 0s 2ms/step - loss: 0.4790 - accuracy: 0.7668 - val_loss: 0.7114 - val_accuracy: 0.6067\n",
            "Epoch 43/100\n",
            "76/76 [==============================] - 0s 2ms/step - loss: 0.4751 - accuracy: 0.7689 - val_loss: 0.7078 - val_accuracy: 0.6105\n",
            "Epoch 44/100\n",
            "76/76 [==============================] - 0s 2ms/step - loss: 0.4723 - accuracy: 0.7614 - val_loss: 0.7033 - val_accuracy: 0.6180\n",
            "Epoch 45/100\n",
            "76/76 [==============================] - 0s 2ms/step - loss: 0.4744 - accuracy: 0.7637 - val_loss: 0.7155 - val_accuracy: 0.6404\n",
            "Epoch 46/100\n",
            "76/76 [==============================] - 0s 2ms/step - loss: 0.4503 - accuracy: 0.7834 - val_loss: 0.7018 - val_accuracy: 0.6255\n",
            "Epoch 47/100\n",
            "76/76 [==============================] - 0s 2ms/step - loss: 0.4618 - accuracy: 0.7831 - val_loss: 0.7292 - val_accuracy: 0.5955\n",
            "Epoch 48/100\n",
            "76/76 [==============================] - 0s 2ms/step - loss: 0.4643 - accuracy: 0.7628 - val_loss: 0.7533 - val_accuracy: 0.6105\n",
            "Epoch 49/100\n",
            "76/76 [==============================] - 0s 2ms/step - loss: 0.4701 - accuracy: 0.7811 - val_loss: 0.7568 - val_accuracy: 0.5993\n",
            "Epoch 50/100\n",
            "76/76 [==============================] - 0s 2ms/step - loss: 0.4526 - accuracy: 0.7831 - val_loss: 0.7261 - val_accuracy: 0.6067\n",
            "Epoch 51/100\n",
            "76/76 [==============================] - 0s 2ms/step - loss: 0.4407 - accuracy: 0.7907 - val_loss: 0.7401 - val_accuracy: 0.6180\n",
            "Epoch 52/100\n",
            "76/76 [==============================] - 0s 2ms/step - loss: 0.4677 - accuracy: 0.7804 - val_loss: 0.7326 - val_accuracy: 0.6180\n",
            "Epoch 53/100\n",
            "76/76 [==============================] - 0s 2ms/step - loss: 0.4373 - accuracy: 0.7877 - val_loss: 0.7792 - val_accuracy: 0.5955\n",
            "Epoch 54/100\n",
            "76/76 [==============================] - 0s 2ms/step - loss: 0.4579 - accuracy: 0.7742 - val_loss: 0.7600 - val_accuracy: 0.6105\n",
            "Epoch 55/100\n",
            "76/76 [==============================] - 0s 2ms/step - loss: 0.4426 - accuracy: 0.7823 - val_loss: 0.7896 - val_accuracy: 0.6180\n",
            "Epoch 56/100\n",
            "76/76 [==============================] - 0s 2ms/step - loss: 0.4305 - accuracy: 0.7877 - val_loss: 0.7643 - val_accuracy: 0.6217\n",
            "Epoch 57/100\n",
            "76/76 [==============================] - 0s 2ms/step - loss: 0.4468 - accuracy: 0.7838 - val_loss: 0.7585 - val_accuracy: 0.6180\n",
            "Epoch 58/100\n",
            "76/76 [==============================] - 0s 2ms/step - loss: 0.4207 - accuracy: 0.8140 - val_loss: 0.7633 - val_accuracy: 0.6217\n",
            "Epoch 59/100\n",
            "76/76 [==============================] - 0s 2ms/step - loss: 0.4102 - accuracy: 0.8170 - val_loss: 0.7586 - val_accuracy: 0.6142\n",
            "Epoch 60/100\n",
            "76/76 [==============================] - 0s 2ms/step - loss: 0.4285 - accuracy: 0.7941 - val_loss: 0.7466 - val_accuracy: 0.6180\n",
            "Epoch 61/100\n",
            "76/76 [==============================] - 0s 6ms/step - loss: 0.4356 - accuracy: 0.8061 - val_loss: 0.8049 - val_accuracy: 0.6142\n",
            "Epoch 62/100\n",
            "76/76 [==============================] - 0s 2ms/step - loss: 0.4548 - accuracy: 0.7756 - val_loss: 0.7762 - val_accuracy: 0.5955\n",
            "Epoch 63/100\n",
            "76/76 [==============================] - 0s 2ms/step - loss: 0.4091 - accuracy: 0.8194 - val_loss: 0.7431 - val_accuracy: 0.6105\n",
            "Epoch 64/100\n",
            "76/76 [==============================] - 0s 2ms/step - loss: 0.4156 - accuracy: 0.8153 - val_loss: 0.7694 - val_accuracy: 0.6217\n",
            "Epoch 65/100\n",
            "76/76 [==============================] - 0s 2ms/step - loss: 0.3995 - accuracy: 0.8238 - val_loss: 0.7853 - val_accuracy: 0.5880\n",
            "Epoch 66/100\n",
            "76/76 [==============================] - 0s 2ms/step - loss: 0.4107 - accuracy: 0.8175 - val_loss: 0.8067 - val_accuracy: 0.6292\n",
            "Epoch 67/100\n",
            "76/76 [==============================] - 0s 2ms/step - loss: 0.4087 - accuracy: 0.8166 - val_loss: 0.7785 - val_accuracy: 0.6142\n",
            "Epoch 68/100\n",
            "76/76 [==============================] - 0s 2ms/step - loss: 0.3924 - accuracy: 0.8307 - val_loss: 0.8024 - val_accuracy: 0.5993\n",
            "Epoch 69/100\n",
            "76/76 [==============================] - 0s 2ms/step - loss: 0.4070 - accuracy: 0.8187 - val_loss: 0.8593 - val_accuracy: 0.5843\n",
            "Epoch 70/100\n",
            "76/76 [==============================] - 0s 2ms/step - loss: 0.3937 - accuracy: 0.8231 - val_loss: 0.7956 - val_accuracy: 0.6067\n",
            "Epoch 71/100\n",
            "76/76 [==============================] - 0s 2ms/step - loss: 0.4107 - accuracy: 0.7997 - val_loss: 0.8125 - val_accuracy: 0.5955\n",
            "Epoch 72/100\n",
            "76/76 [==============================] - 0s 2ms/step - loss: 0.3742 - accuracy: 0.8336 - val_loss: 0.8145 - val_accuracy: 0.5918\n",
            "Epoch 73/100\n",
            "76/76 [==============================] - 0s 2ms/step - loss: 0.3777 - accuracy: 0.8385 - val_loss: 0.8171 - val_accuracy: 0.6030\n",
            "Epoch 74/100\n",
            "76/76 [==============================] - 0s 2ms/step - loss: 0.3809 - accuracy: 0.8465 - val_loss: 0.8156 - val_accuracy: 0.6292\n",
            "Epoch 75/100\n",
            "76/76 [==============================] - 0s 2ms/step - loss: 0.3765 - accuracy: 0.8236 - val_loss: 0.7972 - val_accuracy: 0.6330\n",
            "Epoch 76/100\n",
            "76/76 [==============================] - 0s 2ms/step - loss: 0.3839 - accuracy: 0.8317 - val_loss: 0.8222 - val_accuracy: 0.6067\n",
            "Epoch 77/100\n",
            "76/76 [==============================] - 0s 2ms/step - loss: 0.3792 - accuracy: 0.8431 - val_loss: 0.8684 - val_accuracy: 0.5955\n",
            "Epoch 78/100\n",
            "76/76 [==============================] - 0s 2ms/step - loss: 0.3688 - accuracy: 0.8325 - val_loss: 0.8359 - val_accuracy: 0.6255\n",
            "Epoch 79/100\n",
            "76/76 [==============================] - 0s 2ms/step - loss: 0.3832 - accuracy: 0.8219 - val_loss: 0.9001 - val_accuracy: 0.5880\n",
            "Epoch 80/100\n",
            "76/76 [==============================] - 0s 2ms/step - loss: 0.3661 - accuracy: 0.8410 - val_loss: 0.8850 - val_accuracy: 0.5918\n",
            "Epoch 81/100\n",
            "76/76 [==============================] - 0s 2ms/step - loss: 0.3641 - accuracy: 0.8405 - val_loss: 0.8273 - val_accuracy: 0.6217\n",
            "Epoch 82/100\n",
            "76/76 [==============================] - 0s 2ms/step - loss: 0.3460 - accuracy: 0.8477 - val_loss: 0.8466 - val_accuracy: 0.5955\n",
            "Epoch 83/100\n",
            "76/76 [==============================] - 0s 2ms/step - loss: 0.3525 - accuracy: 0.8424 - val_loss: 0.8781 - val_accuracy: 0.6180\n",
            "Epoch 84/100\n",
            "76/76 [==============================] - 0s 2ms/step - loss: 0.3588 - accuracy: 0.8414 - val_loss: 0.8818 - val_accuracy: 0.6105\n",
            "Epoch 85/100\n",
            "76/76 [==============================] - 0s 2ms/step - loss: 0.3588 - accuracy: 0.8398 - val_loss: 0.8625 - val_accuracy: 0.6142\n",
            "Epoch 86/100\n",
            "76/76 [==============================] - 0s 2ms/step - loss: 0.3371 - accuracy: 0.8462 - val_loss: 0.8520 - val_accuracy: 0.6255\n",
            "Epoch 87/100\n",
            "76/76 [==============================] - 0s 2ms/step - loss: 0.3545 - accuracy: 0.8420 - val_loss: 0.8774 - val_accuracy: 0.6067\n",
            "Epoch 88/100\n",
            "76/76 [==============================] - 0s 2ms/step - loss: 0.3534 - accuracy: 0.8474 - val_loss: 0.9013 - val_accuracy: 0.6105\n",
            "Epoch 89/100\n",
            "76/76 [==============================] - 0s 2ms/step - loss: 0.3392 - accuracy: 0.8636 - val_loss: 0.8955 - val_accuracy: 0.5993\n",
            "Epoch 90/100\n",
            "76/76 [==============================] - 0s 2ms/step - loss: 0.3321 - accuracy: 0.8576 - val_loss: 0.9178 - val_accuracy: 0.6067\n",
            "Epoch 91/100\n",
            "76/76 [==============================] - 0s 2ms/step - loss: 0.3462 - accuracy: 0.8480 - val_loss: 0.9117 - val_accuracy: 0.6030\n",
            "Epoch 92/100\n",
            "76/76 [==============================] - 0s 2ms/step - loss: 0.3511 - accuracy: 0.8450 - val_loss: 0.9315 - val_accuracy: 0.5805\n",
            "Epoch 93/100\n",
            "76/76 [==============================] - 0s 2ms/step - loss: 0.3238 - accuracy: 0.8725 - val_loss: 0.9543 - val_accuracy: 0.5880\n",
            "Epoch 94/100\n",
            "76/76 [==============================] - 0s 2ms/step - loss: 0.3257 - accuracy: 0.8590 - val_loss: 0.9375 - val_accuracy: 0.6030\n",
            "Epoch 95/100\n",
            "76/76 [==============================] - 0s 2ms/step - loss: 0.3196 - accuracy: 0.8672 - val_loss: 0.9143 - val_accuracy: 0.6105\n",
            "Epoch 96/100\n",
            "76/76 [==============================] - 0s 2ms/step - loss: 0.3203 - accuracy: 0.8624 - val_loss: 0.9402 - val_accuracy: 0.6067\n",
            "Epoch 97/100\n",
            "76/76 [==============================] - 0s 2ms/step - loss: 0.3231 - accuracy: 0.8612 - val_loss: 0.9400 - val_accuracy: 0.6255\n",
            "Epoch 98/100\n",
            "76/76 [==============================] - 0s 2ms/step - loss: 0.3155 - accuracy: 0.8659 - val_loss: 0.9512 - val_accuracy: 0.5918\n",
            "Epoch 99/100\n",
            "76/76 [==============================] - 0s 2ms/step - loss: 0.3101 - accuracy: 0.8728 - val_loss: 0.9842 - val_accuracy: 0.6142\n",
            "Epoch 100/100\n",
            "76/76 [==============================] - 0s 2ms/step - loss: 0.3194 - accuracy: 0.8707 - val_loss: 1.0531 - val_accuracy: 0.5805\n"
          ],
          "name": "stdout"
        }
      ]
    },
    {
      "cell_type": "code",
      "metadata": {
        "colab": {
          "base_uri": "https://localhost:8080/"
        },
        "id": "sYQTlwuog_DJ",
        "outputId": "d9126446-f2d1-4693-9416-d107d828ec95"
      },
      "source": [
        "loss, accuracy = model.evaluate(x_test, y_test)\n",
        "print(\"Accuracy = {:.2f}\".format(accuracy))"
      ],
      "execution_count": null,
      "outputs": [
        {
          "output_type": "stream",
          "text": [
            "9/9 [==============================] - 0s 2ms/step - loss: 1.0531 - accuracy: 0.5805\n",
            "Accuracy = 0.58\n"
          ],
          "name": "stdout"
        }
      ]
    },
    {
      "cell_type": "code",
      "metadata": {
        "id": "Jk3W4-1glkjF"
      },
      "source": [
        ""
      ],
      "execution_count": null,
      "outputs": []
    }
  ]
}