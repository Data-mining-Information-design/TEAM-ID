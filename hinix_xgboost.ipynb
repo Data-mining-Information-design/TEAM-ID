{
 "cells": [
  {
   "cell_type": "code",
   "execution_count": 168,
   "metadata": {},
   "outputs": [],
   "source": [
    "import pandas as pd\n",
    "import numpy as np\n",
    "import matplotlib.pyplot as plt\n",
    "from datetime import datetime\n",
    "import xgboost as xgb\n",
    "from xgboost import plot_importance, plot_tree\n",
    "from xgboost import XGBClassifier\n",
    "from sklearn.model_selection import train_test_split\n",
    "from sklearn.metrics import accuracy_score, confusion_matrix, classification_report "
   ]
  },
  {
   "cell_type": "code",
   "execution_count": 169,
   "metadata": {
    "scrolled": true
   },
   "outputs": [
    {
     "name": "stdout",
     "output_type": "stream",
     "text": [
      "<class 'pandas.core.frame.DataFrame'>\n",
      "Index: 5275 entries, 2000-01-04 to 2021-05-14\n",
      "Data columns (total 19 columns):\n",
      " #   Column         Non-Null Count  Dtype  \n",
      "---  ------         --------------  -----  \n",
      " 0   등락분류           5275 non-null   int64  \n",
      " 1   종가             5275 non-null   int64  \n",
      " 2   대비             5275 non-null   int64  \n",
      " 3   시가             5275 non-null   int64  \n",
      " 4   고가             5275 non-null   int64  \n",
      " 5   저가             5275 non-null   int64  \n",
      " 6   거래량            5275 non-null   int64  \n",
      " 7   거래대금           5275 non-null   float64\n",
      " 8   시가총액           5275 non-null   float64\n",
      " 9   상장주식수          5275 non-null   int64  \n",
      " 10  환율             5275 non-null   float64\n",
      " 11  유가종가           5275 non-null   float64\n",
      " 12  유가오픈           5275 non-null   float64\n",
      " 13  유가고가           5275 non-null   float64\n",
      " 14  유가저가           5275 non-null   float64\n",
      " 15  유가변동률          5275 non-null   float64\n",
      " 16  한국은행기준금리       5275 non-null   float64\n",
      " 17  연준기준금리         5275 non-null   float64\n",
      " 18  한미기준금리차이       5275 non-null   float64\n",
      "dtypes: float64(11), int64(8)\n",
      "memory usage: 824.2+ KB\n"
     ]
    }
   ],
   "source": [
    "#등락으로 분류를 시켰기 때문에 등락 퍼센트는 제거해 주었습니다. 대비는 제거할지 말지 상의를 해 봐야 할 것 같습니다.\n",
    "df=pd.read_csv(r'C:\\DRworks\\hinix_moreshort.csv',encoding='cp949', index_col=0)\n",
    "df.info()"
   ]
  },
  {
   "cell_type": "code",
   "execution_count": 170,
   "metadata": {},
   "outputs": [],
   "source": [
    "#xbbost를 위해 x y 로 데이터 분리 후 dmatrix로 변환 (y=등락정도)\n",
    "X, y = df.iloc[:,1:],df.iloc[:,0]\n",
    "data_dmatrix = xgb.DMatrix(data=X,label=y)\n"
   ]
  },
  {
   "cell_type": "code",
   "execution_count": 171,
   "metadata": {},
   "outputs": [
    {
     "name": "stdout",
     "output_type": "stream",
     "text": [
      "[03:10:06] WARNING: C:/Users/Administrator/workspace/xgboost-win64_release_1.4.0/src/learner.cc:573: \n",
      "Parameters: { \"silent\" } might not be used.\n",
      "\n",
      "  This may not be accurate due to some parameters are only used in language bindings but\n",
      "  passed down to XGBoost core.  Or some parameters are not used but slip through this\n",
      "  verification. Please open an issue if you find above cases.\n",
      "\n",
      "\n",
      "[03:10:06] WARNING: C:/Users/Administrator/workspace/xgboost-win64_release_1.4.0/src/learner.cc:1095: Starting in XGBoost 1.3.0, the default evaluation metric used with the objective 'multi:softprob' was changed from 'merror' to 'mlogloss'. Explicitly set eval_metric if you'd like to restore the old behavior.\n"
     ]
    },
    {
     "data": {
      "text/plain": [
       "XGBClassifier(base_score=0.5, booster='gbtree', colsample_bylevel=0.9,\n",
       "              colsample_bynode=1, colsample_bytree=0.8, gamma=0, gpu_id=-1,\n",
       "              importance_type='gain', interaction_constraints='',\n",
       "              learning_rate=0.300000012, max_delta_step=0, max_depth=8,\n",
       "              min_child_weight=3, missing=nan, monotone_constraints='()',\n",
       "              n_estimators=50, n_jobs=4, nthread=4, num_parallel_tree=1,\n",
       "              objective='multi:softprob', random_state=2, reg_alpha=0,\n",
       "              reg_lambda=1, scale_pos_weight=None, silent=True, subsample=1,\n",
       "              tree_method='exact', validate_parameters=1, verbosity=None)"
      ]
     },
     "execution_count": 171,
     "metadata": {},
     "output_type": "execute_result"
    }
   ],
   "source": [
    "#학습/테스트 데이터 나누기+ xgboost 분류모델 정의\n",
    "X_train, X_test, y_train, y_test = train_test_split(X, y, test_size=0.2, random_state=123)\n",
    "\n",
    "#코로나 시기로 분할할 때 데이터\n",
    "#split = \"2020-03-19\"\n",
    "#train = df[:split]\n",
    "#test= df[split:]\n",
    "\n",
    "#y_train = df.loc[:,'등락분류']\n",
    "#X_train = df.drop('등락분류', axis=1)\n",
    "#y_test = df.loc[:,'등락분류']\n",
    "#X_test = df.drop('등락분류', axis=1)\n",
    "\n",
    "model=XGBClassifier(booster='gbtree', \n",
    "                    colsample_bylevel=0.9, \n",
    "                    colsample_bytree=0.8, \n",
    "                    gamma=0, \n",
    "                    max_depth=8, \n",
    "                    min_child_weight=3, \n",
    "                    n_estimators=50, \n",
    "                    nthread=4, \n",
    "                    objective='multi:softprob', \n",
    "                    random_state=2, \n",
    "                    silent= True)\n",
    "\n",
    "model.fit(X_train, y_train,verbose=False)"
   ]
  },
  {
   "cell_type": "code",
   "execution_count": 172,
   "metadata": {},
   "outputs": [
    {
     "data": {
      "text/plain": [
       "<AxesSubplot:title={'center':'Feature importance'}, xlabel='F score', ylabel='Features'>"
      ]
     },
     "execution_count": 172,
     "metadata": {},
     "output_type": "execute_result"
    },
    {
     "data": {
      "image/png": "[encoded data removed]",
      "text/plain": [
       "<Figure size 720x504 with 1 Axes>"
      ]
     },
     "metadata": {
      "needs_background": "light"
     },
     "output_type": "display_data"
    }
   ],
   "source": [
    "#변수 중요도 그래프\n",
    "plt.rc('font',family='Malgun Gothic')\n",
    "plt.rcParams[\"figure.figsize\"] = (10,7)\n",
    "plot_importance(model, height=0.9)"
   ]
  },
  {
   "cell_type": "code",
   "execution_count": 173,
   "metadata": {},
   "outputs": [
    {
     "name": "stdout",
     "output_type": "stream",
     "text": [
      "              precision    recall  f1-score   support\n",
      "\n",
      "          -2       0.86      0.85      0.85        65\n",
      "          -1       0.98      0.98      0.98       460\n",
      "           0       1.00      1.00      1.00        41\n",
      "           1       0.98      1.00      0.99       432\n",
      "           2       0.98      0.88      0.93        57\n",
      "\n",
      "    accuracy                           0.97      1055\n",
      "   macro avg       0.96      0.94      0.95      1055\n",
      "weighted avg       0.97      0.97      0.97      1055\n",
      "\n"
     ]
    }
   ],
   "source": [
    "#모델 예측\n",
    "y_pred = model.predict(X_test)\n",
    "y_true = y_test\n",
    "\n",
    "acc = accuracy_score(y_true, y_pred)\n",
    "con_mat = confusion_matrix(y_true, y_pred)\n",
    "con_mat\n",
    "report = classification_report(y_true, y_pred)\n",
    "print(report)"
   ]
  },
  {
   "cell_type": "code",
   "execution_count": null,
   "metadata": {},
   "outputs": [],
   "source": []
  }
 ],
 "metadata": {
  "kernelspec": {
   "display_name": "Python 3",
   "language": "python",
   "name": "python3"
  },
  "language_info": {
   "codemirror_mode": {
    "name": "ipython",
    "version": 3
   },
   "file_extension": ".py",
   "mimetype": "text/x-python",
   "name": "python",
   "nbconvert_exporter": "python",
   "pygments_lexer": "ipython3",
   "version": "3.8.5"
  }
 },
 "nbformat": 4,
 "nbformat_minor": 4
}
