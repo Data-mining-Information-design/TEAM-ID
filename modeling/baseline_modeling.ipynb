{
 "cells": [
  {
   "cell_type": "code",
   "execution_count": 1,
   "id": "9ad0afc6",
   "metadata": {},
   "outputs": [],
   "source": [
    "import pandas as pd\n",
    "import numpy as np\n",
    "from sklearn.linear_model import LogisticRegression\n",
    "from sklearn.linear_model import LinearRegression\n",
    "from sklearn.model_selection import train_test_split\n",
    "import numpy as np\n",
    "import pandas as pd\n",
    "import matplotlib.pyplot as plt\n",
    "import seaborn as sns\n",
    "%matplotlib inline"
   ]
  },
  {
   "cell_type": "code",
   "execution_count": 2,
   "id": "8502ae6b",
   "metadata": {},
   "outputs": [
    {
     "data": {
      "text/html": [
       "<div>\n",
       "<style scoped>\n",
       "    .dataframe tbody tr th:only-of-type {\n",
       "        vertical-align: middle;\n",
       "    }\n",
       "\n",
       "    .dataframe tbody tr th {\n",
       "        vertical-align: top;\n",
       "    }\n",
       "\n",
       "    .dataframe thead th {\n",
       "        text-align: right;\n",
       "    }\n",
       "</style>\n",
       "<table border=\"1\" class=\"dataframe\">\n",
       "  <thead>\n",
       "    <tr style=\"text-align: right;\">\n",
       "      <th></th>\n",
       "      <th>삼성등락</th>\n",
       "      <th>등락</th>\n",
       "      <th>등락지표</th>\n",
       "      <th>등락분류</th>\n",
       "      <th>종가</th>\n",
       "      <th>대비</th>\n",
       "      <th>등락률</th>\n",
       "      <th>시가</th>\n",
       "      <th>고가</th>\n",
       "      <th>저가</th>\n",
       "      <th>...</th>\n",
       "      <th>거래량코스피</th>\n",
       "      <th>코스피변동</th>\n",
       "      <th>종가코스닥</th>\n",
       "      <th>시가코스닥</th>\n",
       "      <th>고가코스닥</th>\n",
       "      <th>저가코스닥</th>\n",
       "      <th>거래량코스닥</th>\n",
       "      <th>변동코스닥</th>\n",
       "      <th>S.P종가</th>\n",
       "      <th>S.P변동률</th>\n",
       "    </tr>\n",
       "    <tr>\n",
       "      <th>date</th>\n",
       "      <th></th>\n",
       "      <th></th>\n",
       "      <th></th>\n",
       "      <th></th>\n",
       "      <th></th>\n",
       "      <th></th>\n",
       "      <th></th>\n",
       "      <th></th>\n",
       "      <th></th>\n",
       "      <th></th>\n",
       "      <th></th>\n",
       "      <th></th>\n",
       "      <th></th>\n",
       "      <th></th>\n",
       "      <th></th>\n",
       "      <th></th>\n",
       "      <th></th>\n",
       "      <th></th>\n",
       "      <th></th>\n",
       "      <th></th>\n",
       "      <th></th>\n",
       "    </tr>\n",
       "  </thead>\n",
       "  <tbody>\n",
       "    <tr>\n",
       "      <th>2010-07-19</th>\n",
       "      <td>0</td>\n",
       "      <td>1</td>\n",
       "      <td>1</td>\n",
       "      <td>1</td>\n",
       "      <td>23700.0</td>\n",
       "      <td>200</td>\n",
       "      <td>0.85</td>\n",
       "      <td>23700.0</td>\n",
       "      <td>24100</td>\n",
       "      <td>23500</td>\n",
       "      <td>...</td>\n",
       "      <td>282110000.0</td>\n",
       "      <td>-0.37</td>\n",
       "      <td>498.49</td>\n",
       "      <td>494.36</td>\n",
       "      <td>499.63</td>\n",
       "      <td>494.36</td>\n",
       "      <td>506010.0</td>\n",
       "      <td>-0.08</td>\n",
       "      <td>1071.25</td>\n",
       "      <td>0.88</td>\n",
       "    </tr>\n",
       "    <tr>\n",
       "      <th>2010-07-20</th>\n",
       "      <td>1</td>\n",
       "      <td>1</td>\n",
       "      <td>1</td>\n",
       "      <td>1</td>\n",
       "      <td>23850.0</td>\n",
       "      <td>150</td>\n",
       "      <td>0.63</td>\n",
       "      <td>23850.0</td>\n",
       "      <td>24050</td>\n",
       "      <td>23550</td>\n",
       "      <td>...</td>\n",
       "      <td>308030000.0</td>\n",
       "      <td>0.28</td>\n",
       "      <td>499.72</td>\n",
       "      <td>501.32</td>\n",
       "      <td>501.64</td>\n",
       "      <td>498.43</td>\n",
       "      <td>686750.0</td>\n",
       "      <td>0.25</td>\n",
       "      <td>1083.48</td>\n",
       "      <td>0.80</td>\n",
       "    </tr>\n",
       "    <tr>\n",
       "      <th>2010-07-21</th>\n",
       "      <td>1</td>\n",
       "      <td>0</td>\n",
       "      <td>-1</td>\n",
       "      <td>-1</td>\n",
       "      <td>23600.0</td>\n",
       "      <td>-250</td>\n",
       "      <td>-1.05</td>\n",
       "      <td>24250.0</td>\n",
       "      <td>24350</td>\n",
       "      <td>23500</td>\n",
       "      <td>...</td>\n",
       "      <td>375930000.0</td>\n",
       "      <td>0.69</td>\n",
       "      <td>496.73</td>\n",
       "      <td>502.63</td>\n",
       "      <td>503.08</td>\n",
       "      <td>496.73</td>\n",
       "      <td>721150.0</td>\n",
       "      <td>-0.60</td>\n",
       "      <td>1069.59</td>\n",
       "      <td>1.74</td>\n",
       "    </tr>\n",
       "    <tr>\n",
       "      <th>2010-07-22</th>\n",
       "      <td>0</td>\n",
       "      <td>0</td>\n",
       "      <td>-1</td>\n",
       "      <td>-1</td>\n",
       "      <td>22600.0</td>\n",
       "      <td>-1000</td>\n",
       "      <td>-4.24</td>\n",
       "      <td>23850.0</td>\n",
       "      <td>24000</td>\n",
       "      <td>22250</td>\n",
       "      <td>...</td>\n",
       "      <td>405180000.0</td>\n",
       "      <td>-0.76</td>\n",
       "      <td>484.72</td>\n",
       "      <td>496.47</td>\n",
       "      <td>497.84</td>\n",
       "      <td>482.97</td>\n",
       "      <td>668020.0</td>\n",
       "      <td>-2.42</td>\n",
       "      <td>1093.67</td>\n",
       "      <td>-1.40</td>\n",
       "    </tr>\n",
       "    <tr>\n",
       "      <th>2010-07-23</th>\n",
       "      <td>1</td>\n",
       "      <td>1</td>\n",
       "      <td>1</td>\n",
       "      <td>1</td>\n",
       "      <td>23250.0</td>\n",
       "      <td>650</td>\n",
       "      <td>2.88</td>\n",
       "      <td>23000.0</td>\n",
       "      <td>23400</td>\n",
       "      <td>22800</td>\n",
       "      <td>...</td>\n",
       "      <td>372760000.0</td>\n",
       "      <td>1.30</td>\n",
       "      <td>483.69</td>\n",
       "      <td>490.17</td>\n",
       "      <td>490.65</td>\n",
       "      <td>480.66</td>\n",
       "      <td>532190.0</td>\n",
       "      <td>-0.21</td>\n",
       "      <td>1102.66</td>\n",
       "      <td>1.80</td>\n",
       "    </tr>\n",
       "  </tbody>\n",
       "</table>\n",
       "<p>5 rows × 42 columns</p>\n",
       "</div>"
      ],
      "text/plain": [
       "            삼성등락  등락  등락지표  등락분류       종가    대비   등락률       시가     고가     저가  \\\n",
       "date                                                                           \n",
       "2010-07-19     0   1     1     1  23700.0   200  0.85  23700.0  24100  23500   \n",
       "2010-07-20     1   1     1     1  23850.0   150  0.63  23850.0  24050  23550   \n",
       "2010-07-21     1   0    -1    -1  23600.0  -250 -1.05  24250.0  24350  23500   \n",
       "2010-07-22     0   0    -1    -1  22600.0 -1000 -4.24  23850.0  24000  22250   \n",
       "2010-07-23     1   1     1     1  23250.0   650  2.88  23000.0  23400  22800   \n",
       "\n",
       "            ...       거래량코스피  코스피변동   종가코스닥   시가코스닥   고가코스닥   저가코스닥    거래량코스닥  \\\n",
       "date        ...                                                                 \n",
       "2010-07-19  ...  282110000.0  -0.37  498.49  494.36  499.63  494.36  506010.0   \n",
       "2010-07-20  ...  308030000.0   0.28  499.72  501.32  501.64  498.43  686750.0   \n",
       "2010-07-21  ...  375930000.0   0.69  496.73  502.63  503.08  496.73  721150.0   \n",
       "2010-07-22  ...  405180000.0  -0.76  484.72  496.47  497.84  482.97  668020.0   \n",
       "2010-07-23  ...  372760000.0   1.30  483.69  490.17  490.65  480.66  532190.0   \n",
       "\n",
       "            변동코스닥    S.P종가  S.P변동률  \n",
       "date                                \n",
       "2010-07-19  -0.08  1071.25    0.88  \n",
       "2010-07-20   0.25  1083.48    0.80  \n",
       "2010-07-21  -0.60  1069.59    1.74  \n",
       "2010-07-22  -2.42  1093.67   -1.40  \n",
       "2010-07-23  -0.21  1102.66    1.80  \n",
       "\n",
       "[5 rows x 42 columns]"
      ]
     },
     "execution_count": 2,
     "metadata": {},
     "output_type": "execute_result"
    }
   ],
   "source": [
    "df = pd.read_csv('hynix_short.csv',index_col=0,parse_dates=[0], dayfirst=False,infer_datetime_format=True, encoding='cp949')\n",
    "df.head()"
   ]
  },
  {
   "cell_type": "code",
   "execution_count": 4,
   "id": "54d78173",
   "metadata": {},
   "outputs": [
    {
     "name": "stdout",
     "output_type": "stream",
     "text": [
      "삼성등락         0\n",
      "등락           0\n",
      "등락지표         0\n",
      "등락분류         0\n",
      "종가           0\n",
      "대비           0\n",
      "등락률          0\n",
      "시가           0\n",
      "고가           0\n",
      "저가           0\n",
      "거래량          0\n",
      "거래대금         0\n",
      "시가총액         0\n",
      "상장주식수        0\n",
      "환율           0\n",
      "유가종가         0\n",
      "유가오픈         0\n",
      "유가고가         0\n",
      "유가저가         0\n",
      "유가변동률        0\n",
      "한국은행기준금리     0\n",
      "연준기준금리       0\n",
      "한미기준금리차이     0\n",
      "반도체수출금액지수    9\n",
      "삼성종가         0\n",
      "SOX종가        0\n",
      "SOX변동률       0\n",
      "BTC종가        0\n",
      "BTC변동률       0\n",
      "종가코스피        0\n",
      "고가코스피        0\n",
      "저가코스피        0\n",
      "거래량코스피       0\n",
      "코스피변동        0\n",
      "종가코스닥        0\n",
      "시가코스닥        0\n",
      "고가코스닥        0\n",
      "저가코스닥        0\n",
      "거래량코스닥       0\n",
      "변동코스닥        0\n",
      "S.P종가        0\n",
      "S.P변동률       0\n",
      "dtype: int64\n",
      "(2670, 42)\n",
      "['삼성등락', '등락', '등락지표', '등락분류', '종가', '대비', '등락률', '시가', '고가', '저가', '거래량', '거래대금', '시가총액', '상장주식수', '환율', '유가종가', '유가오픈', '유가고가', '유가저가', '유가변동률', '한국은행기준금리', '연준기준금리', '한미기준금리차이', '반도체수출금액지수', '삼성종가', 'SOX종가', 'SOX변동률', 'BTC종가', 'BTC변동률', '종가코스피', '고가코스피', '저가코스피', '거래량코스피', '코스피변동', '종가코스닥', '시가코스닥', '고가코스닥', '저가코스닥', '거래량코스닥', '변동코스닥', 'S.P종가', 'S.P변동률']\n"
     ]
    }
   ],
   "source": [
    "print(df.isna().sum())\n",
    "print(df.shape)\n",
    "print(list(df.columns))"
   ]
  },
  {
   "cell_type": "code",
   "execution_count": 5,
   "id": "c55a2952",
   "metadata": {},
   "outputs": [],
   "source": [
    "df = df.dropna(axis=0)"
   ]
  },
  {
   "cell_type": "code",
   "execution_count": 7,
   "id": "cb1fcd04",
   "metadata": {},
   "outputs": [],
   "source": [
    "features = df[['종가','시가', '고가', '저가', '거래량', '거래대금', '시가총액', '상장주식수', '환율', '유가종가', '유가오픈', '유가고가', '유가저가', '유가변동률', '한국은행기준금리', '연준기준금리', '한미기준금리차이', '반도체수출금액지수', '삼성종가', 'SOX종가', 'SOX변동률', 'BTC종가', 'BTC변동률', '종가코스피', '고가코스피', '저가코스피', '거래량코스피', '코스피변동', '종가코스닥', '시가코스닥', '고가코스닥', '저가코스닥', '거래량코스닥', '변동코스닥', 'S.P종가', 'S.P변동률']]\n",
    "target = df['삼성등락']"
   ]
  },
  {
   "cell_type": "code",
   "execution_count": 8,
   "id": "c94c1464",
   "metadata": {},
   "outputs": [],
   "source": [
    "random_seed = np.random.seed(2021)\n",
    "x_train, x_test, y_train, y_test = train_test_split(features, target, test_size=0.1, random_state=random_seed)"
   ]
  },
  {
   "cell_type": "markdown",
   "id": "257dcf1a",
   "metadata": {},
   "source": [
    "## Rogistic Regression"
   ]
  },
  {
   "cell_type": "code",
   "execution_count": 10,
   "id": "1f3ac7d8",
   "metadata": {},
   "outputs": [
    {
     "name": "stdout",
     "output_type": "stream",
     "text": [
      "(2394, 36)\n",
      "(267, 36)\n"
     ]
    },
    {
     "name": "stderr",
     "output_type": "stream",
     "text": [
      "c:\\users\\waudy\\appdata\\local\\programs\\python\\python39\\lib\\site-packages\\sklearn\\linear_model\\_logistic.py:763: ConvergenceWarning: lbfgs failed to converge (status=1):\n",
      "STOP: TOTAL NO. of ITERATIONS REACHED LIMIT.\n",
      "\n",
      "Increase the number of iterations (max_iter) or scale the data as shown in:\n",
      "    https://scikit-learn.org/stable/modules/preprocessing.html\n",
      "Please also refer to the documentation for alternative solver options:\n",
      "    https://scikit-learn.org/stable/modules/linear_model.html#logistic-regression\n",
      "  n_iter_i = _check_optimize_result(\n"
     ]
    }
   ],
   "source": [
    "from sklearn.preprocessing import StandardScaler\n",
    "scaler = StandardScaler()\n",
    "\n",
    "x_train = scaler.fit_transform(x_train)\n",
    "x_test = scaler.transform(x_test)\n",
    "\n",
    "model = LogisticRegression()\n",
    "model.fit(x_train, y_train)\n",
    "\n",
    "print(x_train.shape)\n",
    "print(x_test.shape)"
   ]
  },
  {
   "cell_type": "code",
   "execution_count": 11,
   "id": "66c1f52f",
   "metadata": {},
   "outputs": [
    {
     "name": "stdout",
     "output_type": "stream",
     "text": [
      "0.768170426065163\n"
     ]
    }
   ],
   "source": [
    "print(model.score(x_train, y_train))"
   ]
  },
  {
   "cell_type": "code",
   "execution_count": 12,
   "id": "8e8ca958",
   "metadata": {},
   "outputs": [
    {
     "name": "stdout",
     "output_type": "stream",
     "text": [
      "0.797752808988764\n"
     ]
    }
   ],
   "source": [
    "print(model.score(x_test, y_test))"
   ]
  },
  {
   "cell_type": "code",
   "execution_count": 13,
   "id": "5e98a871",
   "metadata": {},
   "outputs": [
    {
     "name": "stdout",
     "output_type": "stream",
     "text": [
      "[[ 0.80525789 -1.52931908 -0.10717355 -0.16442409  0.10405146 -0.05958064\n",
      "   0.97514061 -0.13625919  0.02309074 -0.04186482  0.35407373 -0.93654921\n",
      "   0.16482197  0.01518728  0.42502801 -0.00939291 -0.27740025  0.09696598\n",
      "   0.83995069 -0.66194957 -0.0584754   0.14373106  0.02725114 -0.65981873\n",
      "   0.75155725 -0.38172821 -0.09910715  2.85301316 -0.46804175  0.26865397\n",
      "   0.65005568 -0.32143569 -0.233707   -0.92113926  0.44990153 -0.0044121 ]]\n"
     ]
    }
   ],
   "source": [
    "print(model.coef_)"
   ]
  },
  {
   "cell_type": "markdown",
   "id": "d84f87f8",
   "metadata": {},
   "source": [
    "## Linear Regression"
   ]
  },
  {
   "cell_type": "code",
   "execution_count": 14,
   "id": "5142c20f",
   "metadata": {},
   "outputs": [
    {
     "name": "stdout",
     "output_type": "stream",
     "text": [
      "(2394, 36)\n",
      "(267, 36)\n"
     ]
    }
   ],
   "source": [
    "lr = LinearRegression()\n",
    "lr.fit(x_train, y_train)\n",
    "\n",
    "print(x_train.shape)\n",
    "print(x_test.shape)"
   ]
  },
  {
   "cell_type": "code",
   "execution_count": 15,
   "id": "941c1998",
   "metadata": {},
   "outputs": [
    {
     "name": "stdout",
     "output_type": "stream",
     "text": [
      "0.3176504066320265\n"
     ]
    }
   ],
   "source": [
    "print(lr.score(x_train, y_train))"
   ]
  },
  {
   "cell_type": "code",
   "execution_count": 16,
   "id": "8e8f77a1",
   "metadata": {},
   "outputs": [
    {
     "name": "stdout",
     "output_type": "stream",
     "text": [
      "0.3381622370984785\n"
     ]
    }
   ],
   "source": [
    "print(lr.score(x_test, y_test))"
   ]
  },
  {
   "cell_type": "markdown",
   "id": "25d16bf5",
   "metadata": {},
   "source": [
    "## Random Forest&Decision Tree"
   ]
  },
  {
   "cell_type": "code",
   "execution_count": 17,
   "id": "bbd40e6e",
   "metadata": {},
   "outputs": [
    {
     "data": {
      "text/plain": [
       "RandomForestClassifier(oob_score=True, random_state=2021)"
      ]
     },
     "execution_count": 17,
     "metadata": {},
     "output_type": "execute_result"
    }
   ],
   "source": [
    "from sklearn.ensemble import RandomForestClassifier\n",
    "\n",
    "rf = RandomForestClassifier(n_estimators=100, oob_score=True, random_state=2021)\n",
    "rf.fit(x_train, y_train)"
   ]
  },
  {
   "cell_type": "code",
   "execution_count": 18,
   "id": "afb8695e",
   "metadata": {},
   "outputs": [
    {
     "name": "stdout",
     "output_type": "stream",
     "text": [
      "Out-of-bag score estimate: 0.724\n",
      "Mean accuracy score: 0.757\n"
     ]
    }
   ],
   "source": [
    "from sklearn.metrics import accuracy_score\n",
    "\n",
    "predicted = rf.predict(x_test)\n",
    "accuracy = accuracy_score(y_test, predicted)\n",
    "\n",
    "print(f'Out-of-bag score estimate: {rf.oob_score_:.3}')\n",
    "print(f'Mean accuracy score: {accuracy:.3}')"
   ]
  },
  {
   "cell_type": "code",
   "execution_count": 19,
   "id": "0d086db8",
   "metadata": {},
   "outputs": [
    {
     "data": {
      "text/plain": [
       "DecisionTreeClassifier(max_depth=4, random_state=2021)"
      ]
     },
     "execution_count": 19,
     "metadata": {},
     "output_type": "execute_result"
    }
   ],
   "source": [
    "from sklearn.tree import DecisionTreeClassifier\n",
    "clf_gini = DecisionTreeClassifier(criterion='gini', max_depth=4, random_state=2021)\n",
    "clf_gini.fit(x_train, y_train)"
   ]
  },
  {
   "cell_type": "code",
   "execution_count": 20,
   "id": "65811045",
   "metadata": {},
   "outputs": [
    {
     "name": "stdout",
     "output_type": "stream",
     "text": [
      "Model accuracy score with criterion gini index: 0.7640\n"
     ]
    }
   ],
   "source": [
    "y_pred_gini = clf_gini.predict(x_test)\n",
    "print('Model accuracy score with criterion gini index: {0:0.4f}'. format(accuracy_score(y_test, y_pred_gini)))"
   ]
  },
  {
   "cell_type": "code",
   "execution_count": 21,
   "id": "73a86ede",
   "metadata": {},
   "outputs": [
    {
     "data": {
      "text/plain": [
       "[Text(611.8758620689655, 880.6320000000001, 'X[27] <= 0.004\\ngini = 0.5\\nsamples = 2394\\nvalue = [1187, 1207]'),\n",
       " Text(253.98620689655172, 684.936, 'X[27] <= -0.555\\ngini = 0.377\\nsamples = 1150\\nvalue = [860, 290]'),\n",
       " Text(92.35862068965517, 489.24, 'X[28] <= -1.644\\ngini = 0.166\\nsamples = 513\\nvalue = [466, 47]'),\n",
       " Text(46.179310344827584, 293.544, 'gini = 0.0\\nsamples = 2\\nvalue = [0, 2]'),\n",
       " Text(138.53793103448277, 293.544, 'X[20] <= -0.498\\ngini = 0.161\\nsamples = 511\\nvalue = [466, 45]'),\n",
       " Text(92.35862068965517, 97.84800000000007, 'gini = 0.247\\nsamples = 215\\nvalue = [184, 31]'),\n",
       " Text(184.71724137931034, 97.84800000000007, 'gini = 0.09\\nsamples = 296\\nvalue = [282, 14]'),\n",
       " Text(415.61379310344824, 489.24, 'X[33] <= -0.429\\ngini = 0.472\\nsamples = 637\\nvalue = [394, 243]'),\n",
       " Text(323.2551724137931, 293.544, 'X[34] <= -1.172\\ngini = 0.481\\nsamples = 166\\nvalue = [67, 99]'),\n",
       " Text(277.07586206896553, 97.84800000000007, 'gini = 0.401\\nsamples = 18\\nvalue = [13, 5]'),\n",
       " Text(369.4344827586207, 97.84800000000007, 'gini = 0.463\\nsamples = 148\\nvalue = [54, 94]'),\n",
       " Text(507.97241379310344, 293.544, 'X[27] <= -0.199\\ngini = 0.425\\nsamples = 471\\nvalue = [327, 144]'),\n",
       " Text(461.7931034482758, 97.84800000000007, 'gini = 0.35\\nsamples = 239\\nvalue = [185, 54]'),\n",
       " Text(554.1517241379311, 97.84800000000007, 'gini = 0.475\\nsamples = 232\\nvalue = [142, 90]'),\n",
       " Text(969.7655172413793, 684.936, 'X[27] <= 0.591\\ngini = 0.388\\nsamples = 1244\\nvalue = [327, 917]'),\n",
       " Text(785.048275862069, 489.24, 'X[33] <= 0.318\\ngini = 0.47\\nsamples = 708\\nvalue = [268, 440]'),\n",
       " Text(692.6896551724137, 293.544, 'X[8] <= 0.915\\ngini = 0.421\\nsamples = 381\\nvalue = [115, 266]'),\n",
       " Text(646.5103448275862, 97.84800000000007, 'gini = 0.458\\nsamples = 313\\nvalue = [111, 202]'),\n",
       " Text(738.8689655172413, 97.84800000000007, 'gini = 0.111\\nsamples = 68\\nvalue = [4, 64]'),\n",
       " Text(877.4068965517241, 293.544, 'X[19] <= 1.548\\ngini = 0.498\\nsamples = 327\\nvalue = [153, 174]'),\n",
       " Text(831.2275862068965, 97.84800000000007, 'gini = 0.492\\nsamples = 304\\nvalue = [133, 171]'),\n",
       " Text(923.5862068965516, 97.84800000000007, 'gini = 0.227\\nsamples = 23\\nvalue = [20, 3]'),\n",
       " Text(1154.4827586206895, 489.24, 'X[27] <= 1.006\\ngini = 0.196\\nsamples = 536\\nvalue = [59, 477]'),\n",
       " Text(1062.1241379310345, 293.544, 'X[13] <= 0.704\\ngini = 0.277\\nsamples = 289\\nvalue = [48, 241]'),\n",
       " Text(1015.9448275862069, 97.84800000000007, 'gini = 0.258\\nsamples = 283\\nvalue = [43, 240]'),\n",
       " Text(1108.3034482758621, 97.84800000000007, 'gini = 0.278\\nsamples = 6\\nvalue = [5, 1]'),\n",
       " Text(1246.8413793103448, 293.544, 'X[33] <= -0.889\\ngini = 0.085\\nsamples = 247\\nvalue = [11, 236]'),\n",
       " Text(1200.6620689655172, 97.84800000000007, 'gini = 0.0\\nsamples = 1\\nvalue = [1, 0]'),\n",
       " Text(1293.0206896551724, 97.84800000000007, 'gini = 0.078\\nsamples = 246\\nvalue = [10, 236]')]"
      ]
     },
     "execution_count": 21,
     "metadata": {},
     "output_type": "execute_result"
    },
    {
     "data": {
      "image/png": "[encoded data removed]",
      "text/plain": [
       "<Figure size 1728x1296 with 1 Axes>"
      ]
     },
     "metadata": {
      "needs_background": "light"
     },
     "output_type": "display_data"
    }
   ],
   "source": [
    "plt.figure(figsize=(24,18))\n",
    "from sklearn import tree\n",
    "tree.plot_tree(clf_gini.fit(x_train, y_train)) "
   ]
  }
 ],
 "metadata": {
  "kernelspec": {
   "display_name": "Python 3",
   "language": "python",
   "name": "python3"
  },
  "language_info": {
   "codemirror_mode": {
    "name": "ipython",
    "version": 3
   },
   "file_extension": ".py",
   "mimetype": "text/x-python",
   "name": "python",
   "nbconvert_exporter": "python",
   "pygments_lexer": "ipython3",
   "version": "3.9.4"
  }
 },
 "nbformat": 4,
 "nbformat_minor": 5
}
