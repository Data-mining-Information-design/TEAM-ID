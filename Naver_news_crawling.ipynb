{
 "cells": [
  {
   "cell_type": "code",
   "execution_count": 1,
   "id": "d315f8d7",
   "metadata": {},
   "outputs": [
    {
     "name": "stdout",
     "output_type": "stream",
     "text": [
      "Requirement already satisfied: requests in c:\\users\\waudy\\appdata\\local\\programs\\python\\python39\\lib\\site-packages (2.25.1)\n",
      "Requirement already satisfied: certifi>=2017.4.17 in c:\\users\\waudy\\appdata\\local\\programs\\python\\python39\\lib\\site-packages (from requests) (2020.12.5)\n",
      "Requirement already satisfied: idna<3,>=2.5 in c:\\users\\waudy\\appdata\\local\\programs\\python\\python39\\lib\\site-packages (from requests) (2.10)\n",
      "Requirement already satisfied: urllib3<1.27,>=1.21.1 in c:\\users\\waudy\\appdata\\local\\programs\\python\\python39\\lib\\site-packages (from requests) (1.26.4)\n",
      "Requirement already satisfied: chardet<5,>=3.0.2 in c:\\users\\waudy\\appdata\\local\\programs\\python\\python39\\lib\\site-packages (from requests) (4.0.0)\n",
      "Requirement already satisfied: pandas in c:\\users\\waudy\\appdata\\local\\programs\\python\\python39\\lib\\site-packages (1.2.4)\n",
      "Requirement already satisfied: numpy>=1.16.5 in c:\\users\\waudy\\appdata\\local\\programs\\python\\python39\\lib\\site-packages (from pandas) (1.20.2)\n",
      "Requirement already satisfied: pytz>=2017.3 in c:\\users\\waudy\\appdata\\local\\programs\\python\\python39\\lib\\site-packages (from pandas) (2021.1)\n",
      "Requirement already satisfied: python-dateutil>=2.7.3 in c:\\users\\waudy\\appdata\\local\\programs\\python\\python39\\lib\\site-packages (from pandas) (2.8.1)\n",
      "Requirement already satisfied: six>=1.5 in c:\\users\\waudy\\appdata\\local\\programs\\python\\python39\\lib\\site-packages (from python-dateutil>=2.7.3->pandas) (1.15.0)\n"
     ]
    }
   ],
   "source": [
    "!pip3 install requests\n",
    "!pip3 install pandas"
   ]
  },
  {
   "cell_type": "code",
   "execution_count": 17,
   "id": "33e80416",
   "metadata": {},
   "outputs": [],
   "source": [
    "import requests\n",
    "import pandas as pd\n",
    "import collections as co\n",
    "import re\n",
    "\n",
    "client_id = \"\"\n",
    "client_secret = \"\"\n",
    "\n",
    "keyword = \"sk하이닉스\"\n",
    "respond_type = 'json'\n",
    "Ndisplay = 100\n",
    "sort_type = 'sim' # 시간순 정렬 : date / 관련도순 정렬 : sim\n",
    "start = 1\n",
    "\n",
    "headers = {\n",
    "    'X-Naver-Client-Id' : client_id,\n",
    "    'X-Naver-Client-Secret' : client_secret\n",
    "}"
   ]
  },
  {
   "cell_type": "code",
   "execution_count": 18,
   "id": "aabd9493",
   "metadata": {},
   "outputs": [],
   "source": [
    "search_word = re.sub('[^0-9a-zA-Zㄱ-힗]', ' ', keyword)\n",
    "url = f\"https://openapi.naver.com/v1/search/news.{encode_type}?query={search_word}&display={str(int(max_display))}&start={str(int(start))}&sort={sort}\""
   ]
  },
  {
   "cell_type": "code",
   "execution_count": 26,
   "id": "5e5f6224",
   "metadata": {},
   "outputs": [],
   "source": [
    "res = ''\n",
    "r = requests.get(url, headers=headers) \n",
    "if r.status_code == 200: \n",
    "    res = pd.DataFrame(r.json()['items']) \n",
    "else: print('error with errorCode:',r.status_code)"
   ]
  },
  {
   "cell_type": "code",
   "execution_count": 31,
   "id": "fcb2b05d",
   "metadata": {},
   "outputs": [],
   "source": [
    "df = res"
   ]
  },
  {
   "cell_type": "code",
   "execution_count": 32,
   "id": "417fc1f9",
   "metadata": {},
   "outputs": [],
   "source": [
    "def clean_html(x):\n",
    "  x = re.sub(\"\\&\\w*\\;\",\"\",x)\n",
    "  x = re.sub(\"<.*?>\",\"\",x)\n",
    "  return x\n",
    "\n",
    "df['title'] = df['title'].apply(lambda x: clean_html(x))\n",
    "df['description'] = df['description'].apply(lambda x: clean_html(x))"
   ]
  },
  {
   "cell_type": "code",
   "execution_count": 34,
   "id": "37918df7",
   "metadata": {},
   "outputs": [
    {
     "data": {
      "text/plain": [
       "100"
      ]
     },
     "execution_count": 34,
     "metadata": {},
     "output_type": "execute_result"
    }
   ],
   "source": [
    "len(df)"
   ]
  },
  {
   "cell_type": "code",
   "execution_count": 35,
   "id": "8fc35b5a",
   "metadata": {},
   "outputs": [
    {
     "data": {
      "text/html": [
       "<div>\n",
       "<style scoped>\n",
       "    .dataframe tbody tr th:only-of-type {\n",
       "        vertical-align: middle;\n",
       "    }\n",
       "\n",
       "    .dataframe tbody tr th {\n",
       "        vertical-align: top;\n",
       "    }\n",
       "\n",
       "    .dataframe thead th {\n",
       "        text-align: right;\n",
       "    }\n",
       "</style>\n",
       "<table border=\"1\" class=\"dataframe\">\n",
       "  <thead>\n",
       "    <tr style=\"text-align: right;\">\n",
       "      <th></th>\n",
       "      <th>title</th>\n",
       "      <th>originallink</th>\n",
       "      <th>link</th>\n",
       "      <th>description</th>\n",
       "      <th>pubDate</th>\n",
       "    </tr>\n",
       "  </thead>\n",
       "  <tbody>\n",
       "    <tr>\n",
       "      <th>0</th>\n",
       "      <td>SK하이닉스, 128단 낸드 기반 기업용 SSD 신제품 양산</td>\n",
       "      <td>http://www.bloter.net/newsView/blt202104150016</td>\n",
       "      <td>https://news.naver.com/main/read.nhn?mode=LSD&amp;...</td>\n",
       "      <td>SK하이닉스가 데이터센터에 사용되는 기업용 SSD(솔리드 스테이트 드라이브) ‘PE...</td>\n",
       "      <td>Thu, 15 Apr 2021 11:50:00 +0900</td>\n",
       "    </tr>\n",
       "    <tr>\n",
       "      <th>1</th>\n",
       "      <td>SK하이닉스, 기업용 SSD 'PE8110 E1.S' 양산…완전한 라인업 구축</td>\n",
       "      <td>https://view.asiae.co.kr/article/2021041509315...</td>\n",
       "      <td>https://news.naver.com/main/read.nhn?mode=LSD&amp;...</td>\n",
       "      <td>SK하이닉스가 데이터센터에 사용되는 기업용 솔리드스테이트드라이브(SSD) 제품인 '...</td>\n",
       "      <td>Thu, 15 Apr 2021 09:31:00 +0900</td>\n",
       "    </tr>\n",
       "    <tr>\n",
       "      <th>2</th>\n",
       "      <td>'영화 2000편 저장' SK하이닉스, 업계 최고 성능 기업용 SSD 양산</td>\n",
       "      <td>https://biz.chosun.com/site/data/html_dir/2021...</td>\n",
       "      <td>https://news.naver.com/main/read.nhn?mode=LSD&amp;...</td>\n",
       "      <td>SK하이닉스는 15일 데이터센터 등에 사용되는 기업용 솔리드스테이트 드라이브(SSD...</td>\n",
       "      <td>Thu, 15 Apr 2021 10:15:00 +0900</td>\n",
       "    </tr>\n",
       "    <tr>\n",
       "      <th>3</th>\n",
       "      <td>SK하이닉스, 기업용 SSD 신제품 양산…'ESG 경영'도 박차</td>\n",
       "      <td>http://sports.chosun.com/news/ntype.htm?id=202...</td>\n",
       "      <td>https://news.naver.com/main/read.nhn?mode=LSD&amp;...</td>\n",
       "      <td>SK하이닉스가 데이터센터에 사용되는 기업용 SSD 제품인 'PE8110 E1.S'의...</td>\n",
       "      <td>Thu, 15 Apr 2021 15:18:00 +0900</td>\n",
       "    </tr>\n",
       "    <tr>\n",
       "      <th>4</th>\n",
       "      <td>SK하이닉스, 고성능 기업용 SSD 신제품 'PE8110 E1.S' 양산</td>\n",
       "      <td>https://www.news1.kr/articles/?4275261</td>\n",
       "      <td>https://news.naver.com/main/read.nhn?mode=LSD&amp;...</td>\n",
       "      <td>SK하이닉스는 15일 데이터센터에 사용되는 기업용 SSD(솔리드 스테이트 드라이브)...</td>\n",
       "      <td>Thu, 15 Apr 2021 09:23:00 +0900</td>\n",
       "    </tr>\n",
       "  </tbody>\n",
       "</table>\n",
       "</div>"
      ],
      "text/plain": [
       "                                         title  \\\n",
       "0            SK하이닉스, 128단 낸드 기반 기업용 SSD 신제품 양산   \n",
       "1  SK하이닉스, 기업용 SSD 'PE8110 E1.S' 양산…완전한 라인업 구축   \n",
       "2    '영화 2000편 저장' SK하이닉스, 업계 최고 성능 기업용 SSD 양산   \n",
       "3          SK하이닉스, 기업용 SSD 신제품 양산…'ESG 경영'도 박차   \n",
       "4     SK하이닉스, 고성능 기업용 SSD 신제품 'PE8110 E1.S' 양산   \n",
       "\n",
       "                                        originallink  \\\n",
       "0     http://www.bloter.net/newsView/blt202104150016   \n",
       "1  https://view.asiae.co.kr/article/2021041509315...   \n",
       "2  https://biz.chosun.com/site/data/html_dir/2021...   \n",
       "3  http://sports.chosun.com/news/ntype.htm?id=202...   \n",
       "4             https://www.news1.kr/articles/?4275261   \n",
       "\n",
       "                                                link  \\\n",
       "0  https://news.naver.com/main/read.nhn?mode=LSD&...   \n",
       "1  https://news.naver.com/main/read.nhn?mode=LSD&...   \n",
       "2  https://news.naver.com/main/read.nhn?mode=LSD&...   \n",
       "3  https://news.naver.com/main/read.nhn?mode=LSD&...   \n",
       "4  https://news.naver.com/main/read.nhn?mode=LSD&...   \n",
       "\n",
       "                                         description  \\\n",
       "0  SK하이닉스가 데이터센터에 사용되는 기업용 SSD(솔리드 스테이트 드라이브) ‘PE...   \n",
       "1  SK하이닉스가 데이터센터에 사용되는 기업용 솔리드스테이트드라이브(SSD) 제품인 '...   \n",
       "2  SK하이닉스는 15일 데이터센터 등에 사용되는 기업용 솔리드스테이트 드라이브(SSD...   \n",
       "3  SK하이닉스가 데이터센터에 사용되는 기업용 SSD 제품인 'PE8110 E1.S'의...   \n",
       "4  SK하이닉스는 15일 데이터센터에 사용되는 기업용 SSD(솔리드 스테이트 드라이브)...   \n",
       "\n",
       "                           pubDate  \n",
       "0  Thu, 15 Apr 2021 11:50:00 +0900  \n",
       "1  Thu, 15 Apr 2021 09:31:00 +0900  \n",
       "2  Thu, 15 Apr 2021 10:15:00 +0900  \n",
       "3  Thu, 15 Apr 2021 15:18:00 +0900  \n",
       "4  Thu, 15 Apr 2021 09:23:00 +0900  "
      ]
     },
     "execution_count": 35,
     "metadata": {},
     "output_type": "execute_result"
    }
   ],
   "source": [
    "df.head()"
   ]
  },
  {
   "cell_type": "code",
   "execution_count": 36,
   "id": "5ffcdfb2",
   "metadata": {},
   "outputs": [],
   "source": [
    "df.to_csv(f'news_search_result_{search_word}.csv')"
   ]
  },
  {
   "cell_type": "code",
   "execution_count": null,
   "id": "a0217f66",
   "metadata": {},
   "outputs": [],
   "source": []
  }
 ],
 "metadata": {
  "kernelspec": {
   "display_name": "Python 3",
   "language": "python",
   "name": "python3"
  },
  "language_info": {
   "codemirror_mode": {
    "name": "ipython",
    "version": 3
   },
   "file_extension": ".py",
   "mimetype": "text/x-python",
   "name": "python",
   "nbconvert_exporter": "python",
   "pygments_lexer": "ipython3",
   "version": "3.9.4"
  }
 },
 "nbformat": 4,
 "nbformat_minor": 5
}
